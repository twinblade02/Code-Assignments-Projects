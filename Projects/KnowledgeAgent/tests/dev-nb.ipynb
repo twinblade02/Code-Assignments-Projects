{
 "cells": [
  {
   "cell_type": "code",
   "execution_count": 20,
   "id": "18183fd7",
   "metadata": {},
   "outputs": [],
   "source": [
    "import os\n",
    "import glob\n",
    "# from dotenv import load_dotenv\n",
    "import gradio as gr\n",
    "\n",
    "from langchain.document_loaders import DirectoryLoader, TextLoader\n",
    "from langchain.text_splitter import CharacterTextSplitter\n",
    "from langchain.schema import Document\n",
    "from langchain_openai import ChatOpenAI\n",
    "from langchain.embeddings import OllamaEmbeddings, HuggingFaceEmbeddings\n",
    "from langchain_chroma import Chroma\n",
    "import matplotlib.pyplot as plt\n",
    "from sklearn.manifold import TSNE\n",
    "import numpy as np\n",
    "import plotly.graph_objects as go\n",
    "from langchain.memory import ConversationBufferMemory\n",
    "from langchain.chains import ConversationalRetrievalChain"
   ]
  },
  {
   "cell_type": "markdown",
   "id": "926a9738",
   "metadata": {},
   "source": [
    "Note: Code is from a course from Ed Donner on AI Engineering. This may need to be refactored somewhere down the line."
   ]
  },
  {
   "cell_type": "code",
   "execution_count": 2,
   "id": "2eaf67fa",
   "metadata": {},
   "outputs": [],
   "source": [
    "# constants\n",
    "MODEL = \"llama3.1\"\n",
    "db_name = \"vector_db\""
   ]
  },
  {
   "cell_type": "code",
   "execution_count": 10,
   "id": "2cea3e04",
   "metadata": {},
   "outputs": [
    {
     "name": "stderr",
     "output_type": "stream",
     "text": [
      "Created a chunk of size 6661, which is longer than the specified 6500\n"
     ]
    },
    {
     "name": "stdout",
     "output_type": "stream",
     "text": [
      "Total number of chunks: 47\n",
      "Document types found: {'GAI and student learning'}\n",
      "Loading from: C:/Users/ldmag/Documents/GitHub/Obsidian-Notes/Obsidian Vault/Research/GAI and student learning\n",
      "Files found: 13 .md files in the target directory only\n"
     ]
    }
   ],
   "source": [
    "target_dir = r\"C:/Users/ldmag/Documents/GitHub/Obsidian-Notes/Obsidian Vault/Research/GAI and student learning\"\n",
    "\n",
    "#folders = glob.glob(os.path.join(target_dir, \"*\"))\n",
    "#folders = [f for f in folders if os.path.isdir(f)]\n",
    "\n",
    "def add_metadata(doc, doc_type):\n",
    "    doc.metadata[\"doc_type\"] = doc_type\n",
    "    return doc\n",
    "\n",
    "# With thanks to CG and Jon R, students on the course, for this fix needed for some users \n",
    "text_loader_kwargs = {'encoding': 'utf-8'}\n",
    "# If that doesn't work, some Windows users might need to uncomment the next line instead\n",
    "# text_loader_kwargs={'autodetect_encoding': True}\n",
    "\n",
    "documents = []\n",
    "\n",
    "doc_type = os.path.basename(target_dir)\n",
    "loader = DirectoryLoader(target_dir, glob=\"**/*.md\", loader_cls=TextLoader, loader_kwargs=text_loader_kwargs)\n",
    "folder_docs = loader.load()\n",
    "documents.extend([add_metadata(doc, doc_type) for doc in folder_docs])\n",
    "\n",
    "#for folder in folders:\n",
    "#    doc_type = os.path.basename(folder)\n",
    "#    loader = DirectoryLoader(folder, glob=\"**/*.md\", loader_cls=TextLoader, loader_kwargs=text_loader_kwargs)\n",
    "#    folder_docs = loader.load()\n",
    "#    documents.extend([add_metadata(doc, doc_type) for doc in folder_docs])\n",
    "\n",
    "text_splitter = CharacterTextSplitter(chunk_size=6500, chunk_overlap=3700)\n",
    "chunks = text_splitter.split_documents(documents)\n",
    "\n",
    "print(f\"Total number of chunks: {len(chunks)}\")\n",
    "print(f\"Document types found: {set(doc.metadata['doc_type'] for doc in documents)}\")\n",
    "print(f\"Loading from: {target_dir}\")\n",
    "print(f\"Files found: {len(documents)} .md files in the target directory only\")"
   ]
  },
  {
   "cell_type": "code",
   "execution_count": 11,
   "id": "1b652691",
   "metadata": {},
   "outputs": [
    {
     "name": "stderr",
     "output_type": "stream",
     "text": [
      "C:\\Users\\ldmag\\AppData\\Local\\Temp\\ipykernel_41908\\1732604165.py:1: LangChainDeprecationWarning: The class `OllamaEmbeddings` was deprecated in LangChain 0.3.1 and will be removed in 1.0.0. An updated version of the class exists in the :class:`~langchain-ollama package and should be used instead. To use it run `pip install -U :class:`~langchain-ollama` and import as `from :class:`~langchain_ollama import OllamaEmbeddings``.\n",
      "  embeddings = OllamaEmbeddings(model=\"nomic-embed-text\")\n"
     ]
    },
    {
     "name": "stdout",
     "output_type": "stream",
     "text": [
      "Vectorstore created with 47 documents\n"
     ]
    }
   ],
   "source": [
    "embeddings = OllamaEmbeddings(model=\"nomic-embed-text\")\n",
    "\n",
    "# Delete if already exists\n",
    "\n",
    "if os.path.exists(db_name):\n",
    "    Chroma(persist_directory=db_name, embedding_function=embeddings).delete_collection()\n",
    "\n",
    "# Create vectorstore\n",
    "\n",
    "vectorstore = Chroma.from_documents(documents=chunks, embedding=embeddings, persist_directory=db_name)\n",
    "print(f\"Vectorstore created with {vectorstore._collection.count()} documents\")"
   ]
  },
  {
   "cell_type": "code",
   "execution_count": 12,
   "id": "46f477b0",
   "metadata": {},
   "outputs": [
    {
     "name": "stdout",
     "output_type": "stream",
     "text": [
      "There are 47 vectors with 768 dimensions in the vector store\n"
     ]
    }
   ],
   "source": [
    "# vector store stats\n",
    "collection = vectorstore._collection\n",
    "count = collection.count()\n",
    "\n",
    "sample_embedding = collection.get(limit=1, include=[\"embeddings\"])[\"embeddings\"][0]\n",
    "dimensions = len(sample_embedding)\n",
    "print(f\"There are {count:,} vectors with {dimensions:,} dimensions in the vector store\")"
   ]
  },
  {
   "cell_type": "markdown",
   "id": "a7d46690",
   "metadata": {},
   "source": [
    "### Visualizing the VecStore"
   ]
  },
  {
   "cell_type": "code",
   "execution_count": 14,
   "id": "56ebb6be",
   "metadata": {},
   "outputs": [],
   "source": [
    "result = collection.get(include=['embeddings', 'documents', 'metadatas'])\n",
    "vectors = np.array(result['embeddings'])\n",
    "documents = result['documents']\n",
    "metadatas = result['metadatas']\n",
    "doc_types = [metadata['doc_type'] for metadata in metadatas]\n",
    "# colors = [['blue', 'green', 'red', 'orange'][['products', 'employees', 'contracts', 'company'].index(t)] for t in doc_types]"
   ]
  },
  {
   "cell_type": "code",
   "execution_count": 15,
   "id": "1e3ccbb2",
   "metadata": {},
   "outputs": [
    {
     "data": {
      "application/vnd.plotly.v1+json": {
       "config": {
        "plotlyServerURL": "https://plot.ly"
       },
       "data": [
        {
         "hoverinfo": "text",
         "marker": {
          "opacity": 0.8,
          "size": 5
         },
         "mode": "markers",
         "text": [
          "Type: GAI and student learning<br>Text: ---\ntags:\n  - research\n  - project\ntopic: Generative AI study\nassociated:\n  - \"[[Independent Study P...",
          "Type: GAI and student learning<br>Text: - **(Iqbal et al., 2022**): This study concludes that teachers are not yet ready to accept GenAI for...",
          "Type: GAI and student learning<br>Text: ## Survey Logic\n\nThis section was created to showcase the current flow of the survey, the reasoning ...",
          "Type: GAI and student learning<br>Text: ---\ntags:\n  - research\n  - notes\nassociated:\n  - \"[[Research/GAI and student learning/Faculty focuse...",
          "Type: GAI and student learning<br>Text: From (Ofosu-Ampong, 2024) - university *lecturers* were willing to accept AI for students. The deter...",
          "Type: GAI and student learning<br>Text: > [!PDF|note] [Kim et al. - 2025 - Examining Faculty and Student Perceptions of Gener, p.5](Research...",
          "Type: GAI and student learning<br>Text: > [!PDF|note] [Kim et al. - 2025 - Examining Faculty and Student Perceptions of Gener, p.9](Research...",
          "Type: GAI and student learning<br>Text: - #To-do If the question above can be taken seriously, we'll need to ask another question in the dem...",
          "Type: GAI and student learning<br>Text: > [!PDF|note] [Kim et al. - 2025 - Examining Faculty and Student Perceptions of Gener, p.19](Researc...",
          "Type: GAI and student learning<br>Text: To answer these questions, #To-do further investigation on how the current education landscape serve...",
          "Type: GAI and student learning<br>Text: Question is why - maybe looking at common factors amongst these studies may be a good place to start...",
          "Type: GAI and student learning<br>Text: > [!PDF|important] [Shata and Hartley - 2025 - Artificial intelligence and communication technolo, p...",
          "Type: GAI and student learning<br>Text: We'll break things down from faculty to students, and then figure out what to do from there. \n\n## Fa...",
          "Type: GAI and student learning<br>Text: ## Students - What we know\n\nThere is suggestions to compare different student groups and age ranges,...",
          "Type: GAI and student learning<br>Text: ---\ntags:\n  - project\n  - research\nassociated:\n  - \"[[Independent Study Plan|Independent Study Plan]...",
          "Type: GAI and student learning<br>Text: #suggestion Potential alternative research questions:\n- RQ1: \"What is the overall acceptance of GenA...",
          "Type: GAI and student learning<br>Text: Kim, N. J., & Kim, M. K. (2022). Teacher’s Perceptions of Using an Artificial Intelligence-Based Edu...",
          "Type: GAI and student learning<br>Text: ---\n## Attached Email\n\nSubject: Request for Participation in Survey on Generative AI in Education\n\nD...",
          "Type: GAI and student learning<br>Text: ---\ntags:\n  - research\n  - notes\n  - proposal\nassociated:\n  - \"[[Research/TLI 625 Research|TLI 625 R...",
          "Type: GAI and student learning<br>Text: ## Literature conclusions\n\n> [!Positive effects]\n> - (Ahmad et al., 2021): Noted effects on many ind...",
          "Type: GAI and student learning<br>Text: > [!Positive effects]\n> - (Chen et al., 2020): This qualitative research study aimed to assess the i...",
          "Type: GAI and student learning<br>Text: ---\ntags:\n  - notes\n  - research\nassociated:\n  - \"[[GAI and Human Cognition Literature|GAI and Human...",
          "Type: GAI and student learning<br>Text: ---\n## Faculty gap synthesis\n\nWith Generative AI (GenAI) becoming a more ubiquitous part of daily li...",
          "Type: GAI and student learning<br>Text: > [!tip] Idea\n> Is it possible to develop a framework that is similar to that of [@whitePreliminaryE...",
          "Type: GAI and student learning<br>Text: An interesting point of note amongst existing literature is that while faculty are concerned about t...",
          "Type: GAI and student learning<br>Text: >[!tip] Research Questions\n> - RQ1: \"How do attitudes vary across different faculty groups?\"\n> - RQ2...",
          "Type: GAI and student learning<br>Text: As we stated before - the politicization of GenAI and recent events pertaining to the job market has...",
          "Type: GAI and student learning<br>Text: ---\ntags:\n  - notes\n  - research\nassociated:\n  - \"[[GAI and Human Cognition Literature|GAI and Human...",
          "Type: GAI and student learning<br>Text: ---\n## Faculty gap synthesis\n\nWith Generative AI (GenAI) becoming a more ubiquitous part of daily li...",
          "Type: GAI and student learning<br>Text: > [!tip] Idea\n> Is it possible to develop a framework that is similar to that of [@whitePreliminaryE...",
          "Type: GAI and student learning<br>Text: An interesting point of note amongst existing literature is that while faculty are concerned about t...",
          "Type: GAI and student learning<br>Text: >[!tip] Research Questions\n> - RQ1: \"How do attitudes vary across different faculty groups?\"\n> - RQ2...",
          "Type: GAI and student learning<br>Text: As we stated before - the politicization of GenAI and recent events pertaining to the job market has...",
          "Type: GAI and student learning<br>Text: As part of the UTAUT 2 framework, [@venkateshUnifiedTheoryAcceptance2016](Research/20%20Citekeys/@ve...",
          "Type: GAI and student learning<br>Text: Since we are changing the moderating factors for this adapted model - validation for the new constru...",
          "Type: GAI and student learning<br>Text: ---\nassociated:\n  - \"[[GAI and Human Cognition Literature|GAI and Human Cognition Literature]]\"\ntags...",
          "Type: GAI and student learning<br>Text: ### Benefits\nEnd of the last phase should provide the office with a data driven approach to integrat...",
          "Type: GAI and student learning<br>Text: **For the purpose of this study - a UTAUT model seems the best fit to design a survey for faculty th...",
          "Type: GAI and student learning<br>Text: #### Performance Acceptance\n1. I find Gen AI useful in my work. \n2. Using Gen AI enables me to accom...",
          "Type: GAI and student learning<br>Text: ```dataview\nTABLE\ntitle as Title,\nFirstAuthor as \"First Author\",\nYear as Year,\nitemType as Item,\nCit...",
          "Type: GAI and student learning<br>Text: ---\ntags:\n  - research\nassociated:\n  - \"[[Research/GAI and student learning/Gap Analysis V1.2|Gap An...",
          "Type: GAI and student learning<br>Text: > [!tip] Idea\n> Is it possible to develop a framework that is similar to that of [@whitePreliminaryE...",
          "Type: GAI and student learning<br>Text: ## Overview\nGenAI (GAI) is all but a ubiquitous tool that sees uses across multiple fields of applic...",
          "Type: GAI and student learning<br>Text: ## Project goals or objectives\nFor this project, we outline the following objectives for completion ...",
          "Type: GAI and student learning<br>Text: ---\ntags:\n  - research\nassociated:\n  - \"[[Research/GAI and student learning/Gap Analysis V1.3|Gap An...",
          "Type: GAI and student learning<br>Text: ---\ntags:\n  - proposal\nstatus: Complete\ndue-date: 2024-09-18\n---\n## Generative AI and Human Cognitio...",
          "Type: GAI and student learning<br>Text: ---\ntags:\n  - research\ntopic: Generative AI study\nassociated:\n  - \"[[IT shit/Kubernetes/CNIT581-ACC/..."
         ],
         "type": "scatter",
         "x": [
          -1.1665198,
          -0.2671074,
          -0.92948115,
          -0.30836666,
          -2.915787,
          -0.2227682,
          -0.3426079,
          0.12898368,
          -0.49787295,
          -1.154724,
          -1.3397285,
          -1.5932162,
          -2.5201678,
          -1.0591484,
          -0.029932516,
          -1.8269055,
          -0.66221774,
          -0.7949188,
          0.2582243,
          0.6503481,
          0.65956515,
          -1.5231761,
          -0.9896323,
          -2.1753476,
          -1.5697526,
          -3.3129191,
          -2.8890781,
          -1.5237222,
          -0.9843677,
          -2.1753476,
          -1.5697526,
          -3.3129191,
          -2.8936958,
          -2.354069,
          -1.9945555,
          -1.9317592,
          -0.8185137,
          -1.4256256,
          -1.3770024,
          -1.4222306,
          -1.008072,
          -2.3457956,
          -0.85403734,
          -1.5112025,
          -1.3568362,
          0.24844812,
          -1.0076575
         ],
         "y": [
          -3.860652,
          0.20160371,
          -3.1226747,
          -1.0341642,
          -2.4336314,
          -1.1518112,
          -0.123007946,
          -0.15348135,
          -0.40022606,
          1.0261835,
          0.38907158,
          -0.7826953,
          -0.4562902,
          -0.052545868,
          -1.8513877,
          -2.590246,
          -2.6168222,
          -3.1435351,
          -0.98920923,
          -1.243034,
          -0.833462,
          -0.02476603,
          -0.586479,
          0.5512347,
          -0.71770865,
          -1.5104191,
          -1.4818338,
          -0.0041202162,
          -0.5942848,
          0.5512347,
          -0.71770865,
          -1.5104191,
          -1.4792317,
          -0.6158226,
          -0.5725351,
          -1.8364424,
          -1.6992339,
          -1.4124033,
          -1.5204284,
          -4.047453,
          -0.5890353,
          0.7849122,
          -1.1145504,
          -0.9738844,
          -4.0053897,
          0.44877672,
          -1.675939
         ]
        }
       ],
       "layout": {
        "height": 600,
        "margin": {
         "b": 10,
         "l": 10,
         "r": 20,
         "t": 40
        },
        "scene": {
         "xaxis": {
          "title": {
           "text": "x"
          }
         },
         "yaxis": {
          "title": {
           "text": "y"
          }
         }
        },
        "template": {
         "data": {
          "bar": [
           {
            "error_x": {
             "color": "#2a3f5f"
            },
            "error_y": {
             "color": "#2a3f5f"
            },
            "marker": {
             "line": {
              "color": "#E5ECF6",
              "width": 0.5
             },
             "pattern": {
              "fillmode": "overlay",
              "size": 10,
              "solidity": 0.2
             }
            },
            "type": "bar"
           }
          ],
          "barpolar": [
           {
            "marker": {
             "line": {
              "color": "#E5ECF6",
              "width": 0.5
             },
             "pattern": {
              "fillmode": "overlay",
              "size": 10,
              "solidity": 0.2
             }
            },
            "type": "barpolar"
           }
          ],
          "carpet": [
           {
            "aaxis": {
             "endlinecolor": "#2a3f5f",
             "gridcolor": "white",
             "linecolor": "white",
             "minorgridcolor": "white",
             "startlinecolor": "#2a3f5f"
            },
            "baxis": {
             "endlinecolor": "#2a3f5f",
             "gridcolor": "white",
             "linecolor": "white",
             "minorgridcolor": "white",
             "startlinecolor": "#2a3f5f"
            },
            "type": "carpet"
           }
          ],
          "choropleth": [
           {
            "colorbar": {
             "outlinewidth": 0,
             "ticks": ""
            },
            "type": "choropleth"
           }
          ],
          "contour": [
           {
            "colorbar": {
             "outlinewidth": 0,
             "ticks": ""
            },
            "colorscale": [
             [
              0,
              "#0d0887"
             ],
             [
              0.1111111111111111,
              "#46039f"
             ],
             [
              0.2222222222222222,
              "#7201a8"
             ],
             [
              0.3333333333333333,
              "#9c179e"
             ],
             [
              0.4444444444444444,
              "#bd3786"
             ],
             [
              0.5555555555555556,
              "#d8576b"
             ],
             [
              0.6666666666666666,
              "#ed7953"
             ],
             [
              0.7777777777777778,
              "#fb9f3a"
             ],
             [
              0.8888888888888888,
              "#fdca26"
             ],
             [
              1,
              "#f0f921"
             ]
            ],
            "type": "contour"
           }
          ],
          "contourcarpet": [
           {
            "colorbar": {
             "outlinewidth": 0,
             "ticks": ""
            },
            "type": "contourcarpet"
           }
          ],
          "heatmap": [
           {
            "colorbar": {
             "outlinewidth": 0,
             "ticks": ""
            },
            "colorscale": [
             [
              0,
              "#0d0887"
             ],
             [
              0.1111111111111111,
              "#46039f"
             ],
             [
              0.2222222222222222,
              "#7201a8"
             ],
             [
              0.3333333333333333,
              "#9c179e"
             ],
             [
              0.4444444444444444,
              "#bd3786"
             ],
             [
              0.5555555555555556,
              "#d8576b"
             ],
             [
              0.6666666666666666,
              "#ed7953"
             ],
             [
              0.7777777777777778,
              "#fb9f3a"
             ],
             [
              0.8888888888888888,
              "#fdca26"
             ],
             [
              1,
              "#f0f921"
             ]
            ],
            "type": "heatmap"
           }
          ],
          "heatmapgl": [
           {
            "colorbar": {
             "outlinewidth": 0,
             "ticks": ""
            },
            "colorscale": [
             [
              0,
              "#0d0887"
             ],
             [
              0.1111111111111111,
              "#46039f"
             ],
             [
              0.2222222222222222,
              "#7201a8"
             ],
             [
              0.3333333333333333,
              "#9c179e"
             ],
             [
              0.4444444444444444,
              "#bd3786"
             ],
             [
              0.5555555555555556,
              "#d8576b"
             ],
             [
              0.6666666666666666,
              "#ed7953"
             ],
             [
              0.7777777777777778,
              "#fb9f3a"
             ],
             [
              0.8888888888888888,
              "#fdca26"
             ],
             [
              1,
              "#f0f921"
             ]
            ],
            "type": "heatmapgl"
           }
          ],
          "histogram": [
           {
            "marker": {
             "pattern": {
              "fillmode": "overlay",
              "size": 10,
              "solidity": 0.2
             }
            },
            "type": "histogram"
           }
          ],
          "histogram2d": [
           {
            "colorbar": {
             "outlinewidth": 0,
             "ticks": ""
            },
            "colorscale": [
             [
              0,
              "#0d0887"
             ],
             [
              0.1111111111111111,
              "#46039f"
             ],
             [
              0.2222222222222222,
              "#7201a8"
             ],
             [
              0.3333333333333333,
              "#9c179e"
             ],
             [
              0.4444444444444444,
              "#bd3786"
             ],
             [
              0.5555555555555556,
              "#d8576b"
             ],
             [
              0.6666666666666666,
              "#ed7953"
             ],
             [
              0.7777777777777778,
              "#fb9f3a"
             ],
             [
              0.8888888888888888,
              "#fdca26"
             ],
             [
              1,
              "#f0f921"
             ]
            ],
            "type": "histogram2d"
           }
          ],
          "histogram2dcontour": [
           {
            "colorbar": {
             "outlinewidth": 0,
             "ticks": ""
            },
            "colorscale": [
             [
              0,
              "#0d0887"
             ],
             [
              0.1111111111111111,
              "#46039f"
             ],
             [
              0.2222222222222222,
              "#7201a8"
             ],
             [
              0.3333333333333333,
              "#9c179e"
             ],
             [
              0.4444444444444444,
              "#bd3786"
             ],
             [
              0.5555555555555556,
              "#d8576b"
             ],
             [
              0.6666666666666666,
              "#ed7953"
             ],
             [
              0.7777777777777778,
              "#fb9f3a"
             ],
             [
              0.8888888888888888,
              "#fdca26"
             ],
             [
              1,
              "#f0f921"
             ]
            ],
            "type": "histogram2dcontour"
           }
          ],
          "mesh3d": [
           {
            "colorbar": {
             "outlinewidth": 0,
             "ticks": ""
            },
            "type": "mesh3d"
           }
          ],
          "parcoords": [
           {
            "line": {
             "colorbar": {
              "outlinewidth": 0,
              "ticks": ""
             }
            },
            "type": "parcoords"
           }
          ],
          "pie": [
           {
            "automargin": true,
            "type": "pie"
           }
          ],
          "scatter": [
           {
            "fillpattern": {
             "fillmode": "overlay",
             "size": 10,
             "solidity": 0.2
            },
            "type": "scatter"
           }
          ],
          "scatter3d": [
           {
            "line": {
             "colorbar": {
              "outlinewidth": 0,
              "ticks": ""
             }
            },
            "marker": {
             "colorbar": {
              "outlinewidth": 0,
              "ticks": ""
             }
            },
            "type": "scatter3d"
           }
          ],
          "scattercarpet": [
           {
            "marker": {
             "colorbar": {
              "outlinewidth": 0,
              "ticks": ""
             }
            },
            "type": "scattercarpet"
           }
          ],
          "scattergeo": [
           {
            "marker": {
             "colorbar": {
              "outlinewidth": 0,
              "ticks": ""
             }
            },
            "type": "scattergeo"
           }
          ],
          "scattergl": [
           {
            "marker": {
             "colorbar": {
              "outlinewidth": 0,
              "ticks": ""
             }
            },
            "type": "scattergl"
           }
          ],
          "scattermapbox": [
           {
            "marker": {
             "colorbar": {
              "outlinewidth": 0,
              "ticks": ""
             }
            },
            "type": "scattermapbox"
           }
          ],
          "scatterpolar": [
           {
            "marker": {
             "colorbar": {
              "outlinewidth": 0,
              "ticks": ""
             }
            },
            "type": "scatterpolar"
           }
          ],
          "scatterpolargl": [
           {
            "marker": {
             "colorbar": {
              "outlinewidth": 0,
              "ticks": ""
             }
            },
            "type": "scatterpolargl"
           }
          ],
          "scatterternary": [
           {
            "marker": {
             "colorbar": {
              "outlinewidth": 0,
              "ticks": ""
             }
            },
            "type": "scatterternary"
           }
          ],
          "surface": [
           {
            "colorbar": {
             "outlinewidth": 0,
             "ticks": ""
            },
            "colorscale": [
             [
              0,
              "#0d0887"
             ],
             [
              0.1111111111111111,
              "#46039f"
             ],
             [
              0.2222222222222222,
              "#7201a8"
             ],
             [
              0.3333333333333333,
              "#9c179e"
             ],
             [
              0.4444444444444444,
              "#bd3786"
             ],
             [
              0.5555555555555556,
              "#d8576b"
             ],
             [
              0.6666666666666666,
              "#ed7953"
             ],
             [
              0.7777777777777778,
              "#fb9f3a"
             ],
             [
              0.8888888888888888,
              "#fdca26"
             ],
             [
              1,
              "#f0f921"
             ]
            ],
            "type": "surface"
           }
          ],
          "table": [
           {
            "cells": {
             "fill": {
              "color": "#EBF0F8"
             },
             "line": {
              "color": "white"
             }
            },
            "header": {
             "fill": {
              "color": "#C8D4E3"
             },
             "line": {
              "color": "white"
             }
            },
            "type": "table"
           }
          ]
         },
         "layout": {
          "annotationdefaults": {
           "arrowcolor": "#2a3f5f",
           "arrowhead": 0,
           "arrowwidth": 1
          },
          "autotypenumbers": "strict",
          "coloraxis": {
           "colorbar": {
            "outlinewidth": 0,
            "ticks": ""
           }
          },
          "colorscale": {
           "diverging": [
            [
             0,
             "#8e0152"
            ],
            [
             0.1,
             "#c51b7d"
            ],
            [
             0.2,
             "#de77ae"
            ],
            [
             0.3,
             "#f1b6da"
            ],
            [
             0.4,
             "#fde0ef"
            ],
            [
             0.5,
             "#f7f7f7"
            ],
            [
             0.6,
             "#e6f5d0"
            ],
            [
             0.7,
             "#b8e186"
            ],
            [
             0.8,
             "#7fbc41"
            ],
            [
             0.9,
             "#4d9221"
            ],
            [
             1,
             "#276419"
            ]
           ],
           "sequential": [
            [
             0,
             "#0d0887"
            ],
            [
             0.1111111111111111,
             "#46039f"
            ],
            [
             0.2222222222222222,
             "#7201a8"
            ],
            [
             0.3333333333333333,
             "#9c179e"
            ],
            [
             0.4444444444444444,
             "#bd3786"
            ],
            [
             0.5555555555555556,
             "#d8576b"
            ],
            [
             0.6666666666666666,
             "#ed7953"
            ],
            [
             0.7777777777777778,
             "#fb9f3a"
            ],
            [
             0.8888888888888888,
             "#fdca26"
            ],
            [
             1,
             "#f0f921"
            ]
           ],
           "sequentialminus": [
            [
             0,
             "#0d0887"
            ],
            [
             0.1111111111111111,
             "#46039f"
            ],
            [
             0.2222222222222222,
             "#7201a8"
            ],
            [
             0.3333333333333333,
             "#9c179e"
            ],
            [
             0.4444444444444444,
             "#bd3786"
            ],
            [
             0.5555555555555556,
             "#d8576b"
            ],
            [
             0.6666666666666666,
             "#ed7953"
            ],
            [
             0.7777777777777778,
             "#fb9f3a"
            ],
            [
             0.8888888888888888,
             "#fdca26"
            ],
            [
             1,
             "#f0f921"
            ]
           ]
          },
          "colorway": [
           "#636efa",
           "#EF553B",
           "#00cc96",
           "#ab63fa",
           "#FFA15A",
           "#19d3f3",
           "#FF6692",
           "#B6E880",
           "#FF97FF",
           "#FECB52"
          ],
          "font": {
           "color": "#2a3f5f"
          },
          "geo": {
           "bgcolor": "white",
           "lakecolor": "white",
           "landcolor": "#E5ECF6",
           "showlakes": true,
           "showland": true,
           "subunitcolor": "white"
          },
          "hoverlabel": {
           "align": "left"
          },
          "hovermode": "closest",
          "mapbox": {
           "style": "light"
          },
          "paper_bgcolor": "white",
          "plot_bgcolor": "#E5ECF6",
          "polar": {
           "angularaxis": {
            "gridcolor": "white",
            "linecolor": "white",
            "ticks": ""
           },
           "bgcolor": "#E5ECF6",
           "radialaxis": {
            "gridcolor": "white",
            "linecolor": "white",
            "ticks": ""
           }
          },
          "scene": {
           "xaxis": {
            "backgroundcolor": "#E5ECF6",
            "gridcolor": "white",
            "gridwidth": 2,
            "linecolor": "white",
            "showbackground": true,
            "ticks": "",
            "zerolinecolor": "white"
           },
           "yaxis": {
            "backgroundcolor": "#E5ECF6",
            "gridcolor": "white",
            "gridwidth": 2,
            "linecolor": "white",
            "showbackground": true,
            "ticks": "",
            "zerolinecolor": "white"
           },
           "zaxis": {
            "backgroundcolor": "#E5ECF6",
            "gridcolor": "white",
            "gridwidth": 2,
            "linecolor": "white",
            "showbackground": true,
            "ticks": "",
            "zerolinecolor": "white"
           }
          },
          "shapedefaults": {
           "line": {
            "color": "#2a3f5f"
           }
          },
          "ternary": {
           "aaxis": {
            "gridcolor": "white",
            "linecolor": "white",
            "ticks": ""
           },
           "baxis": {
            "gridcolor": "white",
            "linecolor": "white",
            "ticks": ""
           },
           "bgcolor": "#E5ECF6",
           "caxis": {
            "gridcolor": "white",
            "linecolor": "white",
            "ticks": ""
           }
          },
          "title": {
           "x": 0.05
          },
          "xaxis": {
           "automargin": true,
           "gridcolor": "white",
           "linecolor": "white",
           "ticks": "",
           "title": {
            "standoff": 15
           },
           "zerolinecolor": "white",
           "zerolinewidth": 2
          },
          "yaxis": {
           "automargin": true,
           "gridcolor": "white",
           "linecolor": "white",
           "ticks": "",
           "title": {
            "standoff": 15
           },
           "zerolinecolor": "white",
           "zerolinewidth": 2
          }
         }
        },
        "title": {
         "text": "2D Chroma Vector Store Visualization"
        },
        "width": 800
       }
      }
     },
     "metadata": {},
     "output_type": "display_data"
    }
   ],
   "source": [
    "tsne = TSNE(n_components=2, random_state=42)\n",
    "reduced_vectors = tsne.fit_transform(vectors)\n",
    "\n",
    "# Create the 2D scatter plot\n",
    "fig = go.Figure(data=[go.Scatter(\n",
    "    x=reduced_vectors[:, 0],\n",
    "    y=reduced_vectors[:, 1],\n",
    "    mode='markers',\n",
    "    marker=dict(size=5, opacity=0.8),\n",
    "    text=[f\"Type: {t}<br>Text: {d[:100]}...\" for t, d in zip(doc_types, documents)],\n",
    "    hoverinfo='text'\n",
    ")])\n",
    "\n",
    "fig.update_layout(\n",
    "    title='2D Chroma Vector Store Visualization',\n",
    "    scene=dict(xaxis_title='x',yaxis_title='y'),\n",
    "    width=800,\n",
    "    height=600,\n",
    "    margin=dict(r=20, b=10, l=10, t=40)\n",
    ")\n",
    "\n",
    "fig.show()"
   ]
  },
  {
   "cell_type": "code",
   "execution_count": 16,
   "id": "586de2c7",
   "metadata": {},
   "outputs": [
    {
     "data": {
      "application/vnd.plotly.v1+json": {
       "config": {
        "plotlyServerURL": "https://plot.ly"
       },
       "data": [
        {
         "hoverinfo": "text",
         "marker": {
          "opacity": 0.8,
          "size": 5
         },
         "mode": "markers",
         "text": [
          "Type: GAI and student learning<br>Text: ---\ntags:\n  - research\n  - project\ntopic: Generative AI study\nassociated:\n  - \"[[Independent Study P...",
          "Type: GAI and student learning<br>Text: - **(Iqbal et al., 2022**): This study concludes that teachers are not yet ready to accept GenAI for...",
          "Type: GAI and student learning<br>Text: ## Survey Logic\n\nThis section was created to showcase the current flow of the survey, the reasoning ...",
          "Type: GAI and student learning<br>Text: ---\ntags:\n  - research\n  - notes\nassociated:\n  - \"[[Research/GAI and student learning/Faculty focuse...",
          "Type: GAI and student learning<br>Text: From (Ofosu-Ampong, 2024) - university *lecturers* were willing to accept AI for students. The deter...",
          "Type: GAI and student learning<br>Text: > [!PDF|note] [Kim et al. - 2025 - Examining Faculty and Student Perceptions of Gener, p.5](Research...",
          "Type: GAI and student learning<br>Text: > [!PDF|note] [Kim et al. - 2025 - Examining Faculty and Student Perceptions of Gener, p.9](Research...",
          "Type: GAI and student learning<br>Text: - #To-do If the question above can be taken seriously, we'll need to ask another question in the dem...",
          "Type: GAI and student learning<br>Text: > [!PDF|note] [Kim et al. - 2025 - Examining Faculty and Student Perceptions of Gener, p.19](Researc...",
          "Type: GAI and student learning<br>Text: To answer these questions, #To-do further investigation on how the current education landscape serve...",
          "Type: GAI and student learning<br>Text: Question is why - maybe looking at common factors amongst these studies may be a good place to start...",
          "Type: GAI and student learning<br>Text: > [!PDF|important] [Shata and Hartley - 2025 - Artificial intelligence and communication technolo, p...",
          "Type: GAI and student learning<br>Text: We'll break things down from faculty to students, and then figure out what to do from there. \n\n## Fa...",
          "Type: GAI and student learning<br>Text: ## Students - What we know\n\nThere is suggestions to compare different student groups and age ranges,...",
          "Type: GAI and student learning<br>Text: ---\ntags:\n  - project\n  - research\nassociated:\n  - \"[[Independent Study Plan|Independent Study Plan]...",
          "Type: GAI and student learning<br>Text: #suggestion Potential alternative research questions:\n- RQ1: \"What is the overall acceptance of GenA...",
          "Type: GAI and student learning<br>Text: Kim, N. J., & Kim, M. K. (2022). Teacher’s Perceptions of Using an Artificial Intelligence-Based Edu...",
          "Type: GAI and student learning<br>Text: ---\n## Attached Email\n\nSubject: Request for Participation in Survey on Generative AI in Education\n\nD...",
          "Type: GAI and student learning<br>Text: ---\ntags:\n  - research\n  - notes\n  - proposal\nassociated:\n  - \"[[Research/TLI 625 Research|TLI 625 R...",
          "Type: GAI and student learning<br>Text: ## Literature conclusions\n\n> [!Positive effects]\n> - (Ahmad et al., 2021): Noted effects on many ind...",
          "Type: GAI and student learning<br>Text: > [!Positive effects]\n> - (Chen et al., 2020): This qualitative research study aimed to assess the i...",
          "Type: GAI and student learning<br>Text: ---\ntags:\n  - notes\n  - research\nassociated:\n  - \"[[GAI and Human Cognition Literature|GAI and Human...",
          "Type: GAI and student learning<br>Text: ---\n## Faculty gap synthesis\n\nWith Generative AI (GenAI) becoming a more ubiquitous part of daily li...",
          "Type: GAI and student learning<br>Text: > [!tip] Idea\n> Is it possible to develop a framework that is similar to that of [@whitePreliminaryE...",
          "Type: GAI and student learning<br>Text: An interesting point of note amongst existing literature is that while faculty are concerned about t...",
          "Type: GAI and student learning<br>Text: >[!tip] Research Questions\n> - RQ1: \"How do attitudes vary across different faculty groups?\"\n> - RQ2...",
          "Type: GAI and student learning<br>Text: As we stated before - the politicization of GenAI and recent events pertaining to the job market has...",
          "Type: GAI and student learning<br>Text: ---\ntags:\n  - notes\n  - research\nassociated:\n  - \"[[GAI and Human Cognition Literature|GAI and Human...",
          "Type: GAI and student learning<br>Text: ---\n## Faculty gap synthesis\n\nWith Generative AI (GenAI) becoming a more ubiquitous part of daily li...",
          "Type: GAI and student learning<br>Text: > [!tip] Idea\n> Is it possible to develop a framework that is similar to that of [@whitePreliminaryE...",
          "Type: GAI and student learning<br>Text: An interesting point of note amongst existing literature is that while faculty are concerned about t...",
          "Type: GAI and student learning<br>Text: >[!tip] Research Questions\n> - RQ1: \"How do attitudes vary across different faculty groups?\"\n> - RQ2...",
          "Type: GAI and student learning<br>Text: As we stated before - the politicization of GenAI and recent events pertaining to the job market has...",
          "Type: GAI and student learning<br>Text: As part of the UTAUT 2 framework, [@venkateshUnifiedTheoryAcceptance2016](Research/20%20Citekeys/@ve...",
          "Type: GAI and student learning<br>Text: Since we are changing the moderating factors for this adapted model - validation for the new constru...",
          "Type: GAI and student learning<br>Text: ---\nassociated:\n  - \"[[GAI and Human Cognition Literature|GAI and Human Cognition Literature]]\"\ntags...",
          "Type: GAI and student learning<br>Text: ### Benefits\nEnd of the last phase should provide the office with a data driven approach to integrat...",
          "Type: GAI and student learning<br>Text: **For the purpose of this study - a UTAUT model seems the best fit to design a survey for faculty th...",
          "Type: GAI and student learning<br>Text: #### Performance Acceptance\n1. I find Gen AI useful in my work. \n2. Using Gen AI enables me to accom...",
          "Type: GAI and student learning<br>Text: ```dataview\nTABLE\ntitle as Title,\nFirstAuthor as \"First Author\",\nYear as Year,\nitemType as Item,\nCit...",
          "Type: GAI and student learning<br>Text: ---\ntags:\n  - research\nassociated:\n  - \"[[Research/GAI and student learning/Gap Analysis V1.2|Gap An...",
          "Type: GAI and student learning<br>Text: > [!tip] Idea\n> Is it possible to develop a framework that is similar to that of [@whitePreliminaryE...",
          "Type: GAI and student learning<br>Text: ## Overview\nGenAI (GAI) is all but a ubiquitous tool that sees uses across multiple fields of applic...",
          "Type: GAI and student learning<br>Text: ## Project goals or objectives\nFor this project, we outline the following objectives for completion ...",
          "Type: GAI and student learning<br>Text: ---\ntags:\n  - research\nassociated:\n  - \"[[Research/GAI and student learning/Gap Analysis V1.3|Gap An...",
          "Type: GAI and student learning<br>Text: ---\ntags:\n  - proposal\nstatus: Complete\ndue-date: 2024-09-18\n---\n## Generative AI and Human Cognitio...",
          "Type: GAI and student learning<br>Text: ---\ntags:\n  - research\ntopic: Generative AI study\nassociated:\n  - \"[[IT shit/Kubernetes/CNIT581-ACC/..."
         ],
         "type": "scatter3d",
         "x": [
          14.877804,
          25.81923,
          72.16926,
          -54.76422,
          43.82562,
          103.88436,
          43.60958,
          -39.463375,
          78.47239,
          4.1910663,
          58.080215,
          127.81067,
          141.10953,
          -106.064644,
          -81.62963,
          -22.934685,
          -43.39131,
          10.067293,
          -45.385113,
          -35.481476,
          -126.6921,
          -23.603317,
          20.909575,
          -120.37465,
          40.515648,
          -38.900955,
          117.4264,
          -57.986317,
          81.24341,
          -120.37465,
          40.515648,
          -38.900955,
          4.5202436,
          -107.8686,
          101.1489,
          114.09494,
          -34.790916,
          -86.36986,
          60.341763,
          -116.906,
          -99.44093,
          61.436485,
          28.978357,
          32.996803,
          15.647589,
          -63.906013,
          -1.3035564
         ],
         "y": [
          -84.88984,
          -64.37852,
          133.18546,
          -66.495094,
          69.09369,
          63.23026,
          64.00381,
          28.967144,
          -59.09227,
          2.483145,
          36.941982,
          -61.880333,
          -4.8980513,
          -67.60421,
          12.046677,
          139.42133,
          -98.21736,
          -26.77543,
          79.36653,
          73.41342,
          -0.5561457,
          39.222786,
          -131.48538,
          5.3902464,
          -59.67615,
          -34.372505,
          -25.174694,
          -112.69836,
          -8.939561,
          5.3902464,
          -59.67615,
          -34.372505,
          -158.62941,
          88.31535,
          -110.165855,
          57.68936,
          -46.040028,
          80.835014,
          -120.93181,
          -68.16499,
          35.00524,
          -3.8781664,
          74.25807,
          5.4686594,
          129.64374,
          -8.695413,
          8.402214
         ],
         "z": [
          -9.454038,
          -93.16946,
          -0.5281457,
          109.42781,
          24.968729,
          -66.89053,
          -126.570145,
          109.92415,
          -22.397598,
          53.94258,
          106.27737,
          -69.1778,
          -14.55068,
          22.347725,
          -107.68931,
          -25.158466,
          42.66499,
          146.77547,
          -89.41582,
          51.04878,
          86.711044,
          -15.272893,
          55.020737,
          -16.156244,
          67.48472,
          -32.580837,
          66.53575,
          -44.79289,
          -87.4481,
          -16.156244,
          67.48472,
          -32.580837,
          -22.877748,
          61.288597,
          29.47187,
          35.289066,
          -130.0857,
          -19.808405,
          -70.578224,
          -83.12602,
          146.7862,
          15.353068,
          -54.699898,
          -43.44297,
          73.35406,
          49.658722,
          -105.42042
         ]
        }
       ],
       "layout": {
        "height": 700,
        "margin": {
         "b": 10,
         "l": 10,
         "r": 20,
         "t": 40
        },
        "scene": {
         "xaxis": {
          "title": {
           "text": "x"
          }
         },
         "yaxis": {
          "title": {
           "text": "y"
          }
         },
         "zaxis": {
          "title": {
           "text": "z"
          }
         }
        },
        "template": {
         "data": {
          "bar": [
           {
            "error_x": {
             "color": "#2a3f5f"
            },
            "error_y": {
             "color": "#2a3f5f"
            },
            "marker": {
             "line": {
              "color": "#E5ECF6",
              "width": 0.5
             },
             "pattern": {
              "fillmode": "overlay",
              "size": 10,
              "solidity": 0.2
             }
            },
            "type": "bar"
           }
          ],
          "barpolar": [
           {
            "marker": {
             "line": {
              "color": "#E5ECF6",
              "width": 0.5
             },
             "pattern": {
              "fillmode": "overlay",
              "size": 10,
              "solidity": 0.2
             }
            },
            "type": "barpolar"
           }
          ],
          "carpet": [
           {
            "aaxis": {
             "endlinecolor": "#2a3f5f",
             "gridcolor": "white",
             "linecolor": "white",
             "minorgridcolor": "white",
             "startlinecolor": "#2a3f5f"
            },
            "baxis": {
             "endlinecolor": "#2a3f5f",
             "gridcolor": "white",
             "linecolor": "white",
             "minorgridcolor": "white",
             "startlinecolor": "#2a3f5f"
            },
            "type": "carpet"
           }
          ],
          "choropleth": [
           {
            "colorbar": {
             "outlinewidth": 0,
             "ticks": ""
            },
            "type": "choropleth"
           }
          ],
          "contour": [
           {
            "colorbar": {
             "outlinewidth": 0,
             "ticks": ""
            },
            "colorscale": [
             [
              0,
              "#0d0887"
             ],
             [
              0.1111111111111111,
              "#46039f"
             ],
             [
              0.2222222222222222,
              "#7201a8"
             ],
             [
              0.3333333333333333,
              "#9c179e"
             ],
             [
              0.4444444444444444,
              "#bd3786"
             ],
             [
              0.5555555555555556,
              "#d8576b"
             ],
             [
              0.6666666666666666,
              "#ed7953"
             ],
             [
              0.7777777777777778,
              "#fb9f3a"
             ],
             [
              0.8888888888888888,
              "#fdca26"
             ],
             [
              1,
              "#f0f921"
             ]
            ],
            "type": "contour"
           }
          ],
          "contourcarpet": [
           {
            "colorbar": {
             "outlinewidth": 0,
             "ticks": ""
            },
            "type": "contourcarpet"
           }
          ],
          "heatmap": [
           {
            "colorbar": {
             "outlinewidth": 0,
             "ticks": ""
            },
            "colorscale": [
             [
              0,
              "#0d0887"
             ],
             [
              0.1111111111111111,
              "#46039f"
             ],
             [
              0.2222222222222222,
              "#7201a8"
             ],
             [
              0.3333333333333333,
              "#9c179e"
             ],
             [
              0.4444444444444444,
              "#bd3786"
             ],
             [
              0.5555555555555556,
              "#d8576b"
             ],
             [
              0.6666666666666666,
              "#ed7953"
             ],
             [
              0.7777777777777778,
              "#fb9f3a"
             ],
             [
              0.8888888888888888,
              "#fdca26"
             ],
             [
              1,
              "#f0f921"
             ]
            ],
            "type": "heatmap"
           }
          ],
          "heatmapgl": [
           {
            "colorbar": {
             "outlinewidth": 0,
             "ticks": ""
            },
            "colorscale": [
             [
              0,
              "#0d0887"
             ],
             [
              0.1111111111111111,
              "#46039f"
             ],
             [
              0.2222222222222222,
              "#7201a8"
             ],
             [
              0.3333333333333333,
              "#9c179e"
             ],
             [
              0.4444444444444444,
              "#bd3786"
             ],
             [
              0.5555555555555556,
              "#d8576b"
             ],
             [
              0.6666666666666666,
              "#ed7953"
             ],
             [
              0.7777777777777778,
              "#fb9f3a"
             ],
             [
              0.8888888888888888,
              "#fdca26"
             ],
             [
              1,
              "#f0f921"
             ]
            ],
            "type": "heatmapgl"
           }
          ],
          "histogram": [
           {
            "marker": {
             "pattern": {
              "fillmode": "overlay",
              "size": 10,
              "solidity": 0.2
             }
            },
            "type": "histogram"
           }
          ],
          "histogram2d": [
           {
            "colorbar": {
             "outlinewidth": 0,
             "ticks": ""
            },
            "colorscale": [
             [
              0,
              "#0d0887"
             ],
             [
              0.1111111111111111,
              "#46039f"
             ],
             [
              0.2222222222222222,
              "#7201a8"
             ],
             [
              0.3333333333333333,
              "#9c179e"
             ],
             [
              0.4444444444444444,
              "#bd3786"
             ],
             [
              0.5555555555555556,
              "#d8576b"
             ],
             [
              0.6666666666666666,
              "#ed7953"
             ],
             [
              0.7777777777777778,
              "#fb9f3a"
             ],
             [
              0.8888888888888888,
              "#fdca26"
             ],
             [
              1,
              "#f0f921"
             ]
            ],
            "type": "histogram2d"
           }
          ],
          "histogram2dcontour": [
           {
            "colorbar": {
             "outlinewidth": 0,
             "ticks": ""
            },
            "colorscale": [
             [
              0,
              "#0d0887"
             ],
             [
              0.1111111111111111,
              "#46039f"
             ],
             [
              0.2222222222222222,
              "#7201a8"
             ],
             [
              0.3333333333333333,
              "#9c179e"
             ],
             [
              0.4444444444444444,
              "#bd3786"
             ],
             [
              0.5555555555555556,
              "#d8576b"
             ],
             [
              0.6666666666666666,
              "#ed7953"
             ],
             [
              0.7777777777777778,
              "#fb9f3a"
             ],
             [
              0.8888888888888888,
              "#fdca26"
             ],
             [
              1,
              "#f0f921"
             ]
            ],
            "type": "histogram2dcontour"
           }
          ],
          "mesh3d": [
           {
            "colorbar": {
             "outlinewidth": 0,
             "ticks": ""
            },
            "type": "mesh3d"
           }
          ],
          "parcoords": [
           {
            "line": {
             "colorbar": {
              "outlinewidth": 0,
              "ticks": ""
             }
            },
            "type": "parcoords"
           }
          ],
          "pie": [
           {
            "automargin": true,
            "type": "pie"
           }
          ],
          "scatter": [
           {
            "fillpattern": {
             "fillmode": "overlay",
             "size": 10,
             "solidity": 0.2
            },
            "type": "scatter"
           }
          ],
          "scatter3d": [
           {
            "line": {
             "colorbar": {
              "outlinewidth": 0,
              "ticks": ""
             }
            },
            "marker": {
             "colorbar": {
              "outlinewidth": 0,
              "ticks": ""
             }
            },
            "type": "scatter3d"
           }
          ],
          "scattercarpet": [
           {
            "marker": {
             "colorbar": {
              "outlinewidth": 0,
              "ticks": ""
             }
            },
            "type": "scattercarpet"
           }
          ],
          "scattergeo": [
           {
            "marker": {
             "colorbar": {
              "outlinewidth": 0,
              "ticks": ""
             }
            },
            "type": "scattergeo"
           }
          ],
          "scattergl": [
           {
            "marker": {
             "colorbar": {
              "outlinewidth": 0,
              "ticks": ""
             }
            },
            "type": "scattergl"
           }
          ],
          "scattermapbox": [
           {
            "marker": {
             "colorbar": {
              "outlinewidth": 0,
              "ticks": ""
             }
            },
            "type": "scattermapbox"
           }
          ],
          "scatterpolar": [
           {
            "marker": {
             "colorbar": {
              "outlinewidth": 0,
              "ticks": ""
             }
            },
            "type": "scatterpolar"
           }
          ],
          "scatterpolargl": [
           {
            "marker": {
             "colorbar": {
              "outlinewidth": 0,
              "ticks": ""
             }
            },
            "type": "scatterpolargl"
           }
          ],
          "scatterternary": [
           {
            "marker": {
             "colorbar": {
              "outlinewidth": 0,
              "ticks": ""
             }
            },
            "type": "scatterternary"
           }
          ],
          "surface": [
           {
            "colorbar": {
             "outlinewidth": 0,
             "ticks": ""
            },
            "colorscale": [
             [
              0,
              "#0d0887"
             ],
             [
              0.1111111111111111,
              "#46039f"
             ],
             [
              0.2222222222222222,
              "#7201a8"
             ],
             [
              0.3333333333333333,
              "#9c179e"
             ],
             [
              0.4444444444444444,
              "#bd3786"
             ],
             [
              0.5555555555555556,
              "#d8576b"
             ],
             [
              0.6666666666666666,
              "#ed7953"
             ],
             [
              0.7777777777777778,
              "#fb9f3a"
             ],
             [
              0.8888888888888888,
              "#fdca26"
             ],
             [
              1,
              "#f0f921"
             ]
            ],
            "type": "surface"
           }
          ],
          "table": [
           {
            "cells": {
             "fill": {
              "color": "#EBF0F8"
             },
             "line": {
              "color": "white"
             }
            },
            "header": {
             "fill": {
              "color": "#C8D4E3"
             },
             "line": {
              "color": "white"
             }
            },
            "type": "table"
           }
          ]
         },
         "layout": {
          "annotationdefaults": {
           "arrowcolor": "#2a3f5f",
           "arrowhead": 0,
           "arrowwidth": 1
          },
          "autotypenumbers": "strict",
          "coloraxis": {
           "colorbar": {
            "outlinewidth": 0,
            "ticks": ""
           }
          },
          "colorscale": {
           "diverging": [
            [
             0,
             "#8e0152"
            ],
            [
             0.1,
             "#c51b7d"
            ],
            [
             0.2,
             "#de77ae"
            ],
            [
             0.3,
             "#f1b6da"
            ],
            [
             0.4,
             "#fde0ef"
            ],
            [
             0.5,
             "#f7f7f7"
            ],
            [
             0.6,
             "#e6f5d0"
            ],
            [
             0.7,
             "#b8e186"
            ],
            [
             0.8,
             "#7fbc41"
            ],
            [
             0.9,
             "#4d9221"
            ],
            [
             1,
             "#276419"
            ]
           ],
           "sequential": [
            [
             0,
             "#0d0887"
            ],
            [
             0.1111111111111111,
             "#46039f"
            ],
            [
             0.2222222222222222,
             "#7201a8"
            ],
            [
             0.3333333333333333,
             "#9c179e"
            ],
            [
             0.4444444444444444,
             "#bd3786"
            ],
            [
             0.5555555555555556,
             "#d8576b"
            ],
            [
             0.6666666666666666,
             "#ed7953"
            ],
            [
             0.7777777777777778,
             "#fb9f3a"
            ],
            [
             0.8888888888888888,
             "#fdca26"
            ],
            [
             1,
             "#f0f921"
            ]
           ],
           "sequentialminus": [
            [
             0,
             "#0d0887"
            ],
            [
             0.1111111111111111,
             "#46039f"
            ],
            [
             0.2222222222222222,
             "#7201a8"
            ],
            [
             0.3333333333333333,
             "#9c179e"
            ],
            [
             0.4444444444444444,
             "#bd3786"
            ],
            [
             0.5555555555555556,
             "#d8576b"
            ],
            [
             0.6666666666666666,
             "#ed7953"
            ],
            [
             0.7777777777777778,
             "#fb9f3a"
            ],
            [
             0.8888888888888888,
             "#fdca26"
            ],
            [
             1,
             "#f0f921"
            ]
           ]
          },
          "colorway": [
           "#636efa",
           "#EF553B",
           "#00cc96",
           "#ab63fa",
           "#FFA15A",
           "#19d3f3",
           "#FF6692",
           "#B6E880",
           "#FF97FF",
           "#FECB52"
          ],
          "font": {
           "color": "#2a3f5f"
          },
          "geo": {
           "bgcolor": "white",
           "lakecolor": "white",
           "landcolor": "#E5ECF6",
           "showlakes": true,
           "showland": true,
           "subunitcolor": "white"
          },
          "hoverlabel": {
           "align": "left"
          },
          "hovermode": "closest",
          "mapbox": {
           "style": "light"
          },
          "paper_bgcolor": "white",
          "plot_bgcolor": "#E5ECF6",
          "polar": {
           "angularaxis": {
            "gridcolor": "white",
            "linecolor": "white",
            "ticks": ""
           },
           "bgcolor": "#E5ECF6",
           "radialaxis": {
            "gridcolor": "white",
            "linecolor": "white",
            "ticks": ""
           }
          },
          "scene": {
           "xaxis": {
            "backgroundcolor": "#E5ECF6",
            "gridcolor": "white",
            "gridwidth": 2,
            "linecolor": "white",
            "showbackground": true,
            "ticks": "",
            "zerolinecolor": "white"
           },
           "yaxis": {
            "backgroundcolor": "#E5ECF6",
            "gridcolor": "white",
            "gridwidth": 2,
            "linecolor": "white",
            "showbackground": true,
            "ticks": "",
            "zerolinecolor": "white"
           },
           "zaxis": {
            "backgroundcolor": "#E5ECF6",
            "gridcolor": "white",
            "gridwidth": 2,
            "linecolor": "white",
            "showbackground": true,
            "ticks": "",
            "zerolinecolor": "white"
           }
          },
          "shapedefaults": {
           "line": {
            "color": "#2a3f5f"
           }
          },
          "ternary": {
           "aaxis": {
            "gridcolor": "white",
            "linecolor": "white",
            "ticks": ""
           },
           "baxis": {
            "gridcolor": "white",
            "linecolor": "white",
            "ticks": ""
           },
           "bgcolor": "#E5ECF6",
           "caxis": {
            "gridcolor": "white",
            "linecolor": "white",
            "ticks": ""
           }
          },
          "title": {
           "x": 0.05
          },
          "xaxis": {
           "automargin": true,
           "gridcolor": "white",
           "linecolor": "white",
           "ticks": "",
           "title": {
            "standoff": 15
           },
           "zerolinecolor": "white",
           "zerolinewidth": 2
          },
          "yaxis": {
           "automargin": true,
           "gridcolor": "white",
           "linecolor": "white",
           "ticks": "",
           "title": {
            "standoff": 15
           },
           "zerolinecolor": "white",
           "zerolinewidth": 2
          }
         }
        },
        "title": {
         "text": "3D Chroma Vector Store Visualization"
        },
        "width": 900
       }
      }
     },
     "metadata": {},
     "output_type": "display_data"
    }
   ],
   "source": [
    "tsne = TSNE(n_components=3, random_state=42)\n",
    "reduced_vectors = tsne.fit_transform(vectors)\n",
    "\n",
    "# Create the 3D scatter plot\n",
    "fig = go.Figure(data=[go.Scatter3d(\n",
    "    x=reduced_vectors[:, 0],\n",
    "    y=reduced_vectors[:, 1],\n",
    "    z=reduced_vectors[:, 2],\n",
    "    mode='markers',\n",
    "    marker=dict(size=5, opacity=0.8),\n",
    "    text=[f\"Type: {t}<br>Text: {d[:100]}...\" for t, d in zip(doc_types, documents)],\n",
    "    hoverinfo='text'\n",
    ")])\n",
    "\n",
    "fig.update_layout(\n",
    "    title='3D Chroma Vector Store Visualization',\n",
    "    scene=dict(xaxis_title='x', yaxis_title='y', zaxis_title='z'),\n",
    "    width=900,\n",
    "    height=700,\n",
    "    margin=dict(r=20, b=10, l=10, t=40)\n",
    ")\n",
    "\n",
    "fig.show()"
   ]
  },
  {
   "cell_type": "markdown",
   "id": "d427ede5",
   "metadata": {},
   "source": [
    "## Back to the knowledge worker"
   ]
  },
  {
   "cell_type": "code",
   "execution_count": 17,
   "id": "31ce5186",
   "metadata": {},
   "outputs": [
    {
     "name": "stderr",
     "output_type": "stream",
     "text": [
      "C:\\Users\\ldmag\\AppData\\Local\\Temp\\ipykernel_41908\\242917839.py:5: LangChainDeprecationWarning:\n",
      "\n",
      "Please see the migration guide at: https://python.langchain.com/docs/versions/migrating_memory/\n",
      "\n"
     ]
    }
   ],
   "source": [
    "# Alternative - if you'd like to use Ollama locally, uncomment this line instead\n",
    "llm = ChatOpenAI(temperature=0.7, model_name='llama3.1', base_url='http://localhost:11434/v1', api_key='ollama')\n",
    "\n",
    "# set up the conversation memory for the chat\n",
    "memory = ConversationBufferMemory(memory_key='chat_history', return_messages=True)\n",
    "\n",
    "# the retriever is an abstraction over the VectorStore that will be used during RAG\n",
    "retriever = vectorstore.as_retriever()\n",
    "\n",
    "# set up the conversation chain with the Llama 3.1 LLM, the vector store and memory\n",
    "conversation_chain = ConversationalRetrievalChain.from_llm(llm=llm, retriever=retriever, memory=memory)"
   ]
  },
  {
   "cell_type": "code",
   "execution_count": 18,
   "id": "797f100a",
   "metadata": {},
   "outputs": [],
   "source": [
    "def chat(question, history):\n",
    "    result = conversation_chain.invoke({\"question\": question})\n",
    "    return result[\"answer\"]"
   ]
  },
  {
   "cell_type": "code",
   "execution_count": 21,
   "id": "4322ba8d",
   "metadata": {},
   "outputs": [
    {
     "name": "stdout",
     "output_type": "stream",
     "text": [
      "* Running on local URL:  http://127.0.0.1:7860\n",
      "\n",
      "To create a public link, set `share=True` in `launch()`.\n"
     ]
    },
    {
     "data": {
      "text/html": [
       "<div><iframe src=\"http://127.0.0.1:7860/\" width=\"100%\" height=\"500\" allow=\"autoplay; camera; microphone; clipboard-read; clipboard-write;\" frameborder=\"0\" allowfullscreen></iframe></div>"
      ],
      "text/plain": [
       "<IPython.core.display.HTML object>"
      ]
     },
     "metadata": {},
     "output_type": "display_data"
    }
   ],
   "source": [
    "view = gr.ChatInterface(chat, type=\"messages\").launch(inbrowser=True)"
   ]
  },
  {
   "cell_type": "code",
   "execution_count": null,
   "id": "e26c90f5",
   "metadata": {},
   "outputs": [],
   "source": []
  }
 ],
 "metadata": {
  "kernelspec": {
   "display_name": "llms",
   "language": "python",
   "name": "python3"
  },
  "language_info": {
   "codemirror_mode": {
    "name": "ipython",
    "version": 3
   },
   "file_extension": ".py",
   "mimetype": "text/x-python",
   "name": "python",
   "nbconvert_exporter": "python",
   "pygments_lexer": "ipython3",
   "version": "3.11.11"
  }
 },
 "nbformat": 4,
 "nbformat_minor": 5
}
