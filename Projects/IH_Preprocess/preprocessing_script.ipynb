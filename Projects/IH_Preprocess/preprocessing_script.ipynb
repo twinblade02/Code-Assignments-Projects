{
 "cells": [
  {
   "cell_type": "code",
   "execution_count": 1,
   "id": "d419d774",
   "metadata": {},
   "outputs": [],
   "source": [
    "import numpy as np\n",
    "import pandas as pd\n",
    "import os\n",
    "import glob\n",
    "from pathlib import Path"
   ]
  },
  {
   "cell_type": "code",
   "execution_count": 2,
   "id": "9442393c",
   "metadata": {},
   "outputs": [],
   "source": [
    "def flatten(listOflists):\n",
    "    '''\n",
    "    Flattens a list of lists into a regular list.\n",
    "    '''\n",
    "    return [item for sublist in listOflists for item in sublist]"
   ]
  },
  {
   "cell_type": "code",
   "execution_count": 3,
   "id": "ff1be3bc",
   "metadata": {},
   "outputs": [],
   "source": [
    "def get_summaryLocation():\n",
    "    '''\n",
    "    Uses glob to retrieve funtion-summary.json locations.\n",
    "    Caveat: Assumes that the files are in the same working directory as the python kernel is running in.\n",
    "    Workaround in pipeline: use a shell/bash cd command to point abs path when using an orchestrator.\n",
    "    '''\n",
    "    func_summaryLoc = []\n",
    "    path = os.getcwd()+'\\\\hubfiles\\\\**\\\\**\\\\*[?.json]'\n",
    "    for filepath in glob.glob(path):\n",
    "        func_summaryLoc.append(filepath)\n",
    "        func_summaryLocFiltered = [i for i in func_summaryLoc if 'function-summary' in i]\n",
    "    return func_summaryLocFiltered"
   ]
  },
  {
   "cell_type": "code",
   "execution_count": 4,
   "id": "ac6345df",
   "metadata": {},
   "outputs": [],
   "source": [
    "def preprocess(func):\n",
    "    '''\n",
    "    Function that takes getSummaryLocation as an input, returns a dataframe with username, \n",
    "    submission week (string), and function_summaries files as output\n",
    "    '''\n",
    "    \n",
    "    userlist = []\n",
    "    submission_list = []\n",
    "    for path in func:\n",
    "        brokenPath = Path(path).parts\n",
    "        userlist.append(brokenPath[10])\n",
    "        submission_list.append(brokenPath[9])\n",
    "    tdf = pd.DataFrame({'username': userlist,\n",
    "                            'submission_week': submission_list,\n",
    "                            'path_to_file': func})\n",
    "    file_values = []\n",
    "    for val in tdf['path_to_file']:\n",
    "        data = pd.read_json(val)\n",
    "        summaries = data.values\n",
    "        flattened_summaries = flatten(summaries)\n",
    "        file_values.append(flattened_summaries)\n",
    "    tdf['function_summaries'] = file_values\n",
    "    tdf.drop(['path_to_file'], axis=1, inplace=True)\n",
    "    return tdf"
   ]
  },
  {
   "cell_type": "code",
   "execution_count": 5,
   "id": "8328db3f",
   "metadata": {},
   "outputs": [],
   "source": [
    "def map_weeks(dataframe):\n",
    "    '''\n",
    "    Takes a dataframe input with a column name \"submission_week\", and returns mappings of weeks for debugging\n",
    "    as well as a transformed dataframe with week numbers as an integer.\n",
    "    '''\n",
    "    week_mapping = dict()\n",
    "    for val in dataframe['submission_week'].unique():\n",
    "        text = val.split('-')\n",
    "        week_mapping[val] = int(text[1])\n",
    "\n",
    "    mapped_df = dataframe.replace({'submission_week': week_mapping})\n",
    "    return week_mapping, mapped_df"
   ]
  },
  {
   "cell_type": "code",
   "execution_count": 8,
   "id": "247d4aac",
   "metadata": {},
   "outputs": [],
   "source": [
    "def write_ToCSV(dataframe):\n",
    "    '''\n",
    "    Simple function to write out a dataframe as a CSV file.\n",
    "    '''\n",
    "    dataframe.to_csv('function_summaries.csv', index=False)"
   ]
  },
  {
   "cell_type": "code",
   "execution_count": 9,
   "id": "c08b394d",
   "metadata": {},
   "outputs": [],
   "source": [
    "data = preprocess(get_summaryLocation())\n",
    "_ , df = map_weeks(data)\n",
    "write_ToCSV(df)"
   ]
  }
 ],
 "metadata": {
  "kernelspec": {
   "display_name": "MDL",
   "language": "python",
   "name": "python3"
  },
  "language_info": {
   "codemirror_mode": {
    "name": "ipython",
    "version": 3
   },
   "file_extension": ".py",
   "mimetype": "text/x-python",
   "name": "python",
   "nbconvert_exporter": "python",
   "pygments_lexer": "ipython3",
   "version": "3.9.16"
  }
 },
 "nbformat": 4,
 "nbformat_minor": 5
}
