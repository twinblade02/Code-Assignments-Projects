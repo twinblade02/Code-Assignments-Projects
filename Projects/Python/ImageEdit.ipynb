{
 "cells": [
  {
   "cell_type": "code",
   "execution_count": 1,
   "metadata": {},
   "outputs": [],
   "source": [
    "from PIL import Image, ImageEnhance, ImageFilter\n",
    "import os\n",
    "\n",
    "def imageTrace(path,output_path):\n",
    "    for f in os.listdir(path):\n",
    "        img = Image.open(f\"{path}/{f}\")\n",
    "\n",
    "        edit_gray = img.filter(ImageFilter.SHARPEN).convert('L')\n",
    "        edit_smooth = edit_gray.filter(ImageFilter.SMOOTH)\n",
    "        edit_enhance = edit_smooth.filter(ImageFilter.EDGE_ENHANCE)\n",
    "        edit_edges = edit_enhance.filter(ImageFilter.FIND_EDGES)\n",
    "        contrast = ImageEnhance.Contrast(edit_edges)\n",
    "        edit_contrast = contrast.enhance(1.5)\n",
    "\n",
    "        clean_name = os.path.splitext(f)[0]\n",
    "\n",
    "        edit_contrast.save(f'.{output_path}/{clean_name}_edited.jpg')\n",
    "        return \"Output written to filepath\"\n",
    "\n",
    "\n",
    "def imageContour(path, output_path):\n",
    "    for f in os.listdir(path):\n",
    "        img = Image.open(f\"{path}/{f}\")\n",
    "\n",
    "        edit_gray = img.filter(ImageFilter.SHARPEN).convert('L')\n",
    "        edit_smooth = edit_gray.filter(ImageFilter.SMOOTH)\n",
    "        edit_enhance = edit_smooth.filter(ImageFilter.EDGE_ENHANCE)\n",
    "        edit_edges = edit_enhance.filter(ImageFilter.FIND_EDGES_MORE)\n",
    "        contrast = ImageEnhance.Contrast(edit_edges)\n",
    "        edit_contrast = contrast.enhance(1.5)\n",
    "        \n",
    "        clean_name = os.path.splitext(f)[0]\n",
    "\n",
    "        edit_contrast.save(f'.{output_path}/{clean_name}_edited.jpg')\n",
    "        return \"Output written to filepath\"\n",
    "\n",
    "def erode(cycles, image):\n",
    "    for _ in range(cycles):\n",
    "        image = image.filter(ImageFilter.MinFilter(3))\n",
    "    return image\n",
    "\n",
    "def dilate(cycles, image):\n",
    "    for _ in range(cycles):\n",
    "        image = image.filter(ImageFilter.MaxFilter(3))\n",
    "    return image"
   ]
  },
  {
   "cell_type": "code",
   "execution_count": 57,
   "metadata": {},
   "outputs": [],
   "source": [
    "path = 'C:/Users/ldmag/Pictures/NSX_v2.jpg'\n",
    "output_path = '/editedImages'"
   ]
  },
  {
   "cell_type": "code",
   "execution_count": 67,
   "metadata": {},
   "outputs": [],
   "source": [
    "img = Image.open(path)\n",
    "\n",
    "edit_gray = img.filter(ImageFilter.SHARPEN).convert('L')\n",
    "edit_smooth = edit_gray.filter(ImageFilter.SMOOTH)\n",
    "#edit_enhance = edit_smooth.filter(ImageFilter.EDGE_ENHANCE)\n",
    "edit_edges = edit_smooth.filter(ImageFilter.FIND_EDGES)\n",
    "contrast = ImageEnhance.Contrast(edit_edges)\n",
    "edit_contrast = contrast.enhance(1.5)\n",
    "\n",
    "edit_contrast.save('NSX_edited.jpg')"
   ]
  },
  {
   "cell_type": "code",
   "execution_count": 66,
   "metadata": {},
   "outputs": [],
   "source": [
    "edit_contrast.show()"
   ]
  },
  {
   "cell_type": "code",
   "execution_count": 45,
   "metadata": {},
   "outputs": [],
   "source": [
    "#for f in os.listdir(path):\n",
    "img = Image.open(f\"{path}\")\n",
    "\n",
    "edit_gray = img.filter(ImageFilter.SHARPEN).convert('L')\n",
    "threshold = 100\n",
    "edit_imgThreshold = edit_gray.point(lambda x: 255 if x > threshold else 0)"
   ]
  },
  {
   "cell_type": "code",
   "execution_count": 46,
   "metadata": {},
   "outputs": [],
   "source": [
    "r,g,b = img.split()\n",
    "r.show()\n",
    "g.show()\n",
    "b.show()"
   ]
  },
  {
   "cell_type": "code",
   "execution_count": 51,
   "metadata": {},
   "outputs": [],
   "source": [
    "threshold = 50\n",
    "edit_imgThreshold = r.point(lambda x: 255 if x > threshold else 0)\n",
    "edit_imgThreshold = edit_imgThreshold.convert('1')\n",
    "edit_imgThreshold.show()"
   ]
  },
  {
   "cell_type": "code",
   "execution_count": 57,
   "metadata": {},
   "outputs": [],
   "source": [
    "erode_edit = erode(25, edit_imgThreshold)\n",
    "erode_edit.show()"
   ]
  },
  {
   "cell_type": "code",
   "execution_count": 58,
   "metadata": {},
   "outputs": [],
   "source": [
    "dilate_edit = dilate(55, erode_edit)\n",
    "dilate_edit.show()"
   ]
  },
  {
   "cell_type": "code",
   "execution_count": 59,
   "metadata": {},
   "outputs": [],
   "source": [
    "mask = erode(40, dilate_edit)\n",
    "mask.show()"
   ]
  },
  {
   "cell_type": "code",
   "execution_count": null,
   "metadata": {},
   "outputs": [],
   "source": []
  }
 ],
 "metadata": {
  "kernelspec": {
   "display_name": "Python 3 (ipykernel)",
   "language": "python",
   "name": "python3"
  },
  "language_info": {
   "codemirror_mode": {
    "name": "ipython",
    "version": 3
   },
   "file_extension": ".py",
   "mimetype": "text/x-python",
   "name": "python",
   "nbconvert_exporter": "python",
   "pygments_lexer": "ipython3",
   "version": "3.9.7"
  },
  "vscode": {
   "interpreter": {
    "hash": "486e91f94a0c73049bb932fb1dbea3fd2d3ee58ee53202c9d4dba8da2eecab60"
   }
  }
 },
 "nbformat": 4,
 "nbformat_minor": 2
}
