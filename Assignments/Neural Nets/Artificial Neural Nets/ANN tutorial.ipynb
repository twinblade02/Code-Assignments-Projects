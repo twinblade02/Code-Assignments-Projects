{
 "cells": [
  {
   "cell_type": "code",
   "execution_count": 1,
   "metadata": {},
   "outputs": [
    {
     "name": "stderr",
     "output_type": "stream",
     "text": [
      "D:\\Anaconda\\lib\\importlib\\_bootstrap.py:219: RuntimeWarning: numpy.ufunc size changed, may indicate binary incompatibility. Expected 192 from C header, got 216 from PyObject\n",
      "  return f(*args, **kwds)\n",
      "D:\\Anaconda\\lib\\site-packages\\tensorflow\\python\\framework\\dtypes.py:516: FutureWarning: Passing (type, 1) or '1type' as a synonym of type is deprecated; in a future version of numpy, it will be understood as (type, (1,)) / '(1,)type'.\n",
      "  _np_qint8 = np.dtype([(\"qint8\", np.int8, 1)])\n",
      "D:\\Anaconda\\lib\\site-packages\\tensorflow\\python\\framework\\dtypes.py:517: FutureWarning: Passing (type, 1) or '1type' as a synonym of type is deprecated; in a future version of numpy, it will be understood as (type, (1,)) / '(1,)type'.\n",
      "  _np_quint8 = np.dtype([(\"quint8\", np.uint8, 1)])\n",
      "D:\\Anaconda\\lib\\site-packages\\tensorflow\\python\\framework\\dtypes.py:518: FutureWarning: Passing (type, 1) or '1type' as a synonym of type is deprecated; in a future version of numpy, it will be understood as (type, (1,)) / '(1,)type'.\n",
      "  _np_qint16 = np.dtype([(\"qint16\", np.int16, 1)])\n",
      "D:\\Anaconda\\lib\\site-packages\\tensorflow\\python\\framework\\dtypes.py:519: FutureWarning: Passing (type, 1) or '1type' as a synonym of type is deprecated; in a future version of numpy, it will be understood as (type, (1,)) / '(1,)type'.\n",
      "  _np_quint16 = np.dtype([(\"quint16\", np.uint16, 1)])\n",
      "D:\\Anaconda\\lib\\site-packages\\tensorflow\\python\\framework\\dtypes.py:520: FutureWarning: Passing (type, 1) or '1type' as a synonym of type is deprecated; in a future version of numpy, it will be understood as (type, (1,)) / '(1,)type'.\n",
      "  _np_qint32 = np.dtype([(\"qint32\", np.int32, 1)])\n",
      "D:\\Anaconda\\lib\\site-packages\\tensorflow\\python\\framework\\dtypes.py:525: FutureWarning: Passing (type, 1) or '1type' as a synonym of type is deprecated; in a future version of numpy, it will be understood as (type, (1,)) / '(1,)type'.\n",
      "  np_resource = np.dtype([(\"resource\", np.ubyte, 1)])\n",
      "D:\\Anaconda\\lib\\site-packages\\tensorboard\\compat\\tensorflow_stub\\dtypes.py:541: FutureWarning: Passing (type, 1) or '1type' as a synonym of type is deprecated; in a future version of numpy, it will be understood as (type, (1,)) / '(1,)type'.\n",
      "  _np_qint8 = np.dtype([(\"qint8\", np.int8, 1)])\n",
      "D:\\Anaconda\\lib\\site-packages\\tensorboard\\compat\\tensorflow_stub\\dtypes.py:542: FutureWarning: Passing (type, 1) or '1type' as a synonym of type is deprecated; in a future version of numpy, it will be understood as (type, (1,)) / '(1,)type'.\n",
      "  _np_quint8 = np.dtype([(\"quint8\", np.uint8, 1)])\n",
      "D:\\Anaconda\\lib\\site-packages\\tensorboard\\compat\\tensorflow_stub\\dtypes.py:543: FutureWarning: Passing (type, 1) or '1type' as a synonym of type is deprecated; in a future version of numpy, it will be understood as (type, (1,)) / '(1,)type'.\n",
      "  _np_qint16 = np.dtype([(\"qint16\", np.int16, 1)])\n",
      "D:\\Anaconda\\lib\\site-packages\\tensorboard\\compat\\tensorflow_stub\\dtypes.py:544: FutureWarning: Passing (type, 1) or '1type' as a synonym of type is deprecated; in a future version of numpy, it will be understood as (type, (1,)) / '(1,)type'.\n",
      "  _np_quint16 = np.dtype([(\"quint16\", np.uint16, 1)])\n",
      "D:\\Anaconda\\lib\\site-packages\\tensorboard\\compat\\tensorflow_stub\\dtypes.py:545: FutureWarning: Passing (type, 1) or '1type' as a synonym of type is deprecated; in a future version of numpy, it will be understood as (type, (1,)) / '(1,)type'.\n",
      "  _np_qint32 = np.dtype([(\"qint32\", np.int32, 1)])\n",
      "D:\\Anaconda\\lib\\site-packages\\tensorboard\\compat\\tensorflow_stub\\dtypes.py:550: FutureWarning: Passing (type, 1) or '1type' as a synonym of type is deprecated; in a future version of numpy, it will be understood as (type, (1,)) / '(1,)type'.\n",
      "  np_resource = np.dtype([(\"resource\", np.ubyte, 1)])\n"
     ]
    }
   ],
   "source": [
    "import pandas as pd\n",
    "import numpy as np\n",
    "import tensorflow as tf"
   ]
  },
  {
   "cell_type": "code",
   "execution_count": 2,
   "metadata": {},
   "outputs": [],
   "source": [
    "dataset = pd.read_csv('C:/Users/ldmag/Downloads/Churn_Modelling.csv')"
   ]
  },
  {
   "cell_type": "code",
   "execution_count": 3,
   "metadata": {},
   "outputs": [
    {
     "data": {
      "text/plain": [
       "<bound method NDFrame.head of       RowNumber  CustomerId    Surname  CreditScore Geography  Gender  Age  \\\n",
       "0             1    15634602   Hargrave          619    France  Female   42   \n",
       "1             2    15647311       Hill          608     Spain  Female   41   \n",
       "2             3    15619304       Onio          502    France  Female   42   \n",
       "3             4    15701354       Boni          699    France  Female   39   \n",
       "4             5    15737888   Mitchell          850     Spain  Female   43   \n",
       "...         ...         ...        ...          ...       ...     ...  ...   \n",
       "9995       9996    15606229   Obijiaku          771    France    Male   39   \n",
       "9996       9997    15569892  Johnstone          516    France    Male   35   \n",
       "9997       9998    15584532        Liu          709    France  Female   36   \n",
       "9998       9999    15682355  Sabbatini          772   Germany    Male   42   \n",
       "9999      10000    15628319     Walker          792    France  Female   28   \n",
       "\n",
       "      Tenure    Balance  NumOfProducts  HasCrCard  IsActiveMember  \\\n",
       "0          2       0.00              1          1               1   \n",
       "1          1   83807.86              1          0               1   \n",
       "2          8  159660.80              3          1               0   \n",
       "3          1       0.00              2          0               0   \n",
       "4          2  125510.82              1          1               1   \n",
       "...      ...        ...            ...        ...             ...   \n",
       "9995       5       0.00              2          1               0   \n",
       "9996      10   57369.61              1          1               1   \n",
       "9997       7       0.00              1          0               1   \n",
       "9998       3   75075.31              2          1               0   \n",
       "9999       4  130142.79              1          1               0   \n",
       "\n",
       "      EstimatedSalary  Exited  \n",
       "0           101348.88       1  \n",
       "1           112542.58       0  \n",
       "2           113931.57       1  \n",
       "3            93826.63       0  \n",
       "4            79084.10       0  \n",
       "...               ...     ...  \n",
       "9995         96270.64       0  \n",
       "9996        101699.77       0  \n",
       "9997         42085.58       1  \n",
       "9998         92888.52       1  \n",
       "9999         38190.78       0  \n",
       "\n",
       "[10000 rows x 14 columns]>"
      ]
     },
     "execution_count": 3,
     "metadata": {},
     "output_type": "execute_result"
    }
   ],
   "source": [
    "dataset.head"
   ]
  },
  {
   "cell_type": "code",
   "execution_count": 4,
   "metadata": {},
   "outputs": [],
   "source": [
    "X = dataset.iloc[:, 3:-1].values\n",
    "y = dataset.iloc[:, -1].values"
   ]
  },
  {
   "cell_type": "code",
   "execution_count": 5,
   "metadata": {},
   "outputs": [
    {
     "name": "stdout",
     "output_type": "stream",
     "text": [
      "[[619 'France' 'Female' ... 1 1 101348.88]\n",
      " [608 'Spain' 'Female' ... 0 1 112542.58]\n",
      " [502 'France' 'Female' ... 1 0 113931.57]\n",
      " ...\n",
      " [709 'France' 'Female' ... 0 1 42085.58]\n",
      " [772 'Germany' 'Male' ... 1 0 92888.52]\n",
      " [792 'France' 'Female' ... 1 0 38190.78]]\n"
     ]
    }
   ],
   "source": [
    "print(X)"
   ]
  },
  {
   "cell_type": "code",
   "execution_count": 6,
   "metadata": {},
   "outputs": [
    {
     "name": "stdout",
     "output_type": "stream",
     "text": [
      "[1 0 1 ... 1 1 0]\n"
     ]
    }
   ],
   "source": [
    "print(y)"
   ]
  },
  {
   "cell_type": "code",
   "execution_count": 7,
   "metadata": {},
   "outputs": [],
   "source": [
    "## Encoding categorical data\n",
    "# Gender\n",
    "from sklearn.preprocessing import LabelEncoder\n",
    "le = LabelEncoder()\n",
    "X[:,2] = le.fit_transform(X[:,2])"
   ]
  },
  {
   "cell_type": "code",
   "execution_count": 8,
   "metadata": {},
   "outputs": [
    {
     "name": "stdout",
     "output_type": "stream",
     "text": [
      "[[619 'France' 0 ... 1 1 101348.88]\n",
      " [608 'Spain' 0 ... 0 1 112542.58]\n",
      " [502 'France' 0 ... 1 0 113931.57]\n",
      " ...\n",
      " [709 'France' 0 ... 0 1 42085.58]\n",
      " [772 'Germany' 1 ... 1 0 92888.52]\n",
      " [792 'France' 0 ... 1 0 38190.78]]\n"
     ]
    }
   ],
   "source": [
    "print(X)"
   ]
  },
  {
   "cell_type": "code",
   "execution_count": 9,
   "metadata": {},
   "outputs": [],
   "source": [
    "# Geographical OHE\n",
    "from sklearn.preprocessing import OneHotEncoder\n",
    "from sklearn.compose import ColumnTransformer\n",
    "ot = ColumnTransformer(transformers=[('encoder', OneHotEncoder(), [1])], remainder='passthrough')\n",
    "X = np.array(ot.fit_transform(X))"
   ]
  },
  {
   "cell_type": "code",
   "execution_count": 10,
   "metadata": {},
   "outputs": [
    {
     "name": "stdout",
     "output_type": "stream",
     "text": [
      "[[1.0 0.0 0.0 ... 1 1 101348.88]\n",
      " [0.0 0.0 1.0 ... 0 1 112542.58]\n",
      " [1.0 0.0 0.0 ... 1 0 113931.57]\n",
      " ...\n",
      " [1.0 0.0 0.0 ... 0 1 42085.58]\n",
      " [0.0 1.0 0.0 ... 1 0 92888.52]\n",
      " [1.0 0.0 0.0 ... 1 0 38190.78]]\n"
     ]
    }
   ],
   "source": [
    "print(X)"
   ]
  },
  {
   "cell_type": "code",
   "execution_count": 11,
   "metadata": {},
   "outputs": [],
   "source": [
    "# splitting training and test \n",
    "from sklearn.model_selection import train_test_split\n",
    "X_train, X_test, y_train, y_test = train_test_split(X,y,test_size=0.2, random_state=0)\n",
    "\n",
    "# scaling features\n",
    "from sklearn.preprocessing import StandardScaler\n",
    "sc = StandardScaler()\n",
    "X_train = sc.fit_transform(X_train)\n",
    "X_test = sc.transform(X_test)"
   ]
  },
  {
   "cell_type": "code",
   "execution_count": 12,
   "metadata": {},
   "outputs": [],
   "source": [
    "## Building the ANN\n",
    "from keras.models import Sequential\n",
    "from keras.layers import Dense\n",
    "\n",
    "ann = Sequential()\n",
    "ann.add(Dense(units = 6, activation = 'relu')) #input layer and first hidden layer\n",
    "ann.add(Dense(units = 6, activation = 'relu')) #second hidden layer\n",
    "ann.add(Dense(units = 1, activation = 'sigmoid')) #output layer with 1 unit function because Y is binary\n",
    "\n",
    "# compile ANN\n",
    "ann.compile(optimizer='adam', loss='binary_crossentropy', metrics= ['accuracy'])"
   ]
  },
  {
   "cell_type": "code",
   "execution_count": 13,
   "metadata": {},
   "outputs": [
    {
     "name": "stdout",
     "output_type": "stream",
     "text": [
      "WARNING:tensorflow:From D:\\Anaconda\\lib\\site-packages\\tensorflow\\python\\ops\\nn_impl.py:180: add_dispatch_support.<locals>.wrapper (from tensorflow.python.ops.array_ops) is deprecated and will be removed in a future version.\n",
      "Instructions for updating:\n",
      "Use tf.where in 2.0, which has the same broadcast rule as np.where\n",
      "WARNING:tensorflow:From D:\\Anaconda\\lib\\site-packages\\keras\\backend\\tensorflow_backend.py:422: The name tf.global_variables is deprecated. Please use tf.compat.v1.global_variables instead.\n",
      "\n",
      "Epoch 1/150\n",
      "8000/8000 [==============================] - 2s 244us/step - loss: 0.5154 - accuracy: 0.7960\n",
      "Epoch 2/150\n",
      "8000/8000 [==============================] - 0s 52us/step - loss: 0.4715 - accuracy: 0.7960\n",
      "Epoch 3/150\n",
      "8000/8000 [==============================] - 0s 54us/step - loss: 0.4531 - accuracy: 0.7960\n",
      "Epoch 4/150\n",
      "8000/8000 [==============================] - 0s 54us/step - loss: 0.4380 - accuracy: 0.7960\n",
      "Epoch 5/150\n",
      "8000/8000 [==============================] - 0s 56us/step - loss: 0.4237 - accuracy: 0.8005\n",
      "Epoch 6/150\n",
      "8000/8000 [==============================] - 0s 54us/step - loss: 0.4107 - accuracy: 0.8120\n",
      "Epoch 7/150\n",
      "8000/8000 [==============================] - 0s 55us/step - loss: 0.4014 - accuracy: 0.8166\n",
      "Epoch 8/150\n",
      "8000/8000 [==============================] - 0s 54us/step - loss: 0.3940 - accuracy: 0.8169\n",
      "Epoch 9/150\n",
      "8000/8000 [==============================] - 0s 54us/step - loss: 0.3884 - accuracy: 0.8204\n",
      "Epoch 10/150\n",
      "8000/8000 [==============================] - 0s 61us/step - loss: 0.3842 - accuracy: 0.8191\n",
      "Epoch 11/150\n",
      "8000/8000 [==============================] - 0s 55us/step - loss: 0.3807 - accuracy: 0.8209\n",
      "Epoch 12/150\n",
      "8000/8000 [==============================] - 0s 54us/step - loss: 0.3776 - accuracy: 0.8239\n",
      "Epoch 13/150\n",
      "8000/8000 [==============================] - 0s 55us/step - loss: 0.3749 - accuracy: 0.8241\n",
      "Epoch 14/150\n",
      "8000/8000 [==============================] - 0s 58us/step - loss: 0.3724 - accuracy: 0.8330\n",
      "Epoch 15/150\n",
      "8000/8000 [==============================] - 0s 54us/step - loss: 0.3704 - accuracy: 0.8450\n",
      "Epoch 16/150\n",
      "8000/8000 [==============================] - 0s 54us/step - loss: 0.3689 - accuracy: 0.8461\n",
      "Epoch 17/150\n",
      "8000/8000 [==============================] - 0s 55us/step - loss: 0.3669 - accuracy: 0.8500\n",
      "Epoch 18/150\n",
      "8000/8000 [==============================] - 0s 55us/step - loss: 0.3655 - accuracy: 0.8512\n",
      "Epoch 19/150\n",
      "8000/8000 [==============================] - 0s 57us/step - loss: 0.3644 - accuracy: 0.8528\n",
      "Epoch 20/150\n",
      "8000/8000 [==============================] - 0s 55us/step - loss: 0.3626 - accuracy: 0.8541\n",
      "Epoch 21/150\n",
      "8000/8000 [==============================] - 0s 56us/step - loss: 0.3614 - accuracy: 0.8536\n",
      "Epoch 22/150\n",
      "8000/8000 [==============================] - 0s 55us/step - loss: 0.3605 - accuracy: 0.8550\n",
      "Epoch 23/150\n",
      "8000/8000 [==============================] - 0s 56us/step - loss: 0.3592 - accuracy: 0.8558\n",
      "Epoch 24/150\n",
      "8000/8000 [==============================] - 0s 53us/step - loss: 0.3583 - accuracy: 0.8560\n",
      "Epoch 25/150\n",
      "8000/8000 [==============================] - 0s 53us/step - loss: 0.3573 - accuracy: 0.8571\n",
      "Epoch 26/150\n",
      "8000/8000 [==============================] - 0s 55us/step - loss: 0.3567 - accuracy: 0.8560\n",
      "Epoch 27/150\n",
      "8000/8000 [==============================] - 0s 54us/step - loss: 0.3559 - accuracy: 0.8574\n",
      "Epoch 28/150\n",
      "8000/8000 [==============================] - 0s 56us/step - loss: 0.3545 - accuracy: 0.8586\n",
      "Epoch 29/150\n",
      "8000/8000 [==============================] - 0s 53us/step - loss: 0.3546 - accuracy: 0.8580\n",
      "Epoch 30/150\n",
      "8000/8000 [==============================] - 0s 56us/step - loss: 0.3534 - accuracy: 0.8594\n",
      "Epoch 31/150\n",
      "8000/8000 [==============================] - 0s 55us/step - loss: 0.3532 - accuracy: 0.8587\n",
      "Epoch 32/150\n",
      "8000/8000 [==============================] - 0s 54us/step - loss: 0.3523 - accuracy: 0.8585\n",
      "Epoch 33/150\n",
      "8000/8000 [==============================] - 0s 55us/step - loss: 0.3516 - accuracy: 0.8591\n",
      "Epoch 34/150\n",
      "8000/8000 [==============================] - 0s 53us/step - loss: 0.3512 - accuracy: 0.8581\n",
      "Epoch 35/150\n",
      "8000/8000 [==============================] - 0s 56us/step - loss: 0.3503 - accuracy: 0.8597\n",
      "Epoch 36/150\n",
      "8000/8000 [==============================] - 0s 55us/step - loss: 0.3499 - accuracy: 0.8599\n",
      "Epoch 37/150\n",
      "8000/8000 [==============================] - 0s 55us/step - loss: 0.3495 - accuracy: 0.8591\n",
      "Epoch 38/150\n",
      "8000/8000 [==============================] - 0s 52us/step - loss: 0.3493 - accuracy: 0.8601\n",
      "Epoch 39/150\n",
      "8000/8000 [==============================] - 0s 52us/step - loss: 0.3485 - accuracy: 0.8611\n",
      "Epoch 40/150\n",
      "8000/8000 [==============================] - 0s 56us/step - loss: 0.3480 - accuracy: 0.8593\n",
      "Epoch 41/150\n",
      "8000/8000 [==============================] - 0s 56us/step - loss: 0.3477 - accuracy: 0.8589\n",
      "Epoch 42/150\n",
      "8000/8000 [==============================] - 0s 55us/step - loss: 0.3475 - accuracy: 0.8602\n",
      "Epoch 43/150\n",
      "8000/8000 [==============================] - 0s 53us/step - loss: 0.3475 - accuracy: 0.8605\n",
      "Epoch 44/150\n",
      "8000/8000 [==============================] - 0s 55us/step - loss: 0.3470 - accuracy: 0.8609\n",
      "Epoch 45/150\n",
      "8000/8000 [==============================] - 0s 54us/step - loss: 0.3469 - accuracy: 0.8610\n",
      "Epoch 46/150\n",
      "8000/8000 [==============================] - 0s 59us/step - loss: 0.3462 - accuracy: 0.8621\n",
      "Epoch 47/150\n",
      "8000/8000 [==============================] - 0s 59us/step - loss: 0.3464 - accuracy: 0.8619\n",
      "Epoch 48/150\n",
      "8000/8000 [==============================] - 0s 54us/step - loss: 0.3458 - accuracy: 0.8601\n",
      "Epoch 49/150\n",
      "8000/8000 [==============================] - 0s 56us/step - loss: 0.3459 - accuracy: 0.8616\n",
      "Epoch 50/150\n",
      "8000/8000 [==============================] - 0s 54us/step - loss: 0.3457 - accuracy: 0.8600\n",
      "Epoch 51/150\n",
      "8000/8000 [==============================] - 0s 56us/step - loss: 0.3452 - accuracy: 0.8610\n",
      "Epoch 52/150\n",
      "8000/8000 [==============================] - 0s 54us/step - loss: 0.3448 - accuracy: 0.8616\n",
      "Epoch 53/150\n",
      "8000/8000 [==============================] - 0s 55us/step - loss: 0.3450 - accuracy: 0.8611\n",
      "Epoch 54/150\n",
      "8000/8000 [==============================] - 0s 55us/step - loss: 0.3447 - accuracy: 0.8616\n",
      "Epoch 55/150\n",
      "8000/8000 [==============================] - 0s 54us/step - loss: 0.3448 - accuracy: 0.8600\n",
      "Epoch 56/150\n",
      "8000/8000 [==============================] - 0s 57us/step - loss: 0.3442 - accuracy: 0.8615\n",
      "Epoch 57/150\n",
      "8000/8000 [==============================] - 0s 54us/step - loss: 0.3439 - accuracy: 0.8615\n",
      "Epoch 58/150\n",
      "8000/8000 [==============================] - 0s 55us/step - loss: 0.3435 - accuracy: 0.8615\n",
      "Epoch 59/150\n",
      "8000/8000 [==============================] - 0s 55us/step - loss: 0.3437 - accuracy: 0.8599\n",
      "Epoch 60/150\n",
      "8000/8000 [==============================] - 0s 56us/step - loss: 0.3436 - accuracy: 0.8602\n",
      "Epoch 61/150\n",
      "8000/8000 [==============================] - 0s 53us/step - loss: 0.3433 - accuracy: 0.8612\n",
      "Epoch 62/150\n",
      "8000/8000 [==============================] - 0s 54us/step - loss: 0.3431 - accuracy: 0.8630\n",
      "Epoch 63/150\n",
      "8000/8000 [==============================] - 0s 55us/step - loss: 0.3430 - accuracy: 0.8624\n",
      "Epoch 64/150\n",
      "8000/8000 [==============================] - 0s 57us/step - loss: 0.3425 - accuracy: 0.8621\n",
      "Epoch 65/150\n",
      "8000/8000 [==============================] - 0s 55us/step - loss: 0.3429 - accuracy: 0.8589\n",
      "Epoch 66/150\n",
      "8000/8000 [==============================] - 0s 55us/step - loss: 0.3427 - accuracy: 0.8621\n",
      "Epoch 67/150\n",
      "8000/8000 [==============================] - 0s 60us/step - loss: 0.3422 - accuracy: 0.8621\n",
      "Epoch 68/150\n",
      "8000/8000 [==============================] - 0s 56us/step - loss: 0.3422 - accuracy: 0.8615\n",
      "Epoch 69/150\n",
      "8000/8000 [==============================] - 0s 55us/step - loss: 0.3420 - accuracy: 0.8625\n",
      "Epoch 70/150\n",
      "8000/8000 [==============================] - 0s 52us/step - loss: 0.3417 - accuracy: 0.8604\n",
      "Epoch 71/150\n",
      "8000/8000 [==============================] - 0s 54us/step - loss: 0.3420 - accuracy: 0.8626\n",
      "Epoch 72/150\n",
      "8000/8000 [==============================] - 0s 55us/step - loss: 0.3416 - accuracy: 0.8636\n",
      "Epoch 73/150\n",
      "8000/8000 [==============================] - 0s 55us/step - loss: 0.3414 - accuracy: 0.8630\n",
      "Epoch 74/150\n"
     ]
    },
    {
     "name": "stdout",
     "output_type": "stream",
     "text": [
      "8000/8000 [==============================] - 0s 53us/step - loss: 0.3415 - accuracy: 0.8611\n",
      "Epoch 75/150\n",
      "8000/8000 [==============================] - 0s 52us/step - loss: 0.3416 - accuracy: 0.8610\n",
      "Epoch 76/150\n",
      "8000/8000 [==============================] - 0s 53us/step - loss: 0.3412 - accuracy: 0.8606\n",
      "Epoch 77/150\n",
      "8000/8000 [==============================] - 0s 54us/step - loss: 0.3412 - accuracy: 0.8636\n",
      "Epoch 78/150\n",
      "8000/8000 [==============================] - 0s 54us/step - loss: 0.3412 - accuracy: 0.8609\n",
      "Epoch 79/150\n",
      "8000/8000 [==============================] - 0s 52us/step - loss: 0.3409 - accuracy: 0.8608\n",
      "Epoch 80/150\n",
      "8000/8000 [==============================] - 0s 53us/step - loss: 0.3410 - accuracy: 0.8605\n",
      "Epoch 81/150\n",
      "8000/8000 [==============================] - 0s 52us/step - loss: 0.3406 - accuracy: 0.8622\n",
      "Epoch 82/150\n",
      "8000/8000 [==============================] - 0s 54us/step - loss: 0.3410 - accuracy: 0.8636\n",
      "Epoch 83/150\n",
      "8000/8000 [==============================] - 0s 61us/step - loss: 0.3408 - accuracy: 0.8619\n",
      "Epoch 84/150\n",
      "8000/8000 [==============================] - 0s 52us/step - loss: 0.3406 - accuracy: 0.8624\n",
      "Epoch 85/150\n",
      "8000/8000 [==============================] - 0s 54us/step - loss: 0.3403 - accuracy: 0.8622\n",
      "Epoch 86/150\n",
      "8000/8000 [==============================] - 0s 53us/step - loss: 0.3403 - accuracy: 0.8633\n",
      "Epoch 87/150\n",
      "8000/8000 [==============================] - 0s 53us/step - loss: 0.3402 - accuracy: 0.8631\n",
      "Epoch 88/150\n",
      "8000/8000 [==============================] - 0s 54us/step - loss: 0.3406 - accuracy: 0.8608\n",
      "Epoch 89/150\n",
      "8000/8000 [==============================] - 0s 53us/step - loss: 0.3404 - accuracy: 0.8610\n",
      "Epoch 90/150\n",
      "8000/8000 [==============================] - 0s 56us/step - loss: 0.3400 - accuracy: 0.8599\n",
      "Epoch 91/150\n",
      "8000/8000 [==============================] - 0s 56us/step - loss: 0.3404 - accuracy: 0.8621\n",
      "Epoch 92/150\n",
      "8000/8000 [==============================] - 0s 53us/step - loss: 0.3398 - accuracy: 0.8608\n",
      "Epoch 93/150\n",
      "8000/8000 [==============================] - 0s 52us/step - loss: 0.3400 - accuracy: 0.8618\n",
      "Epoch 94/150\n",
      "8000/8000 [==============================] - 0s 52us/step - loss: 0.3401 - accuracy: 0.8626\n",
      "Epoch 95/150\n",
      "8000/8000 [==============================] - 0s 54us/step - loss: 0.3397 - accuracy: 0.8611\n",
      "Epoch 96/150\n",
      "8000/8000 [==============================] - 0s 55us/step - loss: 0.3400 - accuracy: 0.8624\n",
      "Epoch 97/150\n",
      "8000/8000 [==============================] - 0s 55us/step - loss: 0.3396 - accuracy: 0.8611\n",
      "Epoch 98/150\n",
      "8000/8000 [==============================] - 0s 51us/step - loss: 0.3397 - accuracy: 0.8619\n",
      "Epoch 99/150\n",
      "8000/8000 [==============================] - 0s 55us/step - loss: 0.3397 - accuracy: 0.8633\n",
      "Epoch 100/150\n",
      "8000/8000 [==============================] - 0s 55us/step - loss: 0.3394 - accuracy: 0.8622\n",
      "Epoch 101/150\n",
      "8000/8000 [==============================] - 0s 54us/step - loss: 0.3397 - accuracy: 0.8629\n",
      "Epoch 102/150\n",
      "8000/8000 [==============================] - 0s 53us/step - loss: 0.3391 - accuracy: 0.8635\n",
      "Epoch 103/150\n",
      "8000/8000 [==============================] - 0s 53us/step - loss: 0.3392 - accuracy: 0.8615\n",
      "Epoch 104/150\n",
      "8000/8000 [==============================] - 0s 55us/step - loss: 0.3390 - accuracy: 0.8634\n",
      "Epoch 105/150\n",
      "8000/8000 [==============================] - 0s 55us/step - loss: 0.3393 - accuracy: 0.8629\n",
      "Epoch 106/150\n",
      "8000/8000 [==============================] - 0s 57us/step - loss: 0.3393 - accuracy: 0.8611\n",
      "Epoch 107/150\n",
      "8000/8000 [==============================] - 0s 53us/step - loss: 0.3388 - accuracy: 0.8629\n",
      "Epoch 108/150\n",
      "8000/8000 [==============================] - 0s 57us/step - loss: 0.3388 - accuracy: 0.8633\n",
      "Epoch 109/150\n",
      "8000/8000 [==============================] - 0s 55us/step - loss: 0.3389 - accuracy: 0.8625\n",
      "Epoch 110/150\n",
      "8000/8000 [==============================] - 0s 56us/step - loss: 0.3392 - accuracy: 0.8626\n",
      "Epoch 111/150\n",
      "8000/8000 [==============================] - 0s 57us/step - loss: 0.3384 - accuracy: 0.8624\n",
      "Epoch 112/150\n",
      "8000/8000 [==============================] - 0s 53us/step - loss: 0.3384 - accuracy: 0.8624\n",
      "Epoch 113/150\n",
      "8000/8000 [==============================] - 0s 57us/step - loss: 0.3386 - accuracy: 0.8626\n",
      "Epoch 114/150\n",
      "8000/8000 [==============================] - 0s 54us/step - loss: 0.3388 - accuracy: 0.8631\n",
      "Epoch 115/150\n",
      "8000/8000 [==============================] - 0s 56us/step - loss: 0.3388 - accuracy: 0.8614\n",
      "Epoch 116/150\n",
      "8000/8000 [==============================] - 0s 54us/step - loss: 0.3384 - accuracy: 0.8629\n",
      "Epoch 117/150\n",
      "8000/8000 [==============================] - 0s 55us/step - loss: 0.3385 - accuracy: 0.8621\n",
      "Epoch 118/150\n",
      "8000/8000 [==============================] - 0s 55us/step - loss: 0.3385 - accuracy: 0.8622\n",
      "Epoch 119/150\n",
      "8000/8000 [==============================] - 0s 57us/step - loss: 0.3385 - accuracy: 0.8641\n",
      "Epoch 120/150\n",
      "8000/8000 [==============================] - 0s 59us/step - loss: 0.3384 - accuracy: 0.8641\n",
      "Epoch 121/150\n",
      "8000/8000 [==============================] - 0s 55us/step - loss: 0.3385 - accuracy: 0.8618\n",
      "Epoch 122/150\n",
      "8000/8000 [==============================] - 0s 56us/step - loss: 0.3383 - accuracy: 0.8641\n",
      "Epoch 123/150\n",
      "8000/8000 [==============================] - 0s 55us/step - loss: 0.3385 - accuracy: 0.8618 0s - loss: 0.3509 - ac\n",
      "Epoch 124/150\n",
      "8000/8000 [==============================] - 0s 54us/step - loss: 0.3379 - accuracy: 0.8610\n",
      "Epoch 125/150\n",
      "8000/8000 [==============================] - 0s 56us/step - loss: 0.3383 - accuracy: 0.8609\n",
      "Epoch 126/150\n",
      "8000/8000 [==============================] - 0s 55us/step - loss: 0.3383 - accuracy: 0.8627\n",
      "Epoch 127/150\n",
      "8000/8000 [==============================] - 0s 55us/step - loss: 0.3383 - accuracy: 0.8631\n",
      "Epoch 128/150\n",
      "8000/8000 [==============================] - 0s 55us/step - loss: 0.3381 - accuracy: 0.8614\n",
      "Epoch 129/150\n",
      "8000/8000 [==============================] - 0s 57us/step - loss: 0.3381 - accuracy: 0.8625\n",
      "Epoch 130/150\n",
      "8000/8000 [==============================] - 0s 55us/step - loss: 0.3378 - accuracy: 0.8640\n",
      "Epoch 131/150\n",
      "8000/8000 [==============================] - ETA: 0s - loss: 0.3373 - accuracy: 0.86 - 0s 56us/step - loss: 0.3381 - accuracy: 0.8620\n",
      "Epoch 132/150\n",
      "8000/8000 [==============================] - 0s 57us/step - loss: 0.3380 - accuracy: 0.8622\n",
      "Epoch 133/150\n",
      "8000/8000 [==============================] - 0s 57us/step - loss: 0.3377 - accuracy: 0.8624\n",
      "Epoch 134/150\n",
      "8000/8000 [==============================] - 0s 52us/step - loss: 0.3383 - accuracy: 0.8618\n",
      "Epoch 135/150\n",
      "8000/8000 [==============================] - 0s 55us/step - loss: 0.3381 - accuracy: 0.8637\n",
      "Epoch 136/150\n",
      "8000/8000 [==============================] - 0s 58us/step - loss: 0.3375 - accuracy: 0.8633\n",
      "Epoch 137/150\n",
      "8000/8000 [==============================] - 0s 53us/step - loss: 0.3381 - accuracy: 0.8630\n",
      "Epoch 138/150\n",
      "8000/8000 [==============================] - 0s 52us/step - loss: 0.3380 - accuracy: 0.8621\n",
      "Epoch 139/150\n",
      "8000/8000 [==============================] - 0s 52us/step - loss: 0.3378 - accuracy: 0.8612\n",
      "Epoch 140/150\n",
      "8000/8000 [==============================] - 0s 55us/step - loss: 0.3378 - accuracy: 0.8626\n",
      "Epoch 141/150\n",
      "8000/8000 [==============================] - 0s 56us/step - loss: 0.3378 - accuracy: 0.8609\n",
      "Epoch 142/150\n",
      "8000/8000 [==============================] - 0s 57us/step - loss: 0.3379 - accuracy: 0.8622\n",
      "Epoch 143/150\n",
      "8000/8000 [==============================] - 0s 52us/step - loss: 0.3373 - accuracy: 0.8619\n",
      "Epoch 144/150\n",
      "8000/8000 [==============================] - 0s 54us/step - loss: 0.3375 - accuracy: 0.8635\n",
      "Epoch 145/150\n",
      "8000/8000 [==============================] - 0s 53us/step - loss: 0.3373 - accuracy: 0.8618\n",
      "Epoch 146/150\n",
      "8000/8000 [==============================] - 0s 52us/step - loss: 0.3381 - accuracy: 0.8626\n",
      "Epoch 147/150\n",
      "8000/8000 [==============================] - 0s 53us/step - loss: 0.3377 - accuracy: 0.8629\n",
      "Epoch 148/150\n",
      "8000/8000 [==============================] - 0s 62us/step - loss: 0.3372 - accuracy: 0.8619\n",
      "Epoch 149/150\n",
      "8000/8000 [==============================] - 0s 58us/step - loss: 0.3380 - accuracy: 0.8636\n",
      "Epoch 150/150\n",
      "8000/8000 [==============================] - 0s 54us/step - loss: 0.3378 - accuracy: 0.8630\n"
     ]
    },
    {
     "data": {
      "text/plain": [
       "<keras.callbacks.callbacks.History at 0x22a44220888>"
      ]
     },
     "execution_count": 13,
     "metadata": {},
     "output_type": "execute_result"
    }
   ],
   "source": [
    "## Training ANN \n",
    "ann.fit(X_train, y_train, batch_size = 32, epochs = 150)"
   ]
  },
  {
   "cell_type": "markdown",
   "metadata": {},
   "source": [
    "## CASE: Use our ANN model to predict if the customer with the following informations will leave the bank:\n",
    "\n",
    "Geography: France\n",
    "\n",
    "Credit Score: 600\n",
    "\n",
    "Gender: Male\n",
    "\n",
    "Age: 40 years old\n",
    "\n",
    "Tenure: 3 years\n",
    "\n",
    "Balance: $ 60000\n",
    "\n",
    "Number of Products: 2\n",
    "\n",
    "Does this customer have a credit card? Yes\n",
    "\n",
    "Is this customer an Active Member: Yes\n",
    "\n",
    "Estimated Salary: $ 50000\n",
    "\n",
    "So, should we say goodbye to that customer?"
   ]
  },
  {
   "cell_type": "code",
   "execution_count": 17,
   "metadata": {},
   "outputs": [
    {
     "name": "stdout",
     "output_type": "stream",
     "text": [
      "[[False]]\n"
     ]
    }
   ],
   "source": [
    "#any input needs to be a 2d array; use transform method for new observations\n",
    "#conditional operator states that value over 0.5 is considered as 1 in our conclusion\n",
    "print(ann.predict(sc.transform([[1,0,0, 600, 1, 40, 3, 60000, 2, 1, 1, 50000]])) > 0.5)\n",
    "\n",
    "# probability is given as 0.06, so this customer is likely to stay"
   ]
  },
  {
   "cell_type": "code",
   "execution_count": 19,
   "metadata": {},
   "outputs": [
    {
     "name": "stdout",
     "output_type": "stream",
     "text": [
      "[[0 0]\n",
      " [0 1]\n",
      " [0 0]\n",
      " ...\n",
      " [0 0]\n",
      " [0 0]\n",
      " [0 0]]\n"
     ]
    }
   ],
   "source": [
    "## Predicting test results\n",
    "y_pred = ann.predict(X_test)\n",
    "y_pred = (y_pred > 0.5)\n",
    "print(np.concatenate((y_pred.reshape(len(y_pred), 1), y_test.reshape(len(y_test),1)),1))"
   ]
  },
  {
   "cell_type": "code",
   "execution_count": 20,
   "metadata": {},
   "outputs": [
    {
     "name": "stdout",
     "output_type": "stream",
     "text": [
      "[[1523   72]\n",
      " [ 206  199]]\n"
     ]
    },
    {
     "data": {
      "text/plain": [
       "0.861"
      ]
     },
     "execution_count": 20,
     "metadata": {},
     "output_type": "execute_result"
    }
   ],
   "source": [
    "## Confusion matrix\n",
    "from sklearn.metrics import confusion_matrix, accuracy_score\n",
    "cm = confusion_matrix(y_test, y_pred)\n",
    "print(cm)\n",
    "accuracy_score(y_test, y_pred)"
   ]
  },
  {
   "cell_type": "code",
   "execution_count": null,
   "metadata": {},
   "outputs": [],
   "source": []
  }
 ],
 "metadata": {
  "kernelspec": {
   "display_name": "Python 3",
   "language": "python",
   "name": "python3"
  },
  "language_info": {
   "codemirror_mode": {
    "name": "ipython",
    "version": 3
   },
   "file_extension": ".py",
   "mimetype": "text/x-python",
   "name": "python",
   "nbconvert_exporter": "python",
   "pygments_lexer": "ipython3",
   "version": "3.7.7"
  }
 },
 "nbformat": 4,
 "nbformat_minor": 4
}
