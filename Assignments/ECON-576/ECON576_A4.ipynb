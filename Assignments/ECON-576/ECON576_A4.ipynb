{
 "cells": [
  {
   "cell_type": "code",
   "execution_count": 2,
   "metadata": {},
   "outputs": [],
   "source": [
    "import numpy as np\n",
    "import pandas as pd"
   ]
  },
  {
   "cell_type": "markdown",
   "metadata": {},
   "source": [
    "## 1b)"
   ]
  },
  {
   "cell_type": "code",
   "execution_count": 3,
   "metadata": {},
   "outputs": [],
   "source": [
    "data = pd.read_csv('C:/Users/ldmag/Downloads/logit_ridge.csv', header=None)"
   ]
  },
  {
   "cell_type": "code",
   "execution_count": 4,
   "metadata": {},
   "outputs": [],
   "source": [
    "# add ones for intercept; apparently you need to do this\n",
    "#data = np.column_stack((np.ones(len(data)), data))"
   ]
  },
  {
   "cell_type": "code",
   "execution_count": 5,
   "metadata": {},
   "outputs": [],
   "source": [
    "test_set = data[0:10]\n",
    "training_set = data[10:]"
   ]
  },
  {
   "cell_type": "code",
   "execution_count": 6,
   "metadata": {},
   "outputs": [
    {
     "data": {
      "text/html": [
       "<style>#sk-container-id-1 {color: black;background-color: white;}#sk-container-id-1 pre{padding: 0;}#sk-container-id-1 div.sk-toggleable {background-color: white;}#sk-container-id-1 label.sk-toggleable__label {cursor: pointer;display: block;width: 100%;margin-bottom: 0;padding: 0.3em;box-sizing: border-box;text-align: center;}#sk-container-id-1 label.sk-toggleable__label-arrow:before {content: \"▸\";float: left;margin-right: 0.25em;color: #696969;}#sk-container-id-1 label.sk-toggleable__label-arrow:hover:before {color: black;}#sk-container-id-1 div.sk-estimator:hover label.sk-toggleable__label-arrow:before {color: black;}#sk-container-id-1 div.sk-toggleable__content {max-height: 0;max-width: 0;overflow: hidden;text-align: left;background-color: #f0f8ff;}#sk-container-id-1 div.sk-toggleable__content pre {margin: 0.2em;color: black;border-radius: 0.25em;background-color: #f0f8ff;}#sk-container-id-1 input.sk-toggleable__control:checked~div.sk-toggleable__content {max-height: 200px;max-width: 100%;overflow: auto;}#sk-container-id-1 input.sk-toggleable__control:checked~label.sk-toggleable__label-arrow:before {content: \"▾\";}#sk-container-id-1 div.sk-estimator input.sk-toggleable__control:checked~label.sk-toggleable__label {background-color: #d4ebff;}#sk-container-id-1 div.sk-label input.sk-toggleable__control:checked~label.sk-toggleable__label {background-color: #d4ebff;}#sk-container-id-1 input.sk-hidden--visually {border: 0;clip: rect(1px 1px 1px 1px);clip: rect(1px, 1px, 1px, 1px);height: 1px;margin: -1px;overflow: hidden;padding: 0;position: absolute;width: 1px;}#sk-container-id-1 div.sk-estimator {font-family: monospace;background-color: #f0f8ff;border: 1px dotted black;border-radius: 0.25em;box-sizing: border-box;margin-bottom: 0.5em;}#sk-container-id-1 div.sk-estimator:hover {background-color: #d4ebff;}#sk-container-id-1 div.sk-parallel-item::after {content: \"\";width: 100%;border-bottom: 1px solid gray;flex-grow: 1;}#sk-container-id-1 div.sk-label:hover label.sk-toggleable__label {background-color: #d4ebff;}#sk-container-id-1 div.sk-serial::before {content: \"\";position: absolute;border-left: 1px solid gray;box-sizing: border-box;top: 0;bottom: 0;left: 50%;z-index: 0;}#sk-container-id-1 div.sk-serial {display: flex;flex-direction: column;align-items: center;background-color: white;padding-right: 0.2em;padding-left: 0.2em;position: relative;}#sk-container-id-1 div.sk-item {position: relative;z-index: 1;}#sk-container-id-1 div.sk-parallel {display: flex;align-items: stretch;justify-content: center;background-color: white;position: relative;}#sk-container-id-1 div.sk-item::before, #sk-container-id-1 div.sk-parallel-item::before {content: \"\";position: absolute;border-left: 1px solid gray;box-sizing: border-box;top: 0;bottom: 0;left: 50%;z-index: -1;}#sk-container-id-1 div.sk-parallel-item {display: flex;flex-direction: column;z-index: 1;position: relative;background-color: white;}#sk-container-id-1 div.sk-parallel-item:first-child::after {align-self: flex-end;width: 50%;}#sk-container-id-1 div.sk-parallel-item:last-child::after {align-self: flex-start;width: 50%;}#sk-container-id-1 div.sk-parallel-item:only-child::after {width: 0;}#sk-container-id-1 div.sk-dashed-wrapped {border: 1px dashed gray;margin: 0 0.4em 0.5em 0.4em;box-sizing: border-box;padding-bottom: 0.4em;background-color: white;}#sk-container-id-1 div.sk-label label {font-family: monospace;font-weight: bold;display: inline-block;line-height: 1.2em;}#sk-container-id-1 div.sk-label-container {text-align: center;}#sk-container-id-1 div.sk-container {/* jupyter's `normalize.less` sets `[hidden] { display: none; }` but bootstrap.min.css set `[hidden] { display: none !important; }` so we also need the `!important` here to be able to override the default hidden behavior on the sphinx rendered scikit-learn.org. See: https://github.com/scikit-learn/scikit-learn/issues/21755 */display: inline-block !important;position: relative;}#sk-container-id-1 div.sk-text-repr-fallback {display: none;}</style><div id=\"sk-container-id-1\" class=\"sk-top-container\"><div class=\"sk-text-repr-fallback\"><pre>LogisticRegression(C=1)</pre><b>In a Jupyter environment, please rerun this cell to show the HTML representation or trust the notebook. <br />On GitHub, the HTML representation is unable to render, please try loading this page with nbviewer.org.</b></div><div class=\"sk-container\" hidden><div class=\"sk-item\"><div class=\"sk-estimator sk-toggleable\"><input class=\"sk-toggleable__control sk-hidden--visually\" id=\"sk-estimator-id-1\" type=\"checkbox\" checked><label for=\"sk-estimator-id-1\" class=\"sk-toggleable__label sk-toggleable__label-arrow\">LogisticRegression</label><div class=\"sk-toggleable__content\"><pre>LogisticRegression(C=1)</pre></div></div></div></div></div>"
      ],
      "text/plain": [
       "LogisticRegression(C=1)"
      ]
     },
     "execution_count": 6,
     "metadata": {},
     "output_type": "execute_result"
    }
   ],
   "source": [
    "x_train = training_set.loc[:,1:21].values\n",
    "y_train = training_set.loc[:,:0].values\n",
    "\n",
    "from sklearn.linear_model import LogisticRegression\n",
    "\n",
    "model = LogisticRegression(penalty='l2', C=1, fit_intercept=True) # Applying ridge penalty with lambda = 1 and intercept\n",
    "model.fit(x_train, y_train.ravel())"
   ]
  },
  {
   "cell_type": "code",
   "execution_count": 7,
   "metadata": {},
   "outputs": [
    {
     "name": "stdout",
     "output_type": "stream",
     "text": [
      "[-0.14655573]\n",
      "Value of Beta 1: -2.6938423917371095\n",
      "Value of Beta 2: -0.2847969442088175\n"
     ]
    }
   ],
   "source": [
    "# print intercepts and coefficients (betas)\n",
    "print(model.intercept_)\n",
    "print('Value of Beta 1:', model.coef_[0,0])\n",
    "print('Value of Beta 2:', model.coef_[0,1])"
   ]
  },
  {
   "cell_type": "markdown",
   "metadata": {},
   "source": [
    "From scratch:"
   ]
  },
  {
   "cell_type": "code",
   "execution_count": 53,
   "metadata": {},
   "outputs": [],
   "source": [
    "def has_converged(beta_old, beta_new, tol=1e-8):\n",
    "    return np.all(np.abs(beta_new - beta_old) < tol)\n",
    "\n",
    "def sigmoid(x):\n",
    "    return 1 / (1 + np.exp(-x))\n",
    "\n",
    "def calculate_likelihood(X, y, beta):\n",
    "    y_pred = sigmoid(np.dot(X, beta))\n",
    "    likelihood = np.sum(y * np.log(y_pred) + (1 - y) * np.log(1 - y_pred))\n",
    "    return likelihood\n",
    "\n",
    "def calculate_penalty(beta):\n",
    "    penalty = np.sum(beta**2)\n",
    "    return penalty\n",
    "\n",
    "def calculate_objective(X, y, beta, _lambda):\n",
    "    likelihood = calculate_likelihood(X, y, beta)\n",
    "    penalty = _lambda * calculate_penalty(beta)\n",
    "    return likelihood - penalty\n",
    "\n",
    "def gradient_ascent(X, y, _lambda, alpha, num_iterations=50000, tol=1e-8):\n",
    "    # Normalize the features; using LogReg function documentation as reference from sklearn\n",
    "    X_normalized = (X - X.mean(axis=0)) / X.std(axis=0)\n",
    "\n",
    "    # Add a column of ones to X for the intercept term\n",
    "    X_normalized = np.column_stack((np.ones(len(X_normalized)), X_normalized))\n",
    "\n",
    "    num_features = X_normalized.shape[1]\n",
    "    beta = np.zeros((num_features, 1))\n",
    "\n",
    "    for i in range(num_iterations):\n",
    "        # Store the old beta values for convergence check\n",
    "        beta_old = beta.copy()\n",
    "\n",
    "        # Calculate the predicted values using the sigmoid function\n",
    "        y_pred = sigmoid(np.dot(X_normalized, beta))\n",
    "\n",
    "        # Calculate the gradient of the objective function\n",
    "        error = y - y_pred\n",
    "        likelihood_gradient = -np.dot(X_normalized.T, error)\n",
    "        penalty_gradient = 2 * _lambda * beta\n",
    "        gradient = likelihood_gradient + penalty_gradient\n",
    "\n",
    "        # Update beta using a smaller step size\n",
    "        beta = beta + alpha * gradient\n",
    "\n",
    "        # Print the objective value and beta values for every 5000 iterations\n",
    "\n",
    "        # Check for convergence\n",
    "        if has_converged(beta_old, beta, tol):\n",
    "            print(\"Converged! Stopping optimization.\")\n",
    "            break\n",
    "\n",
    "    return beta.flatten()"
   ]
  },
  {
   "cell_type": "code",
   "execution_count": 54,
   "metadata": {},
   "outputs": [],
   "source": [
    "beta_estimate = gradient_ascent(x_train, y_train, _lambda=1, alpha=1e-4, num_iterations=50)"
   ]
  },
  {
   "cell_type": "code",
   "execution_count": 56,
   "metadata": {},
   "outputs": [
    {
     "name": "stdout",
     "output_type": "stream",
     "text": [
      "Beta 1 estimate: 0.15085753165723068\n",
      "Beta 2 estimate: 0.03755128426486737\n",
      "Intercept: 0.09559361227620934\n"
     ]
    }
   ],
   "source": [
    "print('Beta 1 estimate:', beta_estimate[1])\n",
    "print('Beta 2 estimate:', beta_estimate[2])\n",
    "print('Intercept:', beta_estimate[0])"
   ]
  },
  {
   "cell_type": "markdown",
   "metadata": {},
   "source": [
    "## 1c)"
   ]
  },
  {
   "cell_type": "code",
   "execution_count": 57,
   "metadata": {},
   "outputs": [],
   "source": [
    "x_test = test_set.loc[:,1:20].values\n",
    "y_test = test_set.loc[:,:0].values"
   ]
  },
  {
   "cell_type": "code",
   "execution_count": 58,
   "metadata": {},
   "outputs": [],
   "source": [
    "y_pred = model.predict(x_test)\n",
    "errors = (y_test - y_pred)**2 #euclidean distance of error\n",
    "\n",
    "prediction_df = pd.DataFrame({'Actual': y_test.flatten(),\n",
    "                              'Predicted': y_pred})"
   ]
  },
  {
   "cell_type": "code",
   "execution_count": 59,
   "metadata": {},
   "outputs": [],
   "source": [
    "y_pred_probabilities = model.predict_proba(x_test)[:,1]\n",
    "errors = (y_test - y_pred_probabilities)**2"
   ]
  },
  {
   "cell_type": "code",
   "execution_count": 60,
   "metadata": {},
   "outputs": [
    {
     "name": "stdout",
     "output_type": "stream",
     "text": [
      "Average test error: 0.36793528837466366\n"
     ]
    }
   ],
   "source": [
    "print('Average test error:', errors.mean())"
   ]
  },
  {
   "cell_type": "markdown",
   "metadata": {},
   "source": [
    "From scratch"
   ]
  },
  {
   "cell_type": "code",
   "execution_count": 61,
   "metadata": {},
   "outputs": [
    {
     "name": "stdout",
     "output_type": "stream",
     "text": [
      "Average Test Error: 0.506510762111126\n"
     ]
    }
   ],
   "source": [
    "x_test_norm = (x_test - x_train.mean(axis=0)) / x_train.std(axis=0)\n",
    "# add intercept\n",
    "x_test_norm = np.column_stack((np.ones(len(x_test_norm)), x_test_norm))\n",
    "\n",
    "# predictions\n",
    "y_pred = sigmoid(np.dot(x_test_norm, beta_estimate))\n",
    "test_errors = np.abs(y_test-y_pred)\n",
    "print('Average Test Error:', np.mean(test_errors))"
   ]
  },
  {
   "cell_type": "code",
   "execution_count": null,
   "metadata": {},
   "outputs": [],
   "source": []
  }
 ],
 "metadata": {
  "kernelspec": {
   "display_name": "MDL2",
   "language": "python",
   "name": "python3"
  },
  "language_info": {
   "codemirror_mode": {
    "name": "ipython",
    "version": 3
   },
   "file_extension": ".py",
   "mimetype": "text/x-python",
   "name": "python",
   "nbconvert_exporter": "python",
   "pygments_lexer": "ipython3",
   "version": "3.11.3"
  }
 },
 "nbformat": 4,
 "nbformat_minor": 2
}
