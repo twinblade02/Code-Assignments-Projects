{
 "cells": [
  {
   "cell_type": "code",
   "execution_count": 1,
   "metadata": {},
   "outputs": [],
   "source": [
    "import numpy as np\n",
    "import pandas as pd\n",
    "import matplotlib.pyplot as plt"
   ]
  },
  {
   "cell_type": "code",
   "execution_count": 2,
   "metadata": {},
   "outputs": [],
   "source": [
    "raw = pd.read_csv('website_ab_test.csv')"
   ]
  },
  {
   "cell_type": "code",
   "execution_count": 3,
   "metadata": {},
   "outputs": [
    {
     "data": {
      "text/html": [
       "<div>\n",
       "<style scoped>\n",
       "    .dataframe tbody tr th:only-of-type {\n",
       "        vertical-align: middle;\n",
       "    }\n",
       "\n",
       "    .dataframe tbody tr th {\n",
       "        vertical-align: top;\n",
       "    }\n",
       "\n",
       "    .dataframe thead th {\n",
       "        text-align: right;\n",
       "    }\n",
       "</style>\n",
       "<table border=\"1\" class=\"dataframe\">\n",
       "  <thead>\n",
       "    <tr style=\"text-align: right;\">\n",
       "      <th></th>\n",
       "      <th>Theme</th>\n",
       "      <th>Click Through Rate</th>\n",
       "      <th>Conversion Rate</th>\n",
       "      <th>Bounce Rate</th>\n",
       "      <th>Scroll_Depth</th>\n",
       "      <th>Age</th>\n",
       "      <th>Location</th>\n",
       "      <th>Session_Duration</th>\n",
       "      <th>Purchases</th>\n",
       "      <th>Added_to_Cart</th>\n",
       "    </tr>\n",
       "  </thead>\n",
       "  <tbody>\n",
       "    <tr>\n",
       "      <th>0</th>\n",
       "      <td>Light Theme</td>\n",
       "      <td>0.054920</td>\n",
       "      <td>0.282367</td>\n",
       "      <td>0.405085</td>\n",
       "      <td>72.489458</td>\n",
       "      <td>25</td>\n",
       "      <td>Chennai</td>\n",
       "      <td>1535</td>\n",
       "      <td>No</td>\n",
       "      <td>Yes</td>\n",
       "    </tr>\n",
       "    <tr>\n",
       "      <th>1</th>\n",
       "      <td>Light Theme</td>\n",
       "      <td>0.113932</td>\n",
       "      <td>0.032973</td>\n",
       "      <td>0.732759</td>\n",
       "      <td>61.858568</td>\n",
       "      <td>19</td>\n",
       "      <td>Pune</td>\n",
       "      <td>303</td>\n",
       "      <td>No</td>\n",
       "      <td>Yes</td>\n",
       "    </tr>\n",
       "    <tr>\n",
       "      <th>2</th>\n",
       "      <td>Dark Theme</td>\n",
       "      <td>0.323352</td>\n",
       "      <td>0.178763</td>\n",
       "      <td>0.296543</td>\n",
       "      <td>45.737376</td>\n",
       "      <td>47</td>\n",
       "      <td>Chennai</td>\n",
       "      <td>563</td>\n",
       "      <td>Yes</td>\n",
       "      <td>Yes</td>\n",
       "    </tr>\n",
       "    <tr>\n",
       "      <th>3</th>\n",
       "      <td>Light Theme</td>\n",
       "      <td>0.485836</td>\n",
       "      <td>0.325225</td>\n",
       "      <td>0.245001</td>\n",
       "      <td>76.305298</td>\n",
       "      <td>58</td>\n",
       "      <td>Pune</td>\n",
       "      <td>385</td>\n",
       "      <td>Yes</td>\n",
       "      <td>No</td>\n",
       "    </tr>\n",
       "    <tr>\n",
       "      <th>4</th>\n",
       "      <td>Light Theme</td>\n",
       "      <td>0.034783</td>\n",
       "      <td>0.196766</td>\n",
       "      <td>0.765100</td>\n",
       "      <td>48.927407</td>\n",
       "      <td>25</td>\n",
       "      <td>New Delhi</td>\n",
       "      <td>1437</td>\n",
       "      <td>No</td>\n",
       "      <td>No</td>\n",
       "    </tr>\n",
       "    <tr>\n",
       "      <th>...</th>\n",
       "      <td>...</td>\n",
       "      <td>...</td>\n",
       "      <td>...</td>\n",
       "      <td>...</td>\n",
       "      <td>...</td>\n",
       "      <td>...</td>\n",
       "      <td>...</td>\n",
       "      <td>...</td>\n",
       "      <td>...</td>\n",
       "      <td>...</td>\n",
       "    </tr>\n",
       "    <tr>\n",
       "      <th>995</th>\n",
       "      <td>Dark Theme</td>\n",
       "      <td>0.282792</td>\n",
       "      <td>0.401605</td>\n",
       "      <td>0.200720</td>\n",
       "      <td>68.478822</td>\n",
       "      <td>25</td>\n",
       "      <td>Kolkata</td>\n",
       "      <td>321</td>\n",
       "      <td>Yes</td>\n",
       "      <td>Yes</td>\n",
       "    </tr>\n",
       "    <tr>\n",
       "      <th>996</th>\n",
       "      <td>Dark Theme</td>\n",
       "      <td>0.299917</td>\n",
       "      <td>0.026372</td>\n",
       "      <td>0.762641</td>\n",
       "      <td>73.019821</td>\n",
       "      <td>38</td>\n",
       "      <td>Chennai</td>\n",
       "      <td>1635</td>\n",
       "      <td>Yes</td>\n",
       "      <td>Yes</td>\n",
       "    </tr>\n",
       "    <tr>\n",
       "      <th>997</th>\n",
       "      <td>Light Theme</td>\n",
       "      <td>0.370254</td>\n",
       "      <td>0.019838</td>\n",
       "      <td>0.607136</td>\n",
       "      <td>33.963298</td>\n",
       "      <td>32</td>\n",
       "      <td>Bangalore</td>\n",
       "      <td>1237</td>\n",
       "      <td>No</td>\n",
       "      <td>Yes</td>\n",
       "    </tr>\n",
       "    <tr>\n",
       "      <th>998</th>\n",
       "      <td>Light Theme</td>\n",
       "      <td>0.095815</td>\n",
       "      <td>0.137953</td>\n",
       "      <td>0.458898</td>\n",
       "      <td>37.429284</td>\n",
       "      <td>24</td>\n",
       "      <td>Chennai</td>\n",
       "      <td>893</td>\n",
       "      <td>Yes</td>\n",
       "      <td>No</td>\n",
       "    </tr>\n",
       "    <tr>\n",
       "      <th>999</th>\n",
       "      <td>Dark Theme</td>\n",
       "      <td>0.342588</td>\n",
       "      <td>0.061315</td>\n",
       "      <td>0.452410</td>\n",
       "      <td>31.613326</td>\n",
       "      <td>33</td>\n",
       "      <td>Chennai</td>\n",
       "      <td>129</td>\n",
       "      <td>Yes</td>\n",
       "      <td>Yes</td>\n",
       "    </tr>\n",
       "  </tbody>\n",
       "</table>\n",
       "<p>1000 rows × 10 columns</p>\n",
       "</div>"
      ],
      "text/plain": [
       "           Theme  Click Through Rate  Conversion Rate  Bounce Rate  \\\n",
       "0    Light Theme            0.054920         0.282367     0.405085   \n",
       "1    Light Theme            0.113932         0.032973     0.732759   \n",
       "2     Dark Theme            0.323352         0.178763     0.296543   \n",
       "3    Light Theme            0.485836         0.325225     0.245001   \n",
       "4    Light Theme            0.034783         0.196766     0.765100   \n",
       "..           ...                 ...              ...          ...   \n",
       "995   Dark Theme            0.282792         0.401605     0.200720   \n",
       "996   Dark Theme            0.299917         0.026372     0.762641   \n",
       "997  Light Theme            0.370254         0.019838     0.607136   \n",
       "998  Light Theme            0.095815         0.137953     0.458898   \n",
       "999   Dark Theme            0.342588         0.061315     0.452410   \n",
       "\n",
       "     Scroll_Depth  Age   Location  Session_Duration Purchases Added_to_Cart  \n",
       "0       72.489458   25    Chennai              1535        No           Yes  \n",
       "1       61.858568   19       Pune               303        No           Yes  \n",
       "2       45.737376   47    Chennai               563       Yes           Yes  \n",
       "3       76.305298   58       Pune               385       Yes            No  \n",
       "4       48.927407   25  New Delhi              1437        No            No  \n",
       "..            ...  ...        ...               ...       ...           ...  \n",
       "995     68.478822   25    Kolkata               321       Yes           Yes  \n",
       "996     73.019821   38    Chennai              1635       Yes           Yes  \n",
       "997     33.963298   32  Bangalore              1237        No           Yes  \n",
       "998     37.429284   24    Chennai               893       Yes            No  \n",
       "999     31.613326   33    Chennai               129       Yes           Yes  \n",
       "\n",
       "[1000 rows x 10 columns]"
      ]
     },
     "execution_count": 3,
     "metadata": {},
     "output_type": "execute_result"
    }
   ],
   "source": [
    "raw"
   ]
  },
  {
   "cell_type": "code",
   "execution_count": 4,
   "metadata": {},
   "outputs": [],
   "source": [
    "map_themes = {'Light Theme': 0, 'Dark Theme': 1}\n",
    "map_binary = {'No': 0, 'Yes': 1}\n",
    "from sklearn.preprocessing import LabelEncoder\n",
    "\n",
    "LE = LabelEncoder()\n",
    "raw['Theme'] = raw['Theme'].map(map_themes)\n",
    "raw['Location'] = LE.fit_transform(raw['Location'])\n",
    "raw['Purchases'] = raw['Purchases'].map(map_binary)\n",
    "raw['Added_to_Cart'] = raw['Added_to_Cart'].map(map_binary)"
   ]
  },
  {
   "cell_type": "markdown",
   "metadata": {},
   "source": [
    "## Hypothesis 1:\n",
    "Light Theme users are more likely to add something to their carts than dark users\n",
    "\n",
    "H_a: Mu1 <= Mu2\n",
    "\n",
    "H_0: Mu1 > Mu2"
   ]
  },
  {
   "cell_type": "code",
   "execution_count": 5,
   "metadata": {},
   "outputs": [],
   "source": [
    "# split into two groups\n",
    "light = raw.query('Theme == 0')\n",
    "dark = raw.query('Theme == 1')"
   ]
  },
  {
   "cell_type": "code",
   "execution_count": 6,
   "metadata": {},
   "outputs": [],
   "source": [
    "# randomly sample 150 points from each group with no replacement; 300 total\n",
    "light_sample = light.sample(150, replace=False)\n",
    "dark_sample = dark.sample(150, replace=False)"
   ]
  },
  {
   "cell_type": "code",
   "execution_count": 7,
   "metadata": {},
   "outputs": [
    {
     "name": "stdout",
     "output_type": "stream",
     "text": [
      "t-statistic:  1.9727240829054609\n",
      "p-value:  0.04945128094355921\n"
     ]
    }
   ],
   "source": [
    "from scipy.stats import ttest_ind\n",
    "\n",
    "# t-test time\n",
    "t,p = ttest_ind(light_sample['Added_to_Cart'], dark_sample['Added_to_Cart'], equal_var=False)\n",
    "\n",
    "print(\"t-statistic: \", t)\n",
    "print(\"p-value: \", p)"
   ]
  },
  {
   "cell_type": "markdown",
   "metadata": {},
   "source": [
    "Given an alpha of 0.05; p > alpha (0.205) so we fail to reject the null hypothesis. Light theme users appear to be more likely to add something to their cart than dark users."
   ]
  },
  {
   "cell_type": "markdown",
   "metadata": {},
   "source": [
    "## One way Analysis of Variance"
   ]
  },
  {
   "cell_type": "markdown",
   "metadata": {},
   "source": [
    "Definitions:\n",
    "\n",
    "Click through rate (CTR): Measures how often people click on an ad, email, or webpage after seeing it.\n",
    "Conversion rate (CR): Percentage which measures how many users complete a given action after interacting with a digital asset.\n",
    "Bounce rate (BR): Measures the percentage of visitors to a website who leave after viewing only one page.\n",
    "\n",
    "We postulate the following hypothesis for ANOVA:\n",
    "\n",
    "***H0: Means of CTR for each group are the same***\n",
    "\n",
    "***Ha: At least one of the means is different***\n",
    "\n",
    "\n",
    "We first check the assumptions to see if an ANOVA will be useful:"
   ]
  },
  {
   "cell_type": "code",
   "execution_count": 8,
   "metadata": {},
   "outputs": [],
   "source": [
    "import statsmodels.api as sm\n",
    "import seaborn as sns\n",
    "\n",
    "sample_data = pd.concat([light_sample, dark_sample], axis=0)"
   ]
  },
  {
   "cell_type": "code",
   "execution_count": 9,
   "metadata": {},
   "outputs": [
    {
     "name": "stderr",
     "output_type": "stream",
     "text": [
      "d:\\Anaconda\\envs\\MDL2\\Lib\\site-packages\\seaborn\\_oldcore.py:1119: FutureWarning: use_inf_as_na option is deprecated and will be removed in a future version. Convert inf values to NaN before operating instead.\n",
      "  with pd.option_context('mode.use_inf_as_na', True):\n"
     ]
    },
    {
     "data": {
      "image/png": "[encoded data removed]",
      "text/plain": [
       "<Figure size 1000x600 with 1 Axes>"
      ]
     },
     "metadata": {},
     "output_type": "display_data"
    }
   ],
   "source": [
    "plt.figure(figsize=(10, 6))\n",
    "sns.histplot(light_sample, x='Click Through Rate', kde=True)\n",
    "plt.show()"
   ]
  },
  {
   "cell_type": "code",
   "execution_count": 10,
   "metadata": {},
   "outputs": [
    {
     "name": "stderr",
     "output_type": "stream",
     "text": [
      "d:\\Anaconda\\envs\\MDL2\\Lib\\site-packages\\seaborn\\_oldcore.py:1119: FutureWarning: use_inf_as_na option is deprecated and will be removed in a future version. Convert inf values to NaN before operating instead.\n",
      "  with pd.option_context('mode.use_inf_as_na', True):\n"
     ]
    },
    {
     "data": {
      "image/png": "[encoded data removed]",
      "text/plain": [
       "<Figure size 1000x600 with 1 Axes>"
      ]
     },
     "metadata": {},
     "output_type": "display_data"
    }
   ],
   "source": [
    "plt.figure(figsize=(10, 6))\n",
    "sns.histplot(dark_sample, x='Click Through Rate', kde=True)\n",
    "plt.show()"
   ]
  },
  {
   "cell_type": "code",
   "execution_count": 11,
   "metadata": {},
   "outputs": [
    {
     "data": {
      "text/plain": [
       "<Figure size 1000x600 with 0 Axes>"
      ]
     },
     "metadata": {},
     "output_type": "display_data"
    },
    {
     "data": {
      "image/png": "[encoded data removed]",
      "text/plain": [
       "<Figure size 640x480 with 1 Axes>"
      ]
     },
     "metadata": {},
     "output_type": "display_data"
    }
   ],
   "source": [
    "plt.figure(figsize=(10, 6))\n",
    "sm.qqplot(light_sample['Click Through Rate'], line='s')\n",
    "plt.show()"
   ]
  },
  {
   "cell_type": "code",
   "execution_count": 12,
   "metadata": {},
   "outputs": [
    {
     "data": {
      "text/plain": [
       "<Figure size 1000x600 with 0 Axes>"
      ]
     },
     "metadata": {},
     "output_type": "display_data"
    },
    {
     "data": {
      "image/png": "[encoded data removed]",
      "text/plain": [
       "<Figure size 640x480 with 1 Axes>"
      ]
     },
     "metadata": {},
     "output_type": "display_data"
    }
   ],
   "source": [
    "plt.figure(figsize=(10, 6))\n",
    "sm.qqplot(dark_sample['Click Through Rate'], line='s')\n",
    "plt.show()"
   ]
  },
  {
   "cell_type": "code",
   "execution_count": 15,
   "metadata": {},
   "outputs": [
    {
     "name": "stdout",
     "output_type": "stream",
     "text": [
      "Correlation between Theme and CTR: 0.020230720339925484\n"
     ]
    }
   ],
   "source": [
    "c = sample_data[['Theme','Click Through Rate']].corr()\n",
    "#mask = np.triu(np.ones_like(c, dtype=bool))\n",
    "\n",
    "print('Correlation between Theme and CTR:', c['Click Through Rate']['Theme'])"
   ]
  },
  {
   "cell_type": "code",
   "execution_count": 18,
   "metadata": {},
   "outputs": [
    {
     "data": {
      "text/html": [
       "<div>\n",
       "<style scoped>\n",
       "    .dataframe tbody tr th:only-of-type {\n",
       "        vertical-align: middle;\n",
       "    }\n",
       "\n",
       "    .dataframe tbody tr th {\n",
       "        vertical-align: top;\n",
       "    }\n",
       "\n",
       "    .dataframe thead th {\n",
       "        text-align: right;\n",
       "    }\n",
       "</style>\n",
       "<table border=\"1\" class=\"dataframe\">\n",
       "  <thead>\n",
       "    <tr style=\"text-align: right;\">\n",
       "      <th></th>\n",
       "      <th>Theme</th>\n",
       "      <th>count</th>\n",
       "      <th>mean</th>\n",
       "      <th>std</th>\n",
       "      <th>min</th>\n",
       "      <th>25%</th>\n",
       "      <th>50%</th>\n",
       "      <th>75%</th>\n",
       "      <th>max</th>\n",
       "    </tr>\n",
       "  </thead>\n",
       "  <tbody>\n",
       "    <tr>\n",
       "      <th>0</th>\n",
       "      <td>0</td>\n",
       "      <td>150.0</td>\n",
       "      <td>0.252551</td>\n",
       "      <td>0.136516</td>\n",
       "      <td>0.010767</td>\n",
       "      <td>0.144893</td>\n",
       "      <td>0.257072</td>\n",
       "      <td>0.354064</td>\n",
       "      <td>0.498659</td>\n",
       "    </tr>\n",
       "    <tr>\n",
       "      <th>1</th>\n",
       "      <td>1</td>\n",
       "      <td>150.0</td>\n",
       "      <td>0.258146</td>\n",
       "      <td>0.140900</td>\n",
       "      <td>0.019964</td>\n",
       "      <td>0.141005</td>\n",
       "      <td>0.249569</td>\n",
       "      <td>0.384744</td>\n",
       "      <td>0.493401</td>\n",
       "    </tr>\n",
       "  </tbody>\n",
       "</table>\n",
       "</div>"
      ],
      "text/plain": [
       "   Theme  count      mean       std       min       25%       50%       75%  \\\n",
       "0      0  150.0  0.252551  0.136516  0.010767  0.144893  0.257072  0.354064   \n",
       "1      1  150.0  0.258146  0.140900  0.019964  0.141005  0.249569  0.384744   \n",
       "\n",
       "        max  \n",
       "0  0.498659  \n",
       "1  0.493401  "
      ]
     },
     "execution_count": 18,
     "metadata": {},
     "output_type": "execute_result"
    }
   ],
   "source": [
    "sample_data.groupby('Theme', as_index=False)['Click Through Rate'].describe()"
   ]
  },
  {
   "cell_type": "code",
   "execution_count": 19,
   "metadata": {},
   "outputs": [
    {
     "data": {
      "image/png": "[encoded data removed]",
      "text/plain": [
       "<Figure size 1000x600 with 1 Axes>"
      ]
     },
     "metadata": {},
     "output_type": "display_data"
    }
   ],
   "source": [
    "plt.figure(figsize=(10, 6))\n",
    "sns.boxplot(data=sample_data, x='Theme', y='Click Through Rate')\n",
    "plt.show()"
   ]
  },
  {
   "cell_type": "markdown",
   "metadata": {},
   "source": [
    "Since the sample data is non-normal and the qq-plots show that the data follows a logistic pattern, this data is non-linear. There is weak positive correlation between Theme and CTR. We can assume that the data is normal because CLT is applicable, as `n=300`. The requirement for constant standard deviation is also satisfied as `2 * smallest std (0.136516) = 0.273032` is greater than the largest standard deviation of `0.140900`. There also appear to be no outliers in the sample for each group."
   ]
  },
  {
   "cell_type": "code",
   "execution_count": 21,
   "metadata": {},
   "outputs": [
    {
     "name": "stdout",
     "output_type": "stream",
     "text": [
      "F-statistic: 0.12201598850408665\n",
      "P-value: 0.7271048931761545\n"
     ]
    }
   ],
   "source": [
    "# 1 way ANOVA\n",
    "import scipy.stats as stats\n",
    "\n",
    "f_stat, p_val = stats.f_oneway(light_sample['Click Through Rate'], dark_sample['Click Through Rate'])\n",
    "\n",
    "print(\"F-statistic:\", f_stat)\n",
    "print(\"P-value:\", p_val)"
   ]
  },
  {
   "cell_type": "code",
   "execution_count": 23,
   "metadata": {},
   "outputs": [
    {
     "data": {
      "text/html": [
       "<div>\n",
       "<style scoped>\n",
       "    .dataframe tbody tr th:only-of-type {\n",
       "        vertical-align: middle;\n",
       "    }\n",
       "\n",
       "    .dataframe tbody tr th {\n",
       "        vertical-align: top;\n",
       "    }\n",
       "\n",
       "    .dataframe thead th {\n",
       "        text-align: right;\n",
       "    }\n",
       "</style>\n",
       "<table border=\"1\" class=\"dataframe\">\n",
       "  <thead>\n",
       "    <tr style=\"text-align: right;\">\n",
       "      <th></th>\n",
       "      <th>Theme</th>\n",
       "      <th>Click Through Rate</th>\n",
       "    </tr>\n",
       "  </thead>\n",
       "  <tbody>\n",
       "    <tr>\n",
       "      <th>528</th>\n",
       "      <td>0</td>\n",
       "      <td>0.498659</td>\n",
       "    </tr>\n",
       "    <tr>\n",
       "      <th>258</th>\n",
       "      <td>0</td>\n",
       "      <td>0.029180</td>\n",
       "    </tr>\n",
       "    <tr>\n",
       "      <th>84</th>\n",
       "      <td>0</td>\n",
       "      <td>0.221619</td>\n",
       "    </tr>\n",
       "    <tr>\n",
       "      <th>114</th>\n",
       "      <td>0</td>\n",
       "      <td>0.340739</td>\n",
       "    </tr>\n",
       "    <tr>\n",
       "      <th>404</th>\n",
       "      <td>0</td>\n",
       "      <td>0.182880</td>\n",
       "    </tr>\n",
       "    <tr>\n",
       "      <th>...</th>\n",
       "      <td>...</td>\n",
       "      <td>...</td>\n",
       "    </tr>\n",
       "    <tr>\n",
       "      <th>626</th>\n",
       "      <td>1</td>\n",
       "      <td>0.382726</td>\n",
       "    </tr>\n",
       "    <tr>\n",
       "      <th>758</th>\n",
       "      <td>1</td>\n",
       "      <td>0.491308</td>\n",
       "    </tr>\n",
       "    <tr>\n",
       "      <th>938</th>\n",
       "      <td>1</td>\n",
       "      <td>0.229783</td>\n",
       "    </tr>\n",
       "    <tr>\n",
       "      <th>55</th>\n",
       "      <td>1</td>\n",
       "      <td>0.071834</td>\n",
       "    </tr>\n",
       "    <tr>\n",
       "      <th>248</th>\n",
       "      <td>1</td>\n",
       "      <td>0.102237</td>\n",
       "    </tr>\n",
       "  </tbody>\n",
       "</table>\n",
       "<p>300 rows × 2 columns</p>\n",
       "</div>"
      ],
      "text/plain": [
       "     Theme  Click Through Rate\n",
       "528      0            0.498659\n",
       "258      0            0.029180\n",
       "84       0            0.221619\n",
       "114      0            0.340739\n",
       "404      0            0.182880\n",
       "..     ...                 ...\n",
       "626      1            0.382726\n",
       "758      1            0.491308\n",
       "938      1            0.229783\n",
       "55       1            0.071834\n",
       "248      1            0.102237\n",
       "\n",
       "[300 rows x 2 columns]"
      ]
     },
     "execution_count": 23,
     "metadata": {},
     "output_type": "execute_result"
    }
   ],
   "source": [
    "anova_data = sample_data[['Theme', 'Click Through Rate']]\n",
    "anova_data"
   ]
  },
  {
   "cell_type": "code",
   "execution_count": 25,
   "metadata": {},
   "outputs": [
    {
     "name": "stderr",
     "output_type": "stream",
     "text": [
      "C:\\Users\\ldmag\\AppData\\Local\\Temp\\ipykernel_34748\\3351835921.py:1: SettingWithCopyWarning: \n",
      "A value is trying to be set on a copy of a slice from a DataFrame\n",
      "\n",
      "See the caveats in the documentation: https://pandas.pydata.org/pandas-docs/stable/user_guide/indexing.html#returning-a-view-versus-a-copy\n",
      "  anova_data.rename(columns={'Click Through Rate': 'CTR'}, inplace=True)\n"
     ]
    },
    {
     "data": {
      "text/plain": [
       "Index(['Theme', 'CTR'], dtype='object')"
      ]
     },
     "execution_count": 25,
     "metadata": {},
     "output_type": "execute_result"
    }
   ],
   "source": [
    "anova_data.rename(columns={'Click Through Rate': 'CTR'}, inplace=True)\n",
    "anova_data.columns"
   ]
  },
  {
   "cell_type": "code",
   "execution_count": 26,
   "metadata": {},
   "outputs": [
    {
     "name": "stdout",
     "output_type": "stream",
     "text": [
      "            sum_sq     df         F    PR(>F)\n",
      "C(Theme)  0.002348    1.0  0.122016  0.727105\n",
      "Residual  5.734937  298.0       NaN       NaN\n"
     ]
    }
   ],
   "source": [
    "# ANOVA table\n",
    "from statsmodels.formula.api import ols\n",
    "import statsmodels.api as sm\n",
    "\n",
    "model = ols('CTR ~ C(Theme)', anova_data).fit()\n",
    "table = sm.stats.anova_lm(model, typ=2)\n",
    "\n",
    "print(table)"
   ]
  },
  {
   "cell_type": "code",
   "execution_count": 31,
   "metadata": {},
   "outputs": [
    {
     "name": "stdout",
     "output_type": "stream",
     "text": [
      "Explained Variance: 12.24\n"
     ]
    }
   ],
   "source": [
    "variance = anova_data['CTR'].var()\n",
    "explained_variance = table['sum_sq']['C(Theme)'] / variance * 100\n",
    "\n",
    "print(f'Explained Variance: {explained_variance:.2f}')"
   ]
  },
  {
   "cell_type": "markdown",
   "metadata": {},
   "source": [
    "Based on the following p-value of 0.727, and an alpha of 0.05: we fail to reject the null hypothesis. The mean CTR between both groups appear to be the same. Approximately 12.24% of the variance in the response variable 'Theme' is explained by the CTR variable. "
   ]
  },
  {
   "cell_type": "markdown",
   "metadata": {},
   "source": [
    "## Two Way Analysis of Variance\n",
    "\n",
    "For a two way ANOVA we need multiple categoric variables and a continuous response. We use the location variable and split the data on three categories: 'North India', 'South India', and 'Coastal India', under the new variable 'Region'. We will then attempt to examine the relationship between CTR, Theme, and Region. \n",
    "\n",
    "We can state the following hypotheses:\n",
    "\n",
    "H0: There is no difference in the mean CTR for any Region and Theme.\n",
    "\n",
    "Ha: There is a difference in mean CTR for one or more regions and themes."
   ]
  },
  {
   "cell_type": "code",
   "execution_count": 37,
   "metadata": {},
   "outputs": [],
   "source": [
    "inverse_theme = {v: k for k, v in map_themes.items()}"
   ]
  },
  {
   "cell_type": "code",
   "execution_count": 57,
   "metadata": {},
   "outputs": [
    {
     "data": {
      "text/html": [
       "<div>\n",
       "<style scoped>\n",
       "    .dataframe tbody tr th:only-of-type {\n",
       "        vertical-align: middle;\n",
       "    }\n",
       "\n",
       "    .dataframe tbody tr th {\n",
       "        vertical-align: top;\n",
       "    }\n",
       "\n",
       "    .dataframe thead th {\n",
       "        text-align: right;\n",
       "    }\n",
       "</style>\n",
       "<table border=\"1\" class=\"dataframe\">\n",
       "  <thead>\n",
       "    <tr style=\"text-align: right;\">\n",
       "      <th></th>\n",
       "      <th>Theme</th>\n",
       "      <th>Click Through Rate</th>\n",
       "      <th>Conversion Rate</th>\n",
       "      <th>Bounce Rate</th>\n",
       "      <th>Scroll_Depth</th>\n",
       "      <th>Age</th>\n",
       "      <th>Location</th>\n",
       "      <th>Session_Duration</th>\n",
       "      <th>Purchases</th>\n",
       "      <th>Added_to_Cart</th>\n",
       "      <th>Region</th>\n",
       "    </tr>\n",
       "  </thead>\n",
       "  <tbody>\n",
       "    <tr>\n",
       "      <th>0</th>\n",
       "      <td>Light Theme</td>\n",
       "      <td>0.054920</td>\n",
       "      <td>0.282367</td>\n",
       "      <td>0.405085</td>\n",
       "      <td>72.489458</td>\n",
       "      <td>25</td>\n",
       "      <td>Chennai</td>\n",
       "      <td>1535</td>\n",
       "      <td>0</td>\n",
       "      <td>1</td>\n",
       "      <td>South</td>\n",
       "    </tr>\n",
       "    <tr>\n",
       "      <th>1</th>\n",
       "      <td>Light Theme</td>\n",
       "      <td>0.113932</td>\n",
       "      <td>0.032973</td>\n",
       "      <td>0.732759</td>\n",
       "      <td>61.858568</td>\n",
       "      <td>19</td>\n",
       "      <td>Pune</td>\n",
       "      <td>303</td>\n",
       "      <td>0</td>\n",
       "      <td>1</td>\n",
       "      <td>North</td>\n",
       "    </tr>\n",
       "    <tr>\n",
       "      <th>2</th>\n",
       "      <td>Dark Theme</td>\n",
       "      <td>0.323352</td>\n",
       "      <td>0.178763</td>\n",
       "      <td>0.296543</td>\n",
       "      <td>45.737376</td>\n",
       "      <td>47</td>\n",
       "      <td>Chennai</td>\n",
       "      <td>563</td>\n",
       "      <td>1</td>\n",
       "      <td>1</td>\n",
       "      <td>South</td>\n",
       "    </tr>\n",
       "    <tr>\n",
       "      <th>3</th>\n",
       "      <td>Light Theme</td>\n",
       "      <td>0.485836</td>\n",
       "      <td>0.325225</td>\n",
       "      <td>0.245001</td>\n",
       "      <td>76.305298</td>\n",
       "      <td>58</td>\n",
       "      <td>Pune</td>\n",
       "      <td>385</td>\n",
       "      <td>1</td>\n",
       "      <td>0</td>\n",
       "      <td>North</td>\n",
       "    </tr>\n",
       "    <tr>\n",
       "      <th>4</th>\n",
       "      <td>Light Theme</td>\n",
       "      <td>0.034783</td>\n",
       "      <td>0.196766</td>\n",
       "      <td>0.765100</td>\n",
       "      <td>48.927407</td>\n",
       "      <td>25</td>\n",
       "      <td>New Delhi</td>\n",
       "      <td>1437</td>\n",
       "      <td>0</td>\n",
       "      <td>0</td>\n",
       "      <td>North</td>\n",
       "    </tr>\n",
       "    <tr>\n",
       "      <th>...</th>\n",
       "      <td>...</td>\n",
       "      <td>...</td>\n",
       "      <td>...</td>\n",
       "      <td>...</td>\n",
       "      <td>...</td>\n",
       "      <td>...</td>\n",
       "      <td>...</td>\n",
       "      <td>...</td>\n",
       "      <td>...</td>\n",
       "      <td>...</td>\n",
       "      <td>...</td>\n",
       "    </tr>\n",
       "    <tr>\n",
       "      <th>995</th>\n",
       "      <td>Dark Theme</td>\n",
       "      <td>0.282792</td>\n",
       "      <td>0.401605</td>\n",
       "      <td>0.200720</td>\n",
       "      <td>68.478822</td>\n",
       "      <td>25</td>\n",
       "      <td>Kolkata</td>\n",
       "      <td>321</td>\n",
       "      <td>1</td>\n",
       "      <td>1</td>\n",
       "      <td>Coastal</td>\n",
       "    </tr>\n",
       "    <tr>\n",
       "      <th>996</th>\n",
       "      <td>Dark Theme</td>\n",
       "      <td>0.299917</td>\n",
       "      <td>0.026372</td>\n",
       "      <td>0.762641</td>\n",
       "      <td>73.019821</td>\n",
       "      <td>38</td>\n",
       "      <td>Chennai</td>\n",
       "      <td>1635</td>\n",
       "      <td>1</td>\n",
       "      <td>1</td>\n",
       "      <td>South</td>\n",
       "    </tr>\n",
       "    <tr>\n",
       "      <th>997</th>\n",
       "      <td>Light Theme</td>\n",
       "      <td>0.370254</td>\n",
       "      <td>0.019838</td>\n",
       "      <td>0.607136</td>\n",
       "      <td>33.963298</td>\n",
       "      <td>32</td>\n",
       "      <td>Bangalore</td>\n",
       "      <td>1237</td>\n",
       "      <td>0</td>\n",
       "      <td>1</td>\n",
       "      <td>South</td>\n",
       "    </tr>\n",
       "    <tr>\n",
       "      <th>998</th>\n",
       "      <td>Light Theme</td>\n",
       "      <td>0.095815</td>\n",
       "      <td>0.137953</td>\n",
       "      <td>0.458898</td>\n",
       "      <td>37.429284</td>\n",
       "      <td>24</td>\n",
       "      <td>Chennai</td>\n",
       "      <td>893</td>\n",
       "      <td>1</td>\n",
       "      <td>0</td>\n",
       "      <td>South</td>\n",
       "    </tr>\n",
       "    <tr>\n",
       "      <th>999</th>\n",
       "      <td>Dark Theme</td>\n",
       "      <td>0.342588</td>\n",
       "      <td>0.061315</td>\n",
       "      <td>0.452410</td>\n",
       "      <td>31.613326</td>\n",
       "      <td>33</td>\n",
       "      <td>Chennai</td>\n",
       "      <td>129</td>\n",
       "      <td>1</td>\n",
       "      <td>1</td>\n",
       "      <td>South</td>\n",
       "    </tr>\n",
       "  </tbody>\n",
       "</table>\n",
       "<p>1000 rows × 11 columns</p>\n",
       "</div>"
      ],
      "text/plain": [
       "           Theme  Click Through Rate  Conversion Rate  Bounce Rate  \\\n",
       "0    Light Theme            0.054920         0.282367     0.405085   \n",
       "1    Light Theme            0.113932         0.032973     0.732759   \n",
       "2     Dark Theme            0.323352         0.178763     0.296543   \n",
       "3    Light Theme            0.485836         0.325225     0.245001   \n",
       "4    Light Theme            0.034783         0.196766     0.765100   \n",
       "..           ...                 ...              ...          ...   \n",
       "995   Dark Theme            0.282792         0.401605     0.200720   \n",
       "996   Dark Theme            0.299917         0.026372     0.762641   \n",
       "997  Light Theme            0.370254         0.019838     0.607136   \n",
       "998  Light Theme            0.095815         0.137953     0.458898   \n",
       "999   Dark Theme            0.342588         0.061315     0.452410   \n",
       "\n",
       "     Scroll_Depth  Age   Location  Session_Duration  Purchases  Added_to_Cart  \\\n",
       "0       72.489458   25    Chennai              1535          0              1   \n",
       "1       61.858568   19       Pune               303          0              1   \n",
       "2       45.737376   47    Chennai               563          1              1   \n",
       "3       76.305298   58       Pune               385          1              0   \n",
       "4       48.927407   25  New Delhi              1437          0              0   \n",
       "..            ...  ...        ...               ...        ...            ...   \n",
       "995     68.478822   25    Kolkata               321          1              1   \n",
       "996     73.019821   38    Chennai              1635          1              1   \n",
       "997     33.963298   32  Bangalore              1237          0              1   \n",
       "998     37.429284   24    Chennai               893          1              0   \n",
       "999     31.613326   33    Chennai               129          1              1   \n",
       "\n",
       "      Region  \n",
       "0      South  \n",
       "1      North  \n",
       "2      South  \n",
       "3      North  \n",
       "4      North  \n",
       "..       ...  \n",
       "995  Coastal  \n",
       "996    South  \n",
       "997    South  \n",
       "998    South  \n",
       "999    South  \n",
       "\n",
       "[1000 rows x 11 columns]"
      ]
     },
     "execution_count": 57,
     "metadata": {},
     "output_type": "execute_result"
    }
   ],
   "source": [
    "raw"
   ]
  },
  {
   "cell_type": "code",
   "execution_count": 41,
   "metadata": {},
   "outputs": [],
   "source": [
    "raw['Theme'] = raw['Theme'].map(inverse_theme)\n",
    "raw['Location'] = LE.inverse_transform(raw['Location'])"
   ]
  },
  {
   "cell_type": "code",
   "execution_count": 44,
   "metadata": {},
   "outputs": [],
   "source": [
    "raw['Region'] = ''\n",
    "raw.loc[(raw['Location'] == 'Kolkata') | (raw['Location'] == 'Mumbai'), 'Region'] = 'Coastal'\n",
    "raw.loc[(raw['Location'] == 'Pune') | (raw['Location'] == 'New Delhi'), 'Region'] = 'North'\n",
    "raw.loc[(raw['Location'] == 'Bangalore') | (raw['Location'] == 'Chennai'), 'Region'] = 'South'"
   ]
  },
  {
   "cell_type": "code",
   "execution_count": 48,
   "metadata": {},
   "outputs": [
    {
     "data": {
      "text/html": [
       "<div>\n",
       "<style scoped>\n",
       "    .dataframe tbody tr th:only-of-type {\n",
       "        vertical-align: middle;\n",
       "    }\n",
       "\n",
       "    .dataframe tbody tr th {\n",
       "        vertical-align: top;\n",
       "    }\n",
       "\n",
       "    .dataframe thead th {\n",
       "        text-align: right;\n",
       "    }\n",
       "</style>\n",
       "<table border=\"1\" class=\"dataframe\">\n",
       "  <thead>\n",
       "    <tr style=\"text-align: right;\">\n",
       "      <th></th>\n",
       "      <th>Click Through Rate</th>\n",
       "      <th>Conversion Rate</th>\n",
       "      <th>Bounce Rate</th>\n",
       "      <th>Scroll_Depth</th>\n",
       "      <th>Age</th>\n",
       "      <th>Session_Duration</th>\n",
       "      <th>Purchases</th>\n",
       "      <th>Added_to_Cart</th>\n",
       "    </tr>\n",
       "  </thead>\n",
       "  <tbody>\n",
       "    <tr>\n",
       "      <th>count</th>\n",
       "      <td>300.000000</td>\n",
       "      <td>300.000000</td>\n",
       "      <td>300.000000</td>\n",
       "      <td>300.000000</td>\n",
       "      <td>300.000000</td>\n",
       "      <td>300.000000</td>\n",
       "      <td>300.000000</td>\n",
       "      <td>300.000000</td>\n",
       "    </tr>\n",
       "    <tr>\n",
       "      <th>mean</th>\n",
       "      <td>0.259842</td>\n",
       "      <td>0.250083</td>\n",
       "      <td>0.500102</td>\n",
       "      <td>49.697928</td>\n",
       "      <td>41.850000</td>\n",
       "      <td>927.460000</td>\n",
       "      <td>0.503333</td>\n",
       "      <td>0.516667</td>\n",
       "    </tr>\n",
       "    <tr>\n",
       "      <th>std</th>\n",
       "      <td>0.136006</td>\n",
       "      <td>0.143685</td>\n",
       "      <td>0.174326</td>\n",
       "      <td>16.660757</td>\n",
       "      <td>14.387175</td>\n",
       "      <td>496.985093</td>\n",
       "      <td>0.500824</td>\n",
       "      <td>0.500557</td>\n",
       "    </tr>\n",
       "    <tr>\n",
       "      <th>min</th>\n",
       "      <td>0.018933</td>\n",
       "      <td>0.011259</td>\n",
       "      <td>0.200720</td>\n",
       "      <td>20.211974</td>\n",
       "      <td>18.000000</td>\n",
       "      <td>46.000000</td>\n",
       "      <td>0.000000</td>\n",
       "      <td>0.000000</td>\n",
       "    </tr>\n",
       "    <tr>\n",
       "      <th>25%</th>\n",
       "      <td>0.149469</td>\n",
       "      <td>0.130255</td>\n",
       "      <td>0.336708</td>\n",
       "      <td>35.428048</td>\n",
       "      <td>29.000000</td>\n",
       "      <td>503.750000</td>\n",
       "      <td>0.000000</td>\n",
       "      <td>0.000000</td>\n",
       "    </tr>\n",
       "    <tr>\n",
       "      <th>50%</th>\n",
       "      <td>0.260351</td>\n",
       "      <td>0.263629</td>\n",
       "      <td>0.524255</td>\n",
       "      <td>49.688709</td>\n",
       "      <td>42.000000</td>\n",
       "      <td>927.000000</td>\n",
       "      <td>1.000000</td>\n",
       "      <td>1.000000</td>\n",
       "    </tr>\n",
       "    <tr>\n",
       "      <th>75%</th>\n",
       "      <td>0.364141</td>\n",
       "      <td>0.367991</td>\n",
       "      <td>0.647332</td>\n",
       "      <td>63.797461</td>\n",
       "      <td>55.000000</td>\n",
       "      <td>1355.000000</td>\n",
       "      <td>1.000000</td>\n",
       "      <td>1.000000</td>\n",
       "    </tr>\n",
       "    <tr>\n",
       "      <th>max</th>\n",
       "      <td>0.499989</td>\n",
       "      <td>0.498874</td>\n",
       "      <td>0.794046</td>\n",
       "      <td>79.842038</td>\n",
       "      <td>65.000000</td>\n",
       "      <td>1795.000000</td>\n",
       "      <td>1.000000</td>\n",
       "      <td>1.000000</td>\n",
       "    </tr>\n",
       "  </tbody>\n",
       "</table>\n",
       "</div>"
      ],
      "text/plain": [
       "       Click Through Rate  Conversion Rate  Bounce Rate  Scroll_Depth  \\\n",
       "count          300.000000       300.000000   300.000000    300.000000   \n",
       "mean             0.259842         0.250083     0.500102     49.697928   \n",
       "std              0.136006         0.143685     0.174326     16.660757   \n",
       "min              0.018933         0.011259     0.200720     20.211974   \n",
       "25%              0.149469         0.130255     0.336708     35.428048   \n",
       "50%              0.260351         0.263629     0.524255     49.688709   \n",
       "75%              0.364141         0.367991     0.647332     63.797461   \n",
       "max              0.499989         0.498874     0.794046     79.842038   \n",
       "\n",
       "              Age  Session_Duration   Purchases  Added_to_Cart  \n",
       "count  300.000000        300.000000  300.000000     300.000000  \n",
       "mean    41.850000        927.460000    0.503333       0.516667  \n",
       "std     14.387175        496.985093    0.500824       0.500557  \n",
       "min     18.000000         46.000000    0.000000       0.000000  \n",
       "25%     29.000000        503.750000    0.000000       0.000000  \n",
       "50%     42.000000        927.000000    1.000000       1.000000  \n",
       "75%     55.000000       1355.000000    1.000000       1.000000  \n",
       "max     65.000000       1795.000000    1.000000       1.000000  "
      ]
     },
     "execution_count": 48,
     "metadata": {},
     "output_type": "execute_result"
    }
   ],
   "source": [
    "# randomly sample 300 datapoints\n",
    "sample_data2 = raw.sample(n=300, random_state=42)\n",
    "sample_data2.describe()"
   ]
  },
  {
   "cell_type": "code",
   "execution_count": 61,
   "metadata": {},
   "outputs": [
    {
     "name": "stderr",
     "output_type": "stream",
     "text": [
      "C:\\Users\\ldmag\\AppData\\Local\\Temp\\ipykernel_34748\\297142345.py:2: SettingWithCopyWarning: \n",
      "A value is trying to be set on a copy of a slice from a DataFrame\n",
      "\n",
      "See the caveats in the documentation: https://pandas.pydata.org/pandas-docs/stable/user_guide/indexing.html#returning-a-view-versus-a-copy\n",
      "  two_anovaData.rename(columns={'Click Through Rate': 'CTR'}, inplace=True)\n"
     ]
    }
   ],
   "source": [
    "two_anovaData = sample_data2[['Click Through Rate', 'Theme', 'Region']]\n",
    "two_anovaData.rename(columns={'Click Through Rate': 'CTR'}, inplace=True)"
   ]
  },
  {
   "cell_type": "code",
   "execution_count": 62,
   "metadata": {},
   "outputs": [
    {
     "data": {
      "text/html": [
       "<div>\n",
       "<style scoped>\n",
       "    .dataframe tbody tr th:only-of-type {\n",
       "        vertical-align: middle;\n",
       "    }\n",
       "\n",
       "    .dataframe tbody tr th {\n",
       "        vertical-align: top;\n",
       "    }\n",
       "\n",
       "    .dataframe thead th {\n",
       "        text-align: right;\n",
       "    }\n",
       "</style>\n",
       "<table border=\"1\" class=\"dataframe\">\n",
       "  <thead>\n",
       "    <tr style=\"text-align: right;\">\n",
       "      <th></th>\n",
       "      <th>CTR</th>\n",
       "      <th>Theme</th>\n",
       "      <th>Region</th>\n",
       "    </tr>\n",
       "  </thead>\n",
       "  <tbody>\n",
       "    <tr>\n",
       "      <th>521</th>\n",
       "      <td>0.350051</td>\n",
       "      <td>Light Theme</td>\n",
       "      <td>North</td>\n",
       "    </tr>\n",
       "    <tr>\n",
       "      <th>737</th>\n",
       "      <td>0.366427</td>\n",
       "      <td>Dark Theme</td>\n",
       "      <td>South</td>\n",
       "    </tr>\n",
       "    <tr>\n",
       "      <th>740</th>\n",
       "      <td>0.284835</td>\n",
       "      <td>Dark Theme</td>\n",
       "      <td>North</td>\n",
       "    </tr>\n",
       "    <tr>\n",
       "      <th>660</th>\n",
       "      <td>0.062674</td>\n",
       "      <td>Light Theme</td>\n",
       "      <td>South</td>\n",
       "    </tr>\n",
       "    <tr>\n",
       "      <th>411</th>\n",
       "      <td>0.276600</td>\n",
       "      <td>Light Theme</td>\n",
       "      <td>North</td>\n",
       "    </tr>\n",
       "    <tr>\n",
       "      <th>...</th>\n",
       "      <td>...</td>\n",
       "      <td>...</td>\n",
       "      <td>...</td>\n",
       "    </tr>\n",
       "    <tr>\n",
       "      <th>468</th>\n",
       "      <td>0.220998</td>\n",
       "      <td>Light Theme</td>\n",
       "      <td>North</td>\n",
       "    </tr>\n",
       "    <tr>\n",
       "      <th>935</th>\n",
       "      <td>0.482253</td>\n",
       "      <td>Dark Theme</td>\n",
       "      <td>North</td>\n",
       "    </tr>\n",
       "    <tr>\n",
       "      <th>428</th>\n",
       "      <td>0.182627</td>\n",
       "      <td>Light Theme</td>\n",
       "      <td>North</td>\n",
       "    </tr>\n",
       "    <tr>\n",
       "      <th>7</th>\n",
       "      <td>0.395619</td>\n",
       "      <td>Light Theme</td>\n",
       "      <td>South</td>\n",
       "    </tr>\n",
       "    <tr>\n",
       "      <th>155</th>\n",
       "      <td>0.161126</td>\n",
       "      <td>Light Theme</td>\n",
       "      <td>South</td>\n",
       "    </tr>\n",
       "  </tbody>\n",
       "</table>\n",
       "<p>300 rows × 3 columns</p>\n",
       "</div>"
      ],
      "text/plain": [
       "          CTR        Theme Region\n",
       "521  0.350051  Light Theme  North\n",
       "737  0.366427   Dark Theme  South\n",
       "740  0.284835   Dark Theme  North\n",
       "660  0.062674  Light Theme  South\n",
       "411  0.276600  Light Theme  North\n",
       "..        ...          ...    ...\n",
       "468  0.220998  Light Theme  North\n",
       "935  0.482253   Dark Theme  North\n",
       "428  0.182627  Light Theme  North\n",
       "7    0.395619  Light Theme  South\n",
       "155  0.161126  Light Theme  South\n",
       "\n",
       "[300 rows x 3 columns]"
      ]
     },
     "execution_count": 62,
     "metadata": {},
     "output_type": "execute_result"
    }
   ],
   "source": [
    "two_anovaData"
   ]
  },
  {
   "cell_type": "code",
   "execution_count": 63,
   "metadata": {},
   "outputs": [
    {
     "data": {
      "text/html": [
       "<div>\n",
       "<style scoped>\n",
       "    .dataframe tbody tr th:only-of-type {\n",
       "        vertical-align: middle;\n",
       "    }\n",
       "\n",
       "    .dataframe tbody tr th {\n",
       "        vertical-align: top;\n",
       "    }\n",
       "\n",
       "    .dataframe thead th {\n",
       "        text-align: right;\n",
       "    }\n",
       "</style>\n",
       "<table border=\"1\" class=\"dataframe\">\n",
       "  <thead>\n",
       "    <tr style=\"text-align: right;\">\n",
       "      <th></th>\n",
       "      <th>Region</th>\n",
       "      <th>count</th>\n",
       "      <th>mean</th>\n",
       "      <th>std</th>\n",
       "      <th>min</th>\n",
       "      <th>25%</th>\n",
       "      <th>50%</th>\n",
       "      <th>75%</th>\n",
       "      <th>max</th>\n",
       "    </tr>\n",
       "  </thead>\n",
       "  <tbody>\n",
       "    <tr>\n",
       "      <th>0</th>\n",
       "      <td>Coastal</td>\n",
       "      <td>62.0</td>\n",
       "      <td>0.256558</td>\n",
       "      <td>0.137862</td>\n",
       "      <td>0.018933</td>\n",
       "      <td>0.144895</td>\n",
       "      <td>0.272815</td>\n",
       "      <td>0.374402</td>\n",
       "      <td>0.499989</td>\n",
       "    </tr>\n",
       "    <tr>\n",
       "      <th>1</th>\n",
       "      <td>North</td>\n",
       "      <td>117.0</td>\n",
       "      <td>0.269448</td>\n",
       "      <td>0.139791</td>\n",
       "      <td>0.025869</td>\n",
       "      <td>0.163149</td>\n",
       "      <td>0.274482</td>\n",
       "      <td>0.373037</td>\n",
       "      <td>0.499328</td>\n",
       "    </tr>\n",
       "    <tr>\n",
       "      <th>2</th>\n",
       "      <td>South</td>\n",
       "      <td>121.0</td>\n",
       "      <td>0.252235</td>\n",
       "      <td>0.131850</td>\n",
       "      <td>0.028358</td>\n",
       "      <td>0.140693</td>\n",
       "      <td>0.239864</td>\n",
       "      <td>0.359551</td>\n",
       "      <td>0.498610</td>\n",
       "    </tr>\n",
       "  </tbody>\n",
       "</table>\n",
       "</div>"
      ],
      "text/plain": [
       "    Region  count      mean       std       min       25%       50%       75%  \\\n",
       "0  Coastal   62.0  0.256558  0.137862  0.018933  0.144895  0.272815  0.374402   \n",
       "1    North  117.0  0.269448  0.139791  0.025869  0.163149  0.274482  0.373037   \n",
       "2    South  121.0  0.252235  0.131850  0.028358  0.140693  0.239864  0.359551   \n",
       "\n",
       "        max  \n",
       "0  0.499989  \n",
       "1  0.499328  \n",
       "2  0.498610  "
      ]
     },
     "execution_count": 63,
     "metadata": {},
     "output_type": "execute_result"
    }
   ],
   "source": [
    "two_anovaData.groupby('Region', as_index=False)['CTR'].describe()"
   ]
  },
  {
   "cell_type": "code",
   "execution_count": 64,
   "metadata": {},
   "outputs": [
    {
     "name": "stdout",
     "output_type": "stream",
     "text": [
      "                      sum_sq     df         F    PR(>F)\n",
      "C(Region)           0.024032    2.0  0.656074  0.519642\n",
      "C(Theme)            0.085265    1.0  4.655358  0.031767\n",
      "C(Region):C(Theme)  0.042340    2.0  1.155857  0.316214\n",
      "Residual            5.384714  294.0       NaN       NaN\n"
     ]
    }
   ],
   "source": [
    "# Applying the two way anova\n",
    "\n",
    "model2 = ols('CTR ~ C(Region) + C(Theme) + C(Region):C(Theme)', data=two_anovaData).fit()\n",
    "table2 = sm.stats.anova_lm(model2, typ=2)\n",
    "\n",
    "print(table2)"
   ]
  },
  {
   "cell_type": "markdown",
   "metadata": {},
   "source": [
    "Based on the p-values obtained; we can determine that the 'Theme' variable has the most significant influence over CTR (p=0.0318). Region and a combination of Region + Theme are determined to be not significant (p=0.520 and p=0.316); assuming an alpha of 0.05. "
   ]
  },
  {
   "cell_type": "code",
   "execution_count": null,
   "metadata": {},
   "outputs": [],
   "source": []
  }
 ],
 "metadata": {
  "kernelspec": {
   "display_name": "Python 3",
   "language": "python",
   "name": "python3"
  },
  "language_info": {
   "codemirror_mode": {
    "name": "ipython",
    "version": 3
   },
   "file_extension": ".py",
   "mimetype": "text/x-python",
   "name": "python",
   "nbconvert_exporter": "python",
   "pygments_lexer": "ipython3",
   "version": "3.11.8"
  }
 },
 "nbformat": 4,
 "nbformat_minor": 2
}
