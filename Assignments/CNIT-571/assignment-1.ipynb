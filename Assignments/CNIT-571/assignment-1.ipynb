{
 "cells": [
  {
   "cell_type": "markdown",
   "metadata": {
    "id": "355LmyCRd_sZ"
   },
   "source": [
    "# Assignment 1: Supervised Learning Tasks\n",
    "\n",
    "In the lecture, we briefly discussed supervised and unsupervised learning in the context of machine learning. In this assignment, we will go through binary classification tasks on one of the most popular datasets in the fairness in machine learning literature.\n",
    "\n",
    "We will:\n",
    "1. Import the data, implement a few pre-processing steps, and inspect the data\n",
    "2. Run a short exploratory analysis of the target variable\n",
    "3. Train a binary classifier and evaluate the classifier using the predicted labels"
   ]
  },
  {
   "cell_type": "markdown",
   "metadata": {
    "id": "pdeHvX_6woJg"
   },
   "source": [
    "# Packages and Modules"
   ]
  },
  {
   "cell_type": "markdown",
   "metadata": {
    "id": "lI_-xUcTnhv3"
   },
   "source": [
    "You may need to install the following packages:\n",
    "\n",
    "\n"
   ]
  },
  {
   "cell_type": "code",
   "execution_count": 1,
   "metadata": {},
   "outputs": [],
   "source": [
    "# %pip install pandas numpy statsmodels matplotlib seaborn"
   ]
  },
  {
   "cell_type": "code",
   "execution_count": 2,
   "metadata": {},
   "outputs": [],
   "source": [
    "# I'm using a conda environment, and these packages can be acquired using the following command:\n",
    "# `conda install pandas numpy statsmodels matplotlib seaborn`"
   ]
  },
  {
   "cell_type": "markdown",
   "metadata": {
    "id": "UmvEsKCOTIV-"
   },
   "source": [
    "Import the packages and modules:\n"
   ]
  },
  {
   "cell_type": "code",
   "execution_count": null,
   "metadata": {},
   "outputs": [],
   "source": [
    "import math\n",
    "import pandas as pd\n",
    "import numpy as np\n",
    "import statsmodels.api as sm\n",
    "import matplotlib\n",
    "import matplotlib.pyplot as plt\n",
    "import seaborn as sns\n",
    "\n",
    "%matplotlib inline\n",
    "\n",
    "import sklearn\n",
    "import sklearn.model_selection\n",
    "import sklearn.metrics\n",
    "import sklearn.datasets\n",
    "import sklearn.ensemble\n",
    "import sklearn.preprocessing\n",
    "from sklearn.compose import ColumnTransformer\n",
    "from sklearn.preprocessing import OneHotEncoder, OrdinalEncoder\n",
    "from sklearn.linear_model import LogisticRegression\n",
    "from sklearn.preprocessing import StandardScaler\n",
    "from sklearn.metrics import accuracy_score, roc_auc_score, classification_report\n",
    "from sklearn.model_selection import train_test_split, KFold, cross_val_score\n",
    "from sklearn.pipeline import Pipeline\n",
    "\n",
    "from IPython.display import Markdown, display, Image\n",
    "import matplotlib.pyplot as plt\n",
    "import warnings\n",
    "\n",
    "from IPython.core.display import HTML \n",
    "import operator\n",
    "from collections import defaultdict\n",
    "\n",
    "import json\n",
    "from collections import OrderedDict\n",
    "\n",
    "import numpy as np\n",
    "import pandas as pd\n",
    "\n",
    "np.random.seed(1)"
   ]
  },
  {
   "cell_type": "markdown",
   "metadata": {
    "id": "qJDFA9XSwdMi"
   },
   "source": [
    "### Step 1: Load Data\n",
    "\n",
    "For this assignment, we will work with the German Credit dataset which has been provided with this notebook (the dataset can also be downloaded from the UCI ML repository). The dataset has demographic and financial information for about 1,000 individuals, and the task for this dataset is to predict whether an individual is a good credit risk or a bad credit risk. More information about the dataset can be found here: https://archive.ics.uci.edu/dataset/144/statlog+german+credit+data.\n",
    "\n",
    "Load the dataset and check the first few rows:"
   ]
  },
  {
   "cell_type": "code",
   "execution_count": 4,
   "metadata": {},
   "outputs": [
    {
     "name": "stdout",
     "output_type": "stream",
     "text": [
      "Shape:  (1000, 21)\n"
     ]
    },
    {
     "data": {
      "text/html": [
       "<div>\n",
       "<style scoped>\n",
       "    .dataframe tbody tr th:only-of-type {\n",
       "        vertical-align: middle;\n",
       "    }\n",
       "\n",
       "    .dataframe tbody tr th {\n",
       "        vertical-align: top;\n",
       "    }\n",
       "\n",
       "    .dataframe thead th {\n",
       "        text-align: right;\n",
       "    }\n",
       "</style>\n",
       "<table border=\"1\" class=\"dataframe\">\n",
       "  <thead>\n",
       "    <tr style=\"text-align: right;\">\n",
       "      <th></th>\n",
       "      <th>status</th>\n",
       "      <th>duration</th>\n",
       "      <th>credit_hist</th>\n",
       "      <th>purpose</th>\n",
       "      <th>credit_amt</th>\n",
       "      <th>savings</th>\n",
       "      <th>employment</th>\n",
       "      <th>install_rate</th>\n",
       "      <th>personal_status</th>\n",
       "      <th>debtors</th>\n",
       "      <th>...</th>\n",
       "      <th>property</th>\n",
       "      <th>age</th>\n",
       "      <th>install_plans</th>\n",
       "      <th>housing</th>\n",
       "      <th>num_credits</th>\n",
       "      <th>job</th>\n",
       "      <th>num_liable</th>\n",
       "      <th>telephone</th>\n",
       "      <th>foreign_worker</th>\n",
       "      <th>credit</th>\n",
       "    </tr>\n",
       "  </thead>\n",
       "  <tbody>\n",
       "    <tr>\n",
       "      <th>0</th>\n",
       "      <td>A11</td>\n",
       "      <td>6</td>\n",
       "      <td>A34</td>\n",
       "      <td>A43</td>\n",
       "      <td>1169</td>\n",
       "      <td>A65</td>\n",
       "      <td>A75</td>\n",
       "      <td>4</td>\n",
       "      <td>A93</td>\n",
       "      <td>A101</td>\n",
       "      <td>...</td>\n",
       "      <td>A121</td>\n",
       "      <td>67</td>\n",
       "      <td>A143</td>\n",
       "      <td>A152</td>\n",
       "      <td>2</td>\n",
       "      <td>A173</td>\n",
       "      <td>1</td>\n",
       "      <td>A192</td>\n",
       "      <td>A201</td>\n",
       "      <td>1</td>\n",
       "    </tr>\n",
       "    <tr>\n",
       "      <th>1</th>\n",
       "      <td>A12</td>\n",
       "      <td>48</td>\n",
       "      <td>A32</td>\n",
       "      <td>A43</td>\n",
       "      <td>5951</td>\n",
       "      <td>A61</td>\n",
       "      <td>A73</td>\n",
       "      <td>2</td>\n",
       "      <td>A92</td>\n",
       "      <td>A101</td>\n",
       "      <td>...</td>\n",
       "      <td>A121</td>\n",
       "      <td>22</td>\n",
       "      <td>A143</td>\n",
       "      <td>A152</td>\n",
       "      <td>1</td>\n",
       "      <td>A173</td>\n",
       "      <td>1</td>\n",
       "      <td>A191</td>\n",
       "      <td>A201</td>\n",
       "      <td>2</td>\n",
       "    </tr>\n",
       "    <tr>\n",
       "      <th>2</th>\n",
       "      <td>A14</td>\n",
       "      <td>12</td>\n",
       "      <td>A34</td>\n",
       "      <td>A46</td>\n",
       "      <td>2096</td>\n",
       "      <td>A61</td>\n",
       "      <td>A74</td>\n",
       "      <td>2</td>\n",
       "      <td>A93</td>\n",
       "      <td>A101</td>\n",
       "      <td>...</td>\n",
       "      <td>A121</td>\n",
       "      <td>49</td>\n",
       "      <td>A143</td>\n",
       "      <td>A152</td>\n",
       "      <td>1</td>\n",
       "      <td>A172</td>\n",
       "      <td>2</td>\n",
       "      <td>A191</td>\n",
       "      <td>A201</td>\n",
       "      <td>1</td>\n",
       "    </tr>\n",
       "    <tr>\n",
       "      <th>3</th>\n",
       "      <td>A11</td>\n",
       "      <td>42</td>\n",
       "      <td>A32</td>\n",
       "      <td>A42</td>\n",
       "      <td>7882</td>\n",
       "      <td>A61</td>\n",
       "      <td>A74</td>\n",
       "      <td>2</td>\n",
       "      <td>A93</td>\n",
       "      <td>A103</td>\n",
       "      <td>...</td>\n",
       "      <td>A122</td>\n",
       "      <td>45</td>\n",
       "      <td>A143</td>\n",
       "      <td>A153</td>\n",
       "      <td>1</td>\n",
       "      <td>A173</td>\n",
       "      <td>2</td>\n",
       "      <td>A191</td>\n",
       "      <td>A201</td>\n",
       "      <td>1</td>\n",
       "    </tr>\n",
       "    <tr>\n",
       "      <th>4</th>\n",
       "      <td>A11</td>\n",
       "      <td>24</td>\n",
       "      <td>A33</td>\n",
       "      <td>A40</td>\n",
       "      <td>4870</td>\n",
       "      <td>A61</td>\n",
       "      <td>A73</td>\n",
       "      <td>3</td>\n",
       "      <td>A93</td>\n",
       "      <td>A101</td>\n",
       "      <td>...</td>\n",
       "      <td>A124</td>\n",
       "      <td>53</td>\n",
       "      <td>A143</td>\n",
       "      <td>A153</td>\n",
       "      <td>2</td>\n",
       "      <td>A173</td>\n",
       "      <td>2</td>\n",
       "      <td>A191</td>\n",
       "      <td>A201</td>\n",
       "      <td>2</td>\n",
       "    </tr>\n",
       "  </tbody>\n",
       "</table>\n",
       "<p>5 rows × 21 columns</p>\n",
       "</div>"
      ],
      "text/plain": [
       "  status  duration credit_hist purpose  credit_amt savings employment  \\\n",
       "0    A11         6         A34     A43        1169     A65        A75   \n",
       "1    A12        48         A32     A43        5951     A61        A73   \n",
       "2    A14        12         A34     A46        2096     A61        A74   \n",
       "3    A11        42         A32     A42        7882     A61        A74   \n",
       "4    A11        24         A33     A40        4870     A61        A73   \n",
       "\n",
       "   install_rate personal_status debtors  ...  property age  install_plans  \\\n",
       "0             4             A93    A101  ...      A121  67           A143   \n",
       "1             2             A92    A101  ...      A121  22           A143   \n",
       "2             2             A93    A101  ...      A121  49           A143   \n",
       "3             2             A93    A103  ...      A122  45           A143   \n",
       "4             3             A93    A101  ...      A124  53           A143   \n",
       "\n",
       "  housing num_credits   job num_liable  telephone foreign_worker credit  \n",
       "0    A152           2  A173          1       A192           A201      1  \n",
       "1    A152           1  A173          1       A191           A201      2  \n",
       "2    A152           1  A172          2       A191           A201      1  \n",
       "3    A153           1  A173          2       A191           A201      1  \n",
       "4    A153           2  A173          2       A191           A201      2  \n",
       "\n",
       "[5 rows x 21 columns]"
      ]
     },
     "execution_count": 4,
     "metadata": {},
     "output_type": "execute_result"
    }
   ],
   "source": [
    "cols = ['status', 'duration', 'credit_hist', 'purpose', 'credit_amt', 'savings', 'employment',\\\n",
    "            'install_rate', 'personal_status', 'debtors', 'residence', 'property', 'age', 'install_plans',\\\n",
    "            'housing', 'num_credits', 'job', 'num_liable', 'telephone', 'foreign_worker', 'credit']\n",
    "\n",
    "# path changed to suit local env\n",
    "data_df = pd.read_table('german.data', names=cols, sep=\" \", index_col=False)\n",
    "\n",
    "y = data_df['credit']\n",
    "\n",
    "print(\"Shape: \", data_df.shape)\n",
    "data_df.head(5)"
   ]
  },
  {
   "cell_type": "markdown",
   "metadata": {},
   "source": [
    "### Step 2: Data preprocessing\n",
    "\n",
    "For our analysis, we will preprocess the dataset to get additional columns and bucketize some columns with numeric data. In particular, we will do the following:\n",
    "1. Create a new column \"sex\" that is derived from the column \"personal_status\". From the \"personal_status\" column, two values of sex can be derived: male and female (refer the data definition in the UCI ML repository to enumerate the column values of this column). Append the new column to the dataframe created above.\n",
    "2. Bucketize (or, discretize) the \"age\" column according to a chosen threshold (say, 45). For individuals with age greater than or equal to the threshold, replace the value with \"old\", and those with age less than the threshold will have the value \"young\"."
   ]
  },
  {
   "cell_type": "code",
   "execution_count": 5,
   "metadata": {},
   "outputs": [
    {
     "data": {
      "text/plain": [
       "array(['A93', 'A92', 'A91', 'A94'], dtype=object)"
      ]
     },
     "execution_count": 5,
     "metadata": {},
     "output_type": "execute_result"
    }
   ],
   "source": [
    "data_df['personal_status'].unique()"
   ]
  },
  {
   "cell_type": "markdown",
   "metadata": {},
   "source": [
    "There are four unique values here - the data dict on the website has this to say about each value:\n",
    "\n",
    "| Value | Representation |\n",
    "| --- | --- |\n",
    "| A91 | male, divorced/separated |\n",
    "| A92 | female, divorced/separated |\n",
    "| A93 | male, single |\n",
    "| A94 | male, married/widowed |\n",
    "| A95 | female, single |\n",
    "\n",
    "The easiest way to do this is create a dict mapping, then apply it to this column to transform it, or just create a new one.\n",
    "\n",
    "According to the data dict, the value A92 can introduce bias, since it includes females who are either divorced, married, or separated - all three outcomes mean different things\n",
    "Would consider keeping \"divorced/separated\" as one category, and then \"married/widowed\" as another, like the male representation."
   ]
  },
  {
   "cell_type": "code",
   "execution_count": 6,
   "metadata": {},
   "outputs": [
    {
     "data": {
      "text/html": [
       "<div>\n",
       "<style scoped>\n",
       "    .dataframe tbody tr th:only-of-type {\n",
       "        vertical-align: middle;\n",
       "    }\n",
       "\n",
       "    .dataframe tbody tr th {\n",
       "        vertical-align: top;\n",
       "    }\n",
       "\n",
       "    .dataframe thead th {\n",
       "        text-align: right;\n",
       "    }\n",
       "</style>\n",
       "<table border=\"1\" class=\"dataframe\">\n",
       "  <thead>\n",
       "    <tr style=\"text-align: right;\">\n",
       "      <th></th>\n",
       "      <th>sex</th>\n",
       "      <th>personal_status</th>\n",
       "    </tr>\n",
       "  </thead>\n",
       "  <tbody>\n",
       "    <tr>\n",
       "      <th>0</th>\n",
       "      <td>Male</td>\n",
       "      <td>A93</td>\n",
       "    </tr>\n",
       "    <tr>\n",
       "      <th>1</th>\n",
       "      <td>Female</td>\n",
       "      <td>A92</td>\n",
       "    </tr>\n",
       "    <tr>\n",
       "      <th>2</th>\n",
       "      <td>Male</td>\n",
       "      <td>A93</td>\n",
       "    </tr>\n",
       "    <tr>\n",
       "      <th>3</th>\n",
       "      <td>Male</td>\n",
       "      <td>A93</td>\n",
       "    </tr>\n",
       "    <tr>\n",
       "      <th>4</th>\n",
       "      <td>Male</td>\n",
       "      <td>A93</td>\n",
       "    </tr>\n",
       "    <tr>\n",
       "      <th>5</th>\n",
       "      <td>Male</td>\n",
       "      <td>A93</td>\n",
       "    </tr>\n",
       "    <tr>\n",
       "      <th>6</th>\n",
       "      <td>Male</td>\n",
       "      <td>A93</td>\n",
       "    </tr>\n",
       "    <tr>\n",
       "      <th>7</th>\n",
       "      <td>Male</td>\n",
       "      <td>A93</td>\n",
       "    </tr>\n",
       "    <tr>\n",
       "      <th>8</th>\n",
       "      <td>Male</td>\n",
       "      <td>A91</td>\n",
       "    </tr>\n",
       "    <tr>\n",
       "      <th>9</th>\n",
       "      <td>Male</td>\n",
       "      <td>A94</td>\n",
       "    </tr>\n",
       "  </tbody>\n",
       "</table>\n",
       "</div>"
      ],
      "text/plain": [
       "      sex personal_status\n",
       "0    Male             A93\n",
       "1  Female             A92\n",
       "2    Male             A93\n",
       "3    Male             A93\n",
       "4    Male             A93\n",
       "5    Male             A93\n",
       "6    Male             A93\n",
       "7    Male             A93\n",
       "8    Male             A91\n",
       "9    Male             A94"
      ]
     },
     "execution_count": 6,
     "metadata": {},
     "output_type": "execute_result"
    }
   ],
   "source": [
    "# write code to create the \"sex\" column and append to the dataframe\n",
    "sex_mapping = {\"A91\": \"Male\", \"A92\": \"Female\", \"A93\": \"Male\", \"A94\": \"Male\", \"A95\": \"Female\"}\n",
    "\n",
    "data_df['sex'] = data_df['personal_status'].map(sex_mapping)\n",
    "\n",
    "# print the first few rows\n",
    "\n",
    "# I'm going to print two columns, the original and the mapped; to validate\n",
    "\n",
    "data_df[['sex', 'personal_status']].head(10)"
   ]
  },
  {
   "cell_type": "code",
   "execution_count": 7,
   "metadata": {},
   "outputs": [
    {
     "data": {
      "text/plain": [
       "0        Old\n",
       "1      Young\n",
       "2        Old\n",
       "3        Old\n",
       "4        Old\n",
       "       ...  \n",
       "995    Young\n",
       "996    Young\n",
       "997    Young\n",
       "998    Young\n",
       "999    Young\n",
       "Name: age, Length: 1000, dtype: object"
      ]
     },
     "execution_count": 7,
     "metadata": {},
     "output_type": "execute_result"
    }
   ],
   "source": [
    "# write code to replace the \"age\" column with discrete values\n",
    "# This will overwrite the original values\n",
    "\n",
    "data_df['age'] = np.where(data_df['age'] < 45, \"Young\", \"Old\")\n",
    "\n",
    "# print the first few rows\n",
    "\n",
    "data_df['age']"
   ]
  },
  {
   "cell_type": "markdown",
   "metadata": {},
   "source": [
    "### Step 3: Exploratory data analysis"
   ]
  },
  {
   "cell_type": "markdown",
   "metadata": {},
   "source": [
    "Now that we have imported the data and prepared it for analysis, we will inspect it for further analysis. Let's start by observing the distribution of the target variable and the columns we created just now."
   ]
  },
  {
   "cell_type": "code",
   "execution_count": 8,
   "metadata": {},
   "outputs": [
    {
     "data": {
      "text/plain": [
       "status             0.0\n",
       "duration           0.0\n",
       "credit_hist        0.0\n",
       "purpose            0.0\n",
       "credit_amt         0.0\n",
       "savings            0.0\n",
       "employment         0.0\n",
       "install_rate       0.0\n",
       "personal_status    0.0\n",
       "debtors            0.0\n",
       "residence          0.0\n",
       "property           0.0\n",
       "age                0.0\n",
       "install_plans      0.0\n",
       "housing            0.0\n",
       "num_credits        0.0\n",
       "job                0.0\n",
       "num_liable         0.0\n",
       "telephone          0.0\n",
       "foreign_worker     0.0\n",
       "credit             0.0\n",
       "sex                0.0\n",
       "dtype: float64"
      ]
     },
     "execution_count": 8,
     "metadata": {},
     "output_type": "execute_result"
    }
   ],
   "source": [
    "# check for nulls\n",
    "data_df.isnull().sum() / len(data_df) * 100"
   ]
  },
  {
   "cell_type": "code",
   "execution_count": 9,
   "metadata": {},
   "outputs": [
    {
     "name": "stderr",
     "output_type": "stream",
     "text": [
      "d:\\Anaconda\\envs\\MDL2\\Lib\\site-packages\\seaborn\\_oldcore.py:1119: FutureWarning: use_inf_as_na option is deprecated and will be removed in a future version. Convert inf values to NaN before operating instead.\n",
      "  with pd.option_context('mode.use_inf_as_na', True):\n"
     ]
    },
    {
     "data": {
      "image/png": "[encoded data removed]",
      "text/plain": [
       "<Figure size 1000x600 with 1 Axes>"
      ]
     },
     "metadata": {},
     "output_type": "display_data"
    },
    {
     "name": "stderr",
     "output_type": "stream",
     "text": [
      "d:\\Anaconda\\envs\\MDL2\\Lib\\site-packages\\seaborn\\_oldcore.py:1119: FutureWarning: use_inf_as_na option is deprecated and will be removed in a future version. Convert inf values to NaN before operating instead.\n",
      "  with pd.option_context('mode.use_inf_as_na', True):\n"
     ]
    },
    {
     "data": {
      "image/png": "[encoded data removed]",
      "text/plain": [
       "<Figure size 1000x600 with 1 Axes>"
      ]
     },
     "metadata": {},
     "output_type": "display_data"
    },
    {
     "name": "stderr",
     "output_type": "stream",
     "text": [
      "d:\\Anaconda\\envs\\MDL2\\Lib\\site-packages\\seaborn\\_oldcore.py:1119: FutureWarning: use_inf_as_na option is deprecated and will be removed in a future version. Convert inf values to NaN before operating instead.\n",
      "  with pd.option_context('mode.use_inf_as_na', True):\n"
     ]
    },
    {
     "data": {
      "image/png": "[encoded data removed]",
      "text/plain": [
       "<Figure size 1000x600 with 1 Axes>"
      ]
     },
     "metadata": {},
     "output_type": "display_data"
    }
   ],
   "source": [
    "# write code to plot the distribution of age, sex, and credit\n",
    "# in this code cell\n",
    "cols = ['age', 'sex', 'credit']\n",
    "for c in cols:\n",
    "    plt.figure(figsize=(10,6))\n",
    "    sns.histplot(data=data_df, x=c)\n",
    "    plt.show()\n",
    "\n",
    "# You may also plot the distribution of all the columns to better understand the data\n"
   ]
  },
  {
   "cell_type": "markdown",
   "metadata": {},
   "source": [
    "# Observations\n",
    "\n",
    "This is essentially telling us that there's a class imbalance.\n",
    "\n",
    "1. There is more young people in this sample than there are old.\n",
    "2. There are more \"Male\" samples than \"Female\"\n",
    "3. There are more samples that are classified as \"Good\" than there are \"Bad\".\n",
    "\n",
    "The good thing is that we have more than 30 datapoints, so we can apply the Central Limit Theorem. "
   ]
  },
  {
   "cell_type": "markdown",
   "metadata": {},
   "source": [
    "Let's consider the data distribution in terms of age and sex together: generate a crosstab summarizing the number of observations by age and sex:"
   ]
  },
  {
   "cell_type": "code",
   "execution_count": 10,
   "metadata": {},
   "outputs": [
    {
     "name": "stdout",
     "output_type": "stream",
     "text": [
      "sex    Female  Male   All\n",
      "age                      \n",
      "Old        49   152   201\n",
      "Young     261   538   799\n",
      "All       310   690  1000\n"
     ]
    }
   ],
   "source": [
    "# write code to generate a crosstab summarizing the number of observations by\n",
    "# age and sex (i.e. a pivot table) in this code cell\n",
    "\n",
    "crosstab_AgeSex = pd.crosstab(data_df['age'], data_df['sex'], margins=True)\n",
    "print(crosstab_AgeSex)"
   ]
  },
  {
   "cell_type": "markdown",
   "metadata": {},
   "source": [
    "# Observations\n",
    "\n",
    "This is consistent with what we found in the previous task. There is an imbalance in the datapoints here:\n",
    "\n",
    "1. There are, in general, more Males than Females across age categories.\n",
    "2. There are significantly more datapoints for Young people (below the age of 45) than there are old."
   ]
  },
  {
   "cell_type": "markdown",
   "metadata": {},
   "source": [
    "Let's turn our focus to the primary variable of interest: credit risk. In this exploratory analysis, we are interested in the variable named \"credit\".\n",
    "\n",
    "Plot the distribution of credit risk for males and for females."
   ]
  },
  {
   "cell_type": "code",
   "execution_count": 11,
   "metadata": {},
   "outputs": [
    {
     "name": "stderr",
     "output_type": "stream",
     "text": [
      "d:\\Anaconda\\envs\\MDL2\\Lib\\site-packages\\seaborn\\_oldcore.py:1119: FutureWarning: use_inf_as_na option is deprecated and will be removed in a future version. Convert inf values to NaN before operating instead.\n",
      "  with pd.option_context('mode.use_inf_as_na', True):\n"
     ]
    },
    {
     "data": {
      "image/png": "[encoded data removed]",
      "text/plain": [
       "<Figure size 1100x600 with 1 Axes>"
      ]
     },
     "metadata": {},
     "output_type": "display_data"
    }
   ],
   "source": [
    "# plot credit risk by sex\n",
    "plt.figure(figsize=(11,6))\n",
    "sns.histplot(data=data_df, x=\"sex\", hue=\"credit\")\n",
    "plt.show()"
   ]
  },
  {
   "cell_type": "markdown",
   "metadata": {},
   "source": [
    "~~**TODO: To what extent do these distributions differ? Summarize the difference between the distribution of credit risks for male and female applicants in this text cell (three sentences maximum):**~~\n",
    "\n",
    "Like we've seen in previous results, there is a significant differences in the number of males and females in this sample of data. Consequently, there are more Males with bad credit than there are females with bad credit, and there are more males with good credit than there are females with good credit; making the distribution more skewed toward male outcomes. Interestingly, the number of females with good and bad credit are similar; if not equal. "
   ]
  },
  {
   "cell_type": "markdown",
   "metadata": {},
   "source": [
    "What about age? Repeat the above plots for young and old applicants:"
   ]
  },
  {
   "cell_type": "code",
   "execution_count": 12,
   "metadata": {},
   "outputs": [
    {
     "name": "stderr",
     "output_type": "stream",
     "text": [
      "d:\\Anaconda\\envs\\MDL2\\Lib\\site-packages\\seaborn\\_oldcore.py:1119: FutureWarning: use_inf_as_na option is deprecated and will be removed in a future version. Convert inf values to NaN before operating instead.\n",
      "  with pd.option_context('mode.use_inf_as_na', True):\n"
     ]
    },
    {
     "data": {
      "image/png": "[encoded data removed]",
      "text/plain": [
       "<Figure size 1100x600 with 1 Axes>"
      ]
     },
     "metadata": {},
     "output_type": "display_data"
    }
   ],
   "source": [
    "# write code to plot credit risk for young and old applicants in this code cell\n",
    "plt.figure(figsize=(11,6))\n",
    "sns.histplot(data=data_df, x=\"age\", hue=\"credit\")\n",
    "plt.show()"
   ]
  },
  {
   "cell_type": "markdown",
   "metadata": {},
   "source": [
    "~~**TODO: Summarize the difference between the distribution of credit risks for young and old applicants in this text cell (three sentences maximum):**~~\n",
    "\n",
    "A significant portion of the data is skewed towards young adults rather than old adults, so we see a higher number of younger people with bad credit within this data sample. That being said, there is also a significant portion of young adults that have good credit. From the older adults sample, the number of old adults with bad credit is much lower than those with good credit, which indicates a lower credit risk amongst the older population than the young population. "
   ]
  },
  {
   "cell_type": "markdown",
   "metadata": {},
   "source": [
    "### Step 4: Train a classifier to predict credit using the original data\n",
    "\n",
    "We will be training a logistic regression model to predict good/bad credit, then fine-tuning the model over a set of hyperparameters. For this purpose, we will use sklearn's logistic regression model. However, the model expects the data to be in numerical format. \n",
    "\n",
    "#### 4.1. Data preparation \n",
    "We have two options here:\n",
    "1. Use sklearn's encoders to transform the categorical values into numerical values.\n",
    "2. Write your own mapping functions (example for two of the columns has been provided below) with the best of your knowledge about the domain. Pay attention to columns with numerical data-- those could be bucketized or used as is. Similarly, column values in the categorical columns \"purpose\" and \"housing\" may not have a clear ordering-- in that case, you may consider creating dummy variables (be sure to drop the original columns).\n",
    "\n",
    "Using either of the two techniques, prepare the data for the logistic regression model."
   ]
  },
  {
   "cell_type": "code",
   "execution_count": 13,
   "metadata": {},
   "outputs": [
    {
     "name": "stdout",
     "output_type": "stream",
     "text": [
      "Column status unique values: 4 object\n",
      "Column duration unique values: 33 int64\n",
      "Column credit_hist unique values: 5 object\n",
      "Column purpose unique values: 10 object\n",
      "Column credit_amt unique values: 921 int64\n",
      "Column savings unique values: 5 object\n",
      "Column employment unique values: 5 object\n",
      "Column install_rate unique values: 4 int64\n",
      "Column personal_status unique values: 4 object\n",
      "Column debtors unique values: 3 object\n",
      "Column residence unique values: 4 int64\n",
      "Column property unique values: 4 object\n",
      "Column age unique values: 2 object\n",
      "Column install_plans unique values: 3 object\n",
      "Column housing unique values: 3 object\n",
      "Column num_credits unique values: 4 int64\n",
      "Column job unique values: 4 object\n",
      "Column num_liable unique values: 2 int64\n",
      "Column telephone unique values: 2 object\n",
      "Column foreign_worker unique values: 2 object\n",
      "Column credit unique values: 2 int64\n",
      "Column sex unique values: 2 object\n"
     ]
    }
   ],
   "source": [
    "# I'm unsure if I should OHE or LE some columns, so I'm going to check how many uniques there are\n",
    "\n",
    "for x in data_df.columns:\n",
    "    print(f\"Column {x} unique values:\", data_df[x].nunique(), data_df[x].dtype)"
   ]
  },
  {
   "cell_type": "code",
   "execution_count": null,
   "metadata": {},
   "outputs": [
    {
     "name": "stdout",
     "output_type": "stream",
     "text": [
      "(1000, 32)\n"
     ]
    }
   ],
   "source": [
    "# write code to preprocess the data\n",
    "# this function uses a pipeline with a single step; saves space on the notebook this way\n",
    "# We're using two Encoders; Ordinal Encoder and One Hot Encoder, and one Scaler; the StandardScaler for numeric data\n",
    "def preprocess(df):\n",
    "\n",
    "    ord_columns = ['status', 'credit_hist', 'savings', 'employment', 'debtors', 'job']\n",
    "    ohe_columns = ['purpose', 'personal_status', 'property', 'install_plans', 'housing']\n",
    "    is_num = ['duration', 'credit_amt', 'install_rate', 'residence', 'num_credits', 'num_liable']\n",
    "\n",
    "    map1 = {\n",
    "        \"telephone\": {\"A191\": 0, \"A192\": 1},\n",
    "        \"foreign_worker\": {\"A201\": 1, \"A202\": 0},\n",
    "        \"sex\": {\"Male\": 0, \"Female\": 1},\n",
    "        \"age\": {\"Young\": 0, \"Old\": 1}, \n",
    "        \"credit\": {1: 1, 2:0}\n",
    "    }\n",
    "\n",
    "    for col, maps in map1.items():\n",
    "        df[col] = df[col].map(maps)\n",
    "\n",
    "    mass_processor = ColumnTransformer(transformers=[\n",
    "        (\"numeric\", StandardScaler(), is_num),\n",
    "        (\"cat-ORD\", OrdinalEncoder(), ord_columns),\n",
    "        (\"cat-OHE\", OneHotEncoder(drop='first'), ohe_columns)\n",
    "    ])\n",
    "\n",
    "    pipeline = Pipeline(steps=[(\"preprocessor\", mass_processor)])\n",
    "\n",
    "    processed_df = pipeline.fit_transform(df) # this is not actually a df\n",
    "\n",
    "    # AI was used to convert this back into a dataframe\n",
    "\n",
    "    ohe_feature_names = pipeline.named_steps['preprocessor']\\\n",
    "        .named_transformers_['cat-OHE']\\\n",
    "        .get_feature_names_out(ohe_columns)\n",
    "\n",
    "    feature_names = is_num + ord_columns + list(ohe_feature_names)\n",
    "\n",
    "    # Convert to DataFrame\n",
    "    processed_df = pd.DataFrame(processed_df, columns=feature_names, index=df.index)\n",
    "\n",
    "    # Add target column back\n",
    "    processed_df['credit'] = df['credit']\n",
    "\n",
    "    return processed_df\n",
    "    \n",
    "\n",
    "# example mappings\n",
    "# data_df['status'] = data_df['status'].map({'A11': 0, 'A12': 1, 'A13': 2, 'A14': 3}).astype(int)\n",
    "# data_df['credit_hist'] = data_df['credit_hist'].map({'A34': 0, 'A33': 1, 'A32': 2, 'A31': 3, 'A30': 4}).astype(int)\n",
    "\n",
    "\n",
    "# print the first few rows of the data\n",
    "\n",
    "proc_df = preprocess(data_df)\n",
    "print(proc_df.shape)"
   ]
  },
  {
   "cell_type": "code",
   "execution_count": 15,
   "metadata": {},
   "outputs": [
    {
     "data": {
      "text/html": [
       "<div>\n",
       "<style scoped>\n",
       "    .dataframe tbody tr th:only-of-type {\n",
       "        vertical-align: middle;\n",
       "    }\n",
       "\n",
       "    .dataframe tbody tr th {\n",
       "        vertical-align: top;\n",
       "    }\n",
       "\n",
       "    .dataframe thead th {\n",
       "        text-align: right;\n",
       "    }\n",
       "</style>\n",
       "<table border=\"1\" class=\"dataframe\">\n",
       "  <thead>\n",
       "    <tr style=\"text-align: right;\">\n",
       "      <th></th>\n",
       "      <th>duration</th>\n",
       "      <th>credit_amt</th>\n",
       "      <th>install_rate</th>\n",
       "      <th>residence</th>\n",
       "      <th>num_credits</th>\n",
       "      <th>num_liable</th>\n",
       "      <th>status</th>\n",
       "      <th>credit_hist</th>\n",
       "      <th>savings</th>\n",
       "      <th>employment</th>\n",
       "      <th>...</th>\n",
       "      <th>personal_status_A93</th>\n",
       "      <th>personal_status_A94</th>\n",
       "      <th>property_A122</th>\n",
       "      <th>property_A123</th>\n",
       "      <th>property_A124</th>\n",
       "      <th>install_plans_A142</th>\n",
       "      <th>install_plans_A143</th>\n",
       "      <th>housing_A152</th>\n",
       "      <th>housing_A153</th>\n",
       "      <th>credit</th>\n",
       "    </tr>\n",
       "  </thead>\n",
       "  <tbody>\n",
       "    <tr>\n",
       "      <th>0</th>\n",
       "      <td>-1.236478</td>\n",
       "      <td>-0.745131</td>\n",
       "      <td>0.918477</td>\n",
       "      <td>1.046987</td>\n",
       "      <td>1.027079</td>\n",
       "      <td>-0.428290</td>\n",
       "      <td>0.0</td>\n",
       "      <td>4.0</td>\n",
       "      <td>4.0</td>\n",
       "      <td>4.0</td>\n",
       "      <td>...</td>\n",
       "      <td>1.0</td>\n",
       "      <td>0.0</td>\n",
       "      <td>0.0</td>\n",
       "      <td>0.0</td>\n",
       "      <td>0.0</td>\n",
       "      <td>0.0</td>\n",
       "      <td>1.0</td>\n",
       "      <td>1.0</td>\n",
       "      <td>0.0</td>\n",
       "      <td>1</td>\n",
       "    </tr>\n",
       "    <tr>\n",
       "      <th>1</th>\n",
       "      <td>2.248194</td>\n",
       "      <td>0.949817</td>\n",
       "      <td>-0.870183</td>\n",
       "      <td>-0.765977</td>\n",
       "      <td>-0.704926</td>\n",
       "      <td>-0.428290</td>\n",
       "      <td>1.0</td>\n",
       "      <td>2.0</td>\n",
       "      <td>0.0</td>\n",
       "      <td>2.0</td>\n",
       "      <td>...</td>\n",
       "      <td>0.0</td>\n",
       "      <td>0.0</td>\n",
       "      <td>0.0</td>\n",
       "      <td>0.0</td>\n",
       "      <td>0.0</td>\n",
       "      <td>0.0</td>\n",
       "      <td>1.0</td>\n",
       "      <td>1.0</td>\n",
       "      <td>0.0</td>\n",
       "      <td>0</td>\n",
       "    </tr>\n",
       "    <tr>\n",
       "      <th>2</th>\n",
       "      <td>-0.738668</td>\n",
       "      <td>-0.416562</td>\n",
       "      <td>-0.870183</td>\n",
       "      <td>0.140505</td>\n",
       "      <td>-0.704926</td>\n",
       "      <td>2.334869</td>\n",
       "      <td>3.0</td>\n",
       "      <td>4.0</td>\n",
       "      <td>0.0</td>\n",
       "      <td>3.0</td>\n",
       "      <td>...</td>\n",
       "      <td>1.0</td>\n",
       "      <td>0.0</td>\n",
       "      <td>0.0</td>\n",
       "      <td>0.0</td>\n",
       "      <td>0.0</td>\n",
       "      <td>0.0</td>\n",
       "      <td>1.0</td>\n",
       "      <td>1.0</td>\n",
       "      <td>0.0</td>\n",
       "      <td>1</td>\n",
       "    </tr>\n",
       "    <tr>\n",
       "      <th>3</th>\n",
       "      <td>1.750384</td>\n",
       "      <td>1.634247</td>\n",
       "      <td>-0.870183</td>\n",
       "      <td>1.046987</td>\n",
       "      <td>-0.704926</td>\n",
       "      <td>2.334869</td>\n",
       "      <td>0.0</td>\n",
       "      <td>2.0</td>\n",
       "      <td>0.0</td>\n",
       "      <td>3.0</td>\n",
       "      <td>...</td>\n",
       "      <td>1.0</td>\n",
       "      <td>0.0</td>\n",
       "      <td>1.0</td>\n",
       "      <td>0.0</td>\n",
       "      <td>0.0</td>\n",
       "      <td>0.0</td>\n",
       "      <td>1.0</td>\n",
       "      <td>0.0</td>\n",
       "      <td>1.0</td>\n",
       "      <td>1</td>\n",
       "    </tr>\n",
       "    <tr>\n",
       "      <th>4</th>\n",
       "      <td>0.256953</td>\n",
       "      <td>0.566664</td>\n",
       "      <td>0.024147</td>\n",
       "      <td>1.046987</td>\n",
       "      <td>1.027079</td>\n",
       "      <td>2.334869</td>\n",
       "      <td>0.0</td>\n",
       "      <td>3.0</td>\n",
       "      <td>0.0</td>\n",
       "      <td>2.0</td>\n",
       "      <td>...</td>\n",
       "      <td>1.0</td>\n",
       "      <td>0.0</td>\n",
       "      <td>0.0</td>\n",
       "      <td>0.0</td>\n",
       "      <td>1.0</td>\n",
       "      <td>0.0</td>\n",
       "      <td>1.0</td>\n",
       "      <td>0.0</td>\n",
       "      <td>1.0</td>\n",
       "      <td>0</td>\n",
       "    </tr>\n",
       "    <tr>\n",
       "      <th>...</th>\n",
       "      <td>...</td>\n",
       "      <td>...</td>\n",
       "      <td>...</td>\n",
       "      <td>...</td>\n",
       "      <td>...</td>\n",
       "      <td>...</td>\n",
       "      <td>...</td>\n",
       "      <td>...</td>\n",
       "      <td>...</td>\n",
       "      <td>...</td>\n",
       "      <td>...</td>\n",
       "      <td>...</td>\n",
       "      <td>...</td>\n",
       "      <td>...</td>\n",
       "      <td>...</td>\n",
       "      <td>...</td>\n",
       "      <td>...</td>\n",
       "      <td>...</td>\n",
       "      <td>...</td>\n",
       "      <td>...</td>\n",
       "      <td>...</td>\n",
       "    </tr>\n",
       "    <tr>\n",
       "      <th>995</th>\n",
       "      <td>-0.738668</td>\n",
       "      <td>-0.544162</td>\n",
       "      <td>0.024147</td>\n",
       "      <td>1.046987</td>\n",
       "      <td>-0.704926</td>\n",
       "      <td>-0.428290</td>\n",
       "      <td>3.0</td>\n",
       "      <td>2.0</td>\n",
       "      <td>0.0</td>\n",
       "      <td>3.0</td>\n",
       "      <td>...</td>\n",
       "      <td>0.0</td>\n",
       "      <td>0.0</td>\n",
       "      <td>0.0</td>\n",
       "      <td>0.0</td>\n",
       "      <td>0.0</td>\n",
       "      <td>0.0</td>\n",
       "      <td>1.0</td>\n",
       "      <td>1.0</td>\n",
       "      <td>0.0</td>\n",
       "      <td>1</td>\n",
       "    </tr>\n",
       "    <tr>\n",
       "      <th>996</th>\n",
       "      <td>0.754763</td>\n",
       "      <td>0.207612</td>\n",
       "      <td>0.918477</td>\n",
       "      <td>1.046987</td>\n",
       "      <td>-0.704926</td>\n",
       "      <td>-0.428290</td>\n",
       "      <td>0.0</td>\n",
       "      <td>2.0</td>\n",
       "      <td>0.0</td>\n",
       "      <td>2.0</td>\n",
       "      <td>...</td>\n",
       "      <td>0.0</td>\n",
       "      <td>0.0</td>\n",
       "      <td>1.0</td>\n",
       "      <td>0.0</td>\n",
       "      <td>0.0</td>\n",
       "      <td>0.0</td>\n",
       "      <td>1.0</td>\n",
       "      <td>1.0</td>\n",
       "      <td>0.0</td>\n",
       "      <td>1</td>\n",
       "    </tr>\n",
       "    <tr>\n",
       "      <th>997</th>\n",
       "      <td>-0.738668</td>\n",
       "      <td>-0.874503</td>\n",
       "      <td>0.918477</td>\n",
       "      <td>1.046987</td>\n",
       "      <td>-0.704926</td>\n",
       "      <td>-0.428290</td>\n",
       "      <td>3.0</td>\n",
       "      <td>2.0</td>\n",
       "      <td>0.0</td>\n",
       "      <td>4.0</td>\n",
       "      <td>...</td>\n",
       "      <td>1.0</td>\n",
       "      <td>0.0</td>\n",
       "      <td>0.0</td>\n",
       "      <td>1.0</td>\n",
       "      <td>0.0</td>\n",
       "      <td>0.0</td>\n",
       "      <td>1.0</td>\n",
       "      <td>1.0</td>\n",
       "      <td>0.0</td>\n",
       "      <td>1</td>\n",
       "    </tr>\n",
       "    <tr>\n",
       "      <th>998</th>\n",
       "      <td>1.999289</td>\n",
       "      <td>-0.505528</td>\n",
       "      <td>0.918477</td>\n",
       "      <td>1.046987</td>\n",
       "      <td>-0.704926</td>\n",
       "      <td>-0.428290</td>\n",
       "      <td>0.0</td>\n",
       "      <td>2.0</td>\n",
       "      <td>0.0</td>\n",
       "      <td>2.0</td>\n",
       "      <td>...</td>\n",
       "      <td>1.0</td>\n",
       "      <td>0.0</td>\n",
       "      <td>0.0</td>\n",
       "      <td>0.0</td>\n",
       "      <td>1.0</td>\n",
       "      <td>0.0</td>\n",
       "      <td>1.0</td>\n",
       "      <td>0.0</td>\n",
       "      <td>1.0</td>\n",
       "      <td>0</td>\n",
       "    </tr>\n",
       "    <tr>\n",
       "      <th>999</th>\n",
       "      <td>1.999289</td>\n",
       "      <td>0.462457</td>\n",
       "      <td>0.024147</td>\n",
       "      <td>1.046987</td>\n",
       "      <td>-0.704926</td>\n",
       "      <td>-0.428290</td>\n",
       "      <td>1.0</td>\n",
       "      <td>4.0</td>\n",
       "      <td>1.0</td>\n",
       "      <td>0.0</td>\n",
       "      <td>...</td>\n",
       "      <td>1.0</td>\n",
       "      <td>0.0</td>\n",
       "      <td>0.0</td>\n",
       "      <td>1.0</td>\n",
       "      <td>0.0</td>\n",
       "      <td>0.0</td>\n",
       "      <td>1.0</td>\n",
       "      <td>1.0</td>\n",
       "      <td>0.0</td>\n",
       "      <td>1</td>\n",
       "    </tr>\n",
       "  </tbody>\n",
       "</table>\n",
       "<p>1000 rows × 32 columns</p>\n",
       "</div>"
      ],
      "text/plain": [
       "     duration  credit_amt  install_rate  residence  num_credits  num_liable  \\\n",
       "0   -1.236478   -0.745131      0.918477   1.046987     1.027079   -0.428290   \n",
       "1    2.248194    0.949817     -0.870183  -0.765977    -0.704926   -0.428290   \n",
       "2   -0.738668   -0.416562     -0.870183   0.140505    -0.704926    2.334869   \n",
       "3    1.750384    1.634247     -0.870183   1.046987    -0.704926    2.334869   \n",
       "4    0.256953    0.566664      0.024147   1.046987     1.027079    2.334869   \n",
       "..        ...         ...           ...        ...          ...         ...   \n",
       "995 -0.738668   -0.544162      0.024147   1.046987    -0.704926   -0.428290   \n",
       "996  0.754763    0.207612      0.918477   1.046987    -0.704926   -0.428290   \n",
       "997 -0.738668   -0.874503      0.918477   1.046987    -0.704926   -0.428290   \n",
       "998  1.999289   -0.505528      0.918477   1.046987    -0.704926   -0.428290   \n",
       "999  1.999289    0.462457      0.024147   1.046987    -0.704926   -0.428290   \n",
       "\n",
       "     status  credit_hist  savings  employment  ...  personal_status_A93  \\\n",
       "0       0.0          4.0      4.0         4.0  ...                  1.0   \n",
       "1       1.0          2.0      0.0         2.0  ...                  0.0   \n",
       "2       3.0          4.0      0.0         3.0  ...                  1.0   \n",
       "3       0.0          2.0      0.0         3.0  ...                  1.0   \n",
       "4       0.0          3.0      0.0         2.0  ...                  1.0   \n",
       "..      ...          ...      ...         ...  ...                  ...   \n",
       "995     3.0          2.0      0.0         3.0  ...                  0.0   \n",
       "996     0.0          2.0      0.0         2.0  ...                  0.0   \n",
       "997     3.0          2.0      0.0         4.0  ...                  1.0   \n",
       "998     0.0          2.0      0.0         2.0  ...                  1.0   \n",
       "999     1.0          4.0      1.0         0.0  ...                  1.0   \n",
       "\n",
       "     personal_status_A94  property_A122  property_A123  property_A124  \\\n",
       "0                    0.0            0.0            0.0            0.0   \n",
       "1                    0.0            0.0            0.0            0.0   \n",
       "2                    0.0            0.0            0.0            0.0   \n",
       "3                    0.0            1.0            0.0            0.0   \n",
       "4                    0.0            0.0            0.0            1.0   \n",
       "..                   ...            ...            ...            ...   \n",
       "995                  0.0            0.0            0.0            0.0   \n",
       "996                  0.0            1.0            0.0            0.0   \n",
       "997                  0.0            0.0            1.0            0.0   \n",
       "998                  0.0            0.0            0.0            1.0   \n",
       "999                  0.0            0.0            1.0            0.0   \n",
       "\n",
       "     install_plans_A142  install_plans_A143  housing_A152  housing_A153  \\\n",
       "0                   0.0                 1.0           1.0           0.0   \n",
       "1                   0.0                 1.0           1.0           0.0   \n",
       "2                   0.0                 1.0           1.0           0.0   \n",
       "3                   0.0                 1.0           0.0           1.0   \n",
       "4                   0.0                 1.0           0.0           1.0   \n",
       "..                  ...                 ...           ...           ...   \n",
       "995                 0.0                 1.0           1.0           0.0   \n",
       "996                 0.0                 1.0           1.0           0.0   \n",
       "997                 0.0                 1.0           1.0           0.0   \n",
       "998                 0.0                 1.0           0.0           1.0   \n",
       "999                 0.0                 1.0           1.0           0.0   \n",
       "\n",
       "     credit  \n",
       "0         1  \n",
       "1         0  \n",
       "2         1  \n",
       "3         1  \n",
       "4         0  \n",
       "..      ...  \n",
       "995       1  \n",
       "996       1  \n",
       "997       1  \n",
       "998       0  \n",
       "999       1  \n",
       "\n",
       "[1000 rows x 32 columns]"
      ]
     },
     "execution_count": 15,
     "metadata": {},
     "output_type": "execute_result"
    }
   ],
   "source": [
    "proc_df"
   ]
  },
  {
   "cell_type": "markdown",
   "metadata": {},
   "source": [
    "#### 4.2. Split the data into train/validation/test sets"
   ]
  },
  {
   "cell_type": "code",
   "execution_count": 16,
   "metadata": {},
   "outputs": [
    {
     "name": "stdout",
     "output_type": "stream",
     "text": [
      "Train set:  (600, 32)\n",
      "Val set:  (200, 32)\n",
      "Test set:  (200, 32)\n"
     ]
    }
   ],
   "source": [
    "# Split original data into train and test data\n",
    "train, test = train_test_split(proc_df, train_size=0.80, random_state=10)\n",
    "\n",
    "# Split training data in to training and validation data for hyperparameter tuning\n",
    "train, val = train_test_split(train, train_size=0.75, shuffle=True)\n",
    "\n",
    "# Use the shape function to output the size of each of the dataframes below\n",
    "print(\"Train set: \", train.shape)\n",
    "print(\"Val set: \", val.shape)\n",
    "print(\"Test set: \", test.shape)"
   ]
  },
  {
   "cell_type": "markdown",
   "metadata": {},
   "source": [
    "#### 4.3. Split the data into training features and target variable\n",
    "\n",
    "First, we need to split our data up into the independent variables (x) and the outcome variable (y). We will recode the outcome so that the values are 0 (= bad credit) and 1 (= good credit). This is the format that the sklearn logistic regression function expects."
   ]
  },
  {
   "cell_type": "code",
   "execution_count": 17,
   "metadata": {},
   "outputs": [
    {
     "name": "stdout",
     "output_type": "stream",
     "text": [
      "Training Outcomes: \n",
      " credit\n",
      "1    429\n",
      "0    171\n",
      "Name: count, dtype: int64\n",
      "Test Outcomes: \n",
      " credit\n",
      "1    138\n",
      "0     62\n",
      "Name: count, dtype: int64\n",
      "('Validation Outcomes: \\n', credit\n",
      "1    133\n",
      "0     67\n",
      "Name: count, dtype: int64)\n"
     ]
    }
   ],
   "source": [
    "# Set up the training data; EDIT: There's a better way of doing this with train test split using multiple variables but okay, I'll do it this way\n",
    "x_train = train.drop(\"credit\", axis=1)\n",
    "\n",
    "# I'm going to edit the code below,s since I've already binarized the target variable\n",
    "y_train = train['credit']\n",
    "print(\"Training Outcomes: \\n\", y_train.value_counts())\n",
    "\n",
    "# Similary, set up the test and validation data, and print their counts\n",
    "x_test = test.drop(\"credit\", axis=1)\n",
    "y_test = test['credit']\n",
    "\n",
    "x_val = val.drop(\"credit\", axis=1)\n",
    "y_val = val['credit']\n",
    "\n",
    "print(\"Test Outcomes: \\n\", y_test.value_counts())\n",
    "print((\"Validation Outcomes: \\n\", y_val.value_counts()))"
   ]
  },
  {
   "cell_type": "markdown",
   "metadata": {},
   "source": [
    "#### 4.4. Model training\n",
    "\n",
    "Now let's fit our model on the training data. Remember, we do not use test and validation sets at this point."
   ]
  },
  {
   "cell_type": "code",
   "execution_count": 21,
   "metadata": {},
   "outputs": [],
   "source": [
    "# Set up the logistic regression model with the given hyperparameters\n",
    "initial_lr = LogisticRegression(C=0.5, penalty=\"l1\", solver='liblinear')\n",
    "    \n",
    "# Fit the model using the training data\n",
    "initial_lr = initial_lr.fit(x_train, y_train, sample_weight=None)"
   ]
  },
  {
   "cell_type": "markdown",
   "metadata": {},
   "source": [
    "#### 4.5. Model evaluation\n",
    "Now that we have a trained model, we should evaluate it on our validation set. For now, we will compute the area under the curve (AUC) as well as accuracy when we use a cutoff of 0.5 (that is, predicted values over 0.5 are interpreted as good credit, and less than 0.5 are interpreted as bad credit).\n",
    "\n",
    "**TODO: Write the function below to evaluate accuracy and AUC of a trained model.**\n",
    "You can use the `accuracy_score` and `roc_auc_score` sklearn functions to compute the accuracy and the AUC of the model, respectively."
   ]
  },
  {
   "cell_type": "code",
   "execution_count": null,
   "metadata": {},
   "outputs": [],
   "source": [
    "def evaluate(model, X, y_true):\n",
    "    '''Calculates the AUC and accuracy for a trained logistic regression model'''\n",
    "    \n",
    "    # Calculate predicted values; NOTE: we don't need to use predict_proba() for this, we can use the fit_predict or predict method for this, but I see the intent here.\n",
    "    # I'll use the class labels from predict() to get accuracy - but use the predict_proba() values to calculate the auc score.\n",
    "    y_pred = model.predict_proba(X)\n",
    "    y_pred_class = model.predict(X)\n",
    "    \n",
    "    # This returns a tuple for each observation containing the probability of being in each class.\n",
    "    # We are doing binary classification and hence, will need to know P(Y_hat=1) the probability that the outcome = 1 (good credit)\n",
    "    y_pred = [row[1] for row in y_pred] # This pulls the predicted probability that y = 1 for each observation\n",
    "    \n",
    "    # Calculate accuracy using the accuracy_score function\n",
    "    accuracy = accuracy_score(y_true, y_pred_class)\n",
    "    \n",
    "    # Calculate AUC using the roc_auc function\n",
    "    auc = roc_auc_score(y_true, y_pred)\n",
    "    \n",
    "    return accuracy, auc\n",
    "    "
   ]
  },
  {
   "cell_type": "code",
   "execution_count": 41,
   "metadata": {},
   "outputs": [
    {
     "name": "stdout",
     "output_type": "stream",
     "text": [
      "Accuracy:  0.7\n",
      "AUC:  0.7538996745595332\n"
     ]
    }
   ],
   "source": [
    "accuracy, auc = evaluate(initial_lr, x_val, y_val)\n",
    "print(\"Accuracy: \", accuracy)\n",
    "print(\"AUC: \", auc)"
   ]
  },
  {
   "cell_type": "markdown",
   "metadata": {},
   "source": [
    "#### 4.6. Hyperparameter tuning the logistic regression model \n",
    "\n",
    "Notice that for fitting the logistic regression model, we used the parameters C=0.5, penalty=\"l1\". There might be models (trained with different values of C and penalty) that yield a higher accuracy on the validataion data. We want to be able to easily train models with a variety of hyperparameters and determine which one performs the best on the validation data. We can use the evaluate function above to do this. "
   ]
  },
  {
   "cell_type": "code",
   "execution_count": null,
   "metadata": {},
   "outputs": [],
   "source": [
    "# This is pretty much a grid search without using sklearn\n",
    "def tune_logistic_regression(x_train, y_train, x_val, y_val, penalty_types, C_values, weights=None, verbose=True):\n",
    "    '''Tunes logistic regression models over the hyperparameters penalty type and C\n",
    "       to maximize the AUC'''\n",
    "    \n",
    "    # Create empty lists where we will store the results of hyperparameter tuning \n",
    "    parameters = []\n",
    "    models = []\n",
    "    val_aucs = []\n",
    "    \n",
    "    # Loop through the hyperparameters of interest\n",
    "    for penalty in penalty_types:\n",
    "        for C in C_values:\n",
    "            \n",
    "            # Train the logistic regression model with the given hyperparameters\n",
    "            lr = LogisticRegression(C=C, penalty=penalty, solver='liblinear')\n",
    "    \n",
    "            # Fit the model using the training data\n",
    "            lr = lr.fit(x_train, y_train, sample_weight=weights)\n",
    "            \n",
    "            # Get the evalution metrics on the validation set \n",
    "            accuracy, auc  = evaluate(lr, x_val, y_val)\n",
    "            \n",
    "            # Store the results\n",
    "            parameters.append({'penalty': penalty, 'C': C})\n",
    "            models.append(lr)\n",
    "            val_aucs.append(auc)\n",
    "            \n",
    "            # Print the results\n",
    "            if verbose:\n",
    "                print(\"\\nParmeters: \\tpenalty={} \\tC={}\".format(penalty, C))\n",
    "                print(\"Validtion AUC: {}\".format(auc))\n",
    "            \n",
    "    \n",
    "    # Determine the best model -- that is, the one with the AUC\n",
    "    best_model_index = np.argmax(val_aucs)\n",
    "    best_model = models[best_model_index]\n",
    "    \n",
    "    print(\"\\nBest model parameters: \", parameters[best_model_index])\n",
    "    print(\"Best model AUC: \", val_aucs[best_model_index])\n",
    "    \n",
    "    # Return best model\n",
    "    return best_model, parameters, models, val_aucs"
   ]
  },
  {
   "cell_type": "code",
   "execution_count": 43,
   "metadata": {},
   "outputs": [
    {
     "name": "stdout",
     "output_type": "stream",
     "text": [
      "\n",
      "Parmeters: \tpenalty=l1 \tC=0.001\n",
      "Validtion AUC: 0.5\n",
      "\n",
      "Parmeters: \tpenalty=l1 \tC=0.1\n",
      "Validtion AUC: 0.7343732465492089\n",
      "\n",
      "Parmeters: \tpenalty=l1 \tC=1\n",
      "Validtion AUC: 0.7567051958253843\n",
      "\n",
      "Parmeters: \tpenalty=l1 \tC=10\n",
      "Validtion AUC: 0.7602962630456739\n",
      "\n",
      "Parmeters: \tpenalty=l1 \tC=100\n",
      "Validtion AUC: 0.7604084838963079\n",
      "\n",
      "Parmeters: \tpenalty=l1 \tC=1000\n",
      "Validtion AUC: 0.7602962630456739\n",
      "\n",
      "Parmeters: \tpenalty=l1 \tC=10000\n",
      "Validtion AUC: 0.7602962630456739\n",
      "\n",
      "Parmeters: \tpenalty=l1 \tC=100000\n",
      "Validtion AUC: 0.7602962630456739\n",
      "\n",
      "Parmeters: \tpenalty=l2 \tC=0.001\n",
      "Validtion AUC: 0.7505330490405118\n",
      "\n",
      "Parmeters: \tpenalty=l2 \tC=0.1\n",
      "Validtion AUC: 0.750869711592414\n",
      "\n",
      "Parmeters: \tpenalty=l2 \tC=1\n",
      "Validtion AUC: 0.7574907417798227\n",
      "\n",
      "Parmeters: \tpenalty=l2 \tC=10\n",
      "Validtion AUC: 0.7593984962406015\n",
      "\n",
      "Parmeters: \tpenalty=l2 \tC=100\n",
      "Validtion AUC: 0.7604084838963078\n",
      "\n",
      "Parmeters: \tpenalty=l2 \tC=1000\n",
      "Validtion AUC: 0.7602962630456739\n",
      "\n",
      "Parmeters: \tpenalty=l2 \tC=10000\n",
      "Validtion AUC: 0.7604084838963079\n",
      "\n",
      "Parmeters: \tpenalty=l2 \tC=100000\n",
      "Validtion AUC: 0.7604084838963079\n",
      "\n",
      "Best model parameters:  {'penalty': 'l1', 'C': 100}\n",
      "Best model AUC:  0.7604084838963079\n"
     ]
    }
   ],
   "source": [
    "penalty_types=[\"l1\", \"l2\"]\n",
    "C_values=[0.001, 0.1, 1, 10, 100, 1000, 10000, 100000]\n",
    "best_lr, parameters, models, val_aucs = tune_logistic_regression(x_train, y_train, x_val, y_val, penalty_types, C_values)"
   ]
  },
  {
   "cell_type": "markdown",
   "metadata": {},
   "source": [
    "Let us plot the results so that we understand what hyperparameter tuning actually did."
   ]
  },
  {
   "cell_type": "code",
   "execution_count": 44,
   "metadata": {},
   "outputs": [
    {
     "data": {
      "image/png": "[encoded data removed]",
      "text/plain": [
       "<Figure size 640x480 with 1 Axes>"
      ]
     },
     "metadata": {},
     "output_type": "display_data"
    }
   ],
   "source": [
    "val_aucs_l1 = [val_aucs[i] for i in range(len(val_aucs)) if parameters[i]['penalty']==\"l1\"]\n",
    "val_aucs_l2 = [val_aucs[i] for i in range(len(val_aucs)) if parameters[i]['penalty']==\"l2\"]\n",
    "C_values = [parameters[i]['C'] for i in range(len(parameters)) if parameters[i]['penalty']==\"l2\"]\n",
    "\n",
    "fig, ax = plt.subplots()\n",
    "ax.semilogx( C_values, val_aucs_l1, marker='.', markerfacecolor='blue', markersize=12, color='blue', linewidth=4, label='L1 Penalty')\n",
    "ax.semilogx( C_values, val_aucs_l2, marker='.', markerfacecolor='red', markersize=12, color='red', linewidth=4, label='L2 Penalty')\n",
    "ax.set_xlabel(\"C\")\n",
    "ax.set_ylabel(\"AUC\")\n",
    "plt.legend()\n",
    "plt.show()"
   ]
  },
  {
   "cell_type": "markdown",
   "metadata": {},
   "source": [
    "~~**TODO: From the plot above, interpret why the hyperparameters were chosen as such.**~~\n",
    "\n",
    "Before we do this, we first need to understand what the hyperparameters are, and how we're choosing the \"best\" model. We are working with two parameters here - the penalty term (L1, L2), and the C value. \n",
    "\n",
    "From the sklearn documentation - C values are the inverse of regularization that constrain a Logistic Regression model. Large C values give a model more freedom to shape the decision boundary to fit more datapoints. Th inverse is true regarding smaller C values. At the smallest C value, the L1 penalty results in a sparser solution due to the lack of freedom. We'll note that the L2 penalty shows only marginal improvement across all C values, while L1 penalty shows significant improvement up until C=100. If we compare both, by AUC - then the L1 penalty has a slightly better AUC fit than that of the L2 penalty. \n",
    "\n",
    "If we take note the tuning function two cells above this; we are evaluating the \"best\" model based on the global maximum of all our AUC results, which in this case is the L1 penalty with a C of 100."
   ]
  },
  {
   "cell_type": "markdown",
   "metadata": {
    "id": "CvGGSeCqY-eN"
   },
   "source": [
    "#### 4.7. Interpreting the predictive accuracy\n",
    "\n",
    "Until now, we used the predictive accuracy of the logistic regression model, which refers to the concordance between an individual's credit risk and the label assigned to that individual by the model. For instance, how often did the model predict that a person was a \"bad credit risk\" and that person in fact defaulted on a loan? \n",
    "\n",
    "We can think of this in terms of a 2x2 table (also called a *confusion matrix*):\n",
    "\n",
    "|      | Did not default | Defaulted   |\n",
    "| :---        |    :----:   |          ---: |\n",
    "| **Labeled bad credit risk**  | A       | B   |\n",
    "| **Labeled good credit risk**   | C       | D      |\n",
    "\n",
    "Remember that in our dataset, \"1\" (or, positive) represents \"good credit risk\" and \"0\" (or, negative) represents \"bad credit risk\".\n",
    "\n",
    "~~**TODO: What are the generic terms for A and D and what do they represent?**~~\n",
    "\n",
    "I'll recreate the table according to our own data in this notebook:\n",
    "\n",
    "|      | Did not default |  Defaulted   |\n",
    "| :---        |    :----:   |          ---: |\n",
    "| 0: Bad credit | False Negative       | True Negative   |\n",
    "| 1: Good credit | True Positve       | False Positive      |\n",
    "\n",
    "\n",
    "So A would be a False Negative, and D would be a False Positive."
   ]
  },
  {
   "cell_type": "markdown",
   "metadata": {
    "id": "kojOZPLybCSv"
   },
   "source": [
    "**TODO: Based on this confusion matrix, input the number of true positives, false positives, true negatives, and false negatives:**"
   ]
  },
  {
   "cell_type": "code",
   "execution_count": 45,
   "metadata": {},
   "outputs": [
    {
     "name": "stdout",
     "output_type": "stream",
     "text": [
      "Accuracy:  0.72\n",
      "AUC:  0.7604084838963079\n",
      "Accuracy:  0.77\n",
      "AUC:  0.8148667601683031\n"
     ]
    }
   ],
   "source": [
    "from sklearn.metrics import confusion_matrix\n",
    "\n",
    "# Fit the model using the training data\n",
    "best_lr = LogisticRegression(C=100, penalty=\"l1\", solver='liblinear')\n",
    "best_lr = best_lr.fit(x_train, y_train, sample_weight=None)\n",
    "\n",
    "# Evaluate on validation set\n",
    "accuracy, auc = evaluate(best_lr, x_val, y_val)\n",
    "print(\"Accuracy: \", accuracy)\n",
    "print(\"AUC: \", auc)\n",
    "\n",
    "# Predict and evaluate on test set, we'll generate the confusion matrix on y_test, since that's what we're supposed to do\n",
    "y_pred = best_lr.predict(x_test)\n",
    "\n",
    "accuracy, auc = evaluate(best_lr, x_test, y_test)\n",
    "print(\"Accuracy: \", accuracy)\n",
    "print(\"AUC: \", auc)"
   ]
  },
  {
   "cell_type": "code",
   "execution_count": null,
   "metadata": {},
   "outputs": [
    {
     "name": "stdout",
     "output_type": "stream",
     "text": [
      "[[ 34  28]\n",
      " [ 18 120]]\n"
     ]
    }
   ],
   "source": [
    "# the confusion matrix\n",
    "cm = confusion_matrix(y_test, y_pred)\n",
    "print(cm)"
   ]
  },
  {
   "cell_type": "code",
   "execution_count": 69,
   "metadata": {},
   "outputs": [
    {
     "name": "stdout",
     "output_type": "stream",
     "text": [
      "              precision    recall  f1-score   support\n",
      "\n",
      "           0       0.65      0.55      0.60        62\n",
      "           1       0.81      0.87      0.84       138\n",
      "\n",
      "    accuracy                           0.77       200\n",
      "   macro avg       0.73      0.71      0.72       200\n",
      "weighted avg       0.76      0.77      0.76       200\n",
      "\n"
     ]
    }
   ],
   "source": [
    "# classification report\n",
    "print(classification_report(y_test, y_pred))"
   ]
  },
  {
   "cell_type": "code",
   "execution_count": 49,
   "metadata": {
    "id": "D3Av4Eu0ZjFN"
   },
   "outputs": [
    {
     "name": "stdout",
     "output_type": "stream",
     "text": [
      "True Negatives: 34\n",
      " False Negatives: 18\n",
      " True Positives: 120\n",
      " False Positives: 28\n"
     ]
    }
   ],
   "source": [
    "# This is from sklearn documentation\n",
    "true_negative, false_positive, false_negative, true_positive = cm.ravel().tolist()\n",
    "print(f'True Negatives: {true_negative}\\n False Negatives: {false_negative}\\n True Positives: {true_positive}\\n False Positives: {false_positive}')"
   ]
  },
  {
   "cell_type": "markdown",
   "metadata": {
    "id": "pOKUOXBh6rh0"
   },
   "source": [
    "Calculate the false positive rate:\n",
    "\n"
   ]
  },
  {
   "cell_type": "code",
   "execution_count": 52,
   "metadata": {
    "id": "VrkCFBzAZa2R"
   },
   "outputs": [
    {
     "name": "stdout",
     "output_type": "stream",
     "text": [
      "False Positive Rate: 0.452\n"
     ]
    }
   ],
   "source": [
    "# write code to calculate the false positive rate for all applicants\n",
    "# in this code cell\n",
    "\n",
    "fpr = round(false_positive / (false_positive + true_negative),3)\n",
    "print('False Positive Rate:', fpr)"
   ]
  },
  {
   "cell_type": "markdown",
   "metadata": {
    "id": "WgmNak0ob2C8"
   },
   "source": [
    "Calculate the false *negative* rate:"
   ]
  },
  {
   "cell_type": "code",
   "execution_count": 53,
   "metadata": {
    "id": "46bwGfLba3ij"
   },
   "outputs": [
    {
     "name": "stdout",
     "output_type": "stream",
     "text": [
      "False Negative Rate: 0.13\n"
     ]
    }
   ],
   "source": [
    "# write code to calculate the false negative rate for all applicants\n",
    "# in this code cell\n",
    "\n",
    "fnr = round(false_negative / (true_positive + false_negative),3)\n",
    "print('False Negative Rate:', fnr)"
   ]
  },
  {
   "cell_type": "markdown",
   "metadata": {
    "id": "w6jHN6nWcP3X"
   },
   "source": [
    "~~**TODO: Take a moment to review the false positive rate and false negative rate above. For this application, comment on whether one metric is more desired over another?**~~\n",
    "\n",
    "Lets go back to our confusion matrix for a second and summarize what our false positives and false negatives actually mean in context of the dataset, and by extension the business problem first.\n",
    "\n",
    "|      | Did not default |  Defaulted   |\n",
    "| :---        |    :----:   |          ---: |\n",
    "| 0: Bad credit | False Negative       | True Negative   |\n",
    "| 1: Good credit | True Positve       | False Positive      |\n",
    "\n",
    "A False Positive would imply that our algorithm predicted that a customer had good credit, when reality they defaulted; which translates to approving a high risk customer. On the other hand, a False Negative would imply that our algorithm predicted a customer had bad credit when they did not default in the past, translating to rejecting a safe customer. \n",
    "\n",
    "Consequently, I think the FPR would be more desirable over the other. With a rate of 45%, this might become an issue for the business if ever implemented - since the model is tending towards approving customers that might not be able to repay loan amounts. This will largely come down to the skew we found in our data."
   ]
  },
  {
   "cell_type": "markdown",
   "metadata": {},
   "source": [
    "#### 4.8. Now, let's try another popular machine learning model, a Random Forest Classifier. You only need to change step 4.4 above, evaluate the trained random forest and compute the statistics as in step 4.7. You may also use hyperparameter tuning and compare the best random forest classifier with the best logistic regression classifier.\n",
    "\n",
    "~~**TODO: Compare your results (accuracy and AUC) for the two models and comment on the similarities and differences in their performances.**~~"
   ]
  },
  {
   "cell_type": "code",
   "execution_count": null,
   "metadata": {},
   "outputs": [],
   "source": [
    "# I'll just do this in one cell instead of re-running the old ones, making use of the previous functions\n",
    "# This should cover both steps 4.4 and 4.7.\n",
    "from sklearn.model_selection import GridSearchCV\n",
    "from sklearn.ensemble import RandomForestClassifier\n",
    "\n",
    "\n",
    "# This function will train, cross validate, fit and predict results on a small random forest model given hardcoded parameters. The intent is to make the model as small as possible\n",
    "# It uses a grid search to find the best estimator, fits, and predicts on the test set in one go.\n",
    "def random_forestPipe(X,Y, X_test, Y_test):\n",
    "\n",
    "    base_rf = RandomForestClassifier(random_state=10)\n",
    "\n",
    "    # parameter grid from documentation\n",
    "    params = {'n_estimators': [100, 200, 350, 500],\n",
    "              'criterion': ['gini', 'entropy', 'log_loss'],\n",
    "              'max_depth': [None, 2, 4],\n",
    "              'min_samples_split': [2,5,10],\n",
    "              'min_samples_leaf': [1,5,7],\n",
    "              'max_features': ['sqrt', 'log2', None]\n",
    "              }\n",
    "    \n",
    "    search = GridSearchCV(estimator=base_rf, param_grid=params, cv=5, n_jobs=-1, scoring='roc_auc')\n",
    "    search.fit(X,Y)\n",
    "\n",
    "    best_rf = search.best_estimator_\n",
    "\n",
    "    # I'm hard-coding the validation set here, and using the evaluate function\n",
    "\n",
    "    accuracy, auc = evaluate(best_rf, x_val, y_val)\n",
    "    print(\"Validation Accuracy: \", accuracy)\n",
    "    print(\"Validation AUC: \", auc)\n",
    "\n",
    "    # Now the test set\n",
    "    y_pred = best_rf.predict(X_test)\n",
    "\n",
    "    accuracy, auc = evaluate(best_rf, X_test, Y_test)\n",
    "\n",
    "    cm = confusion_matrix(Y_test, y_pred)\n",
    "    true_negative, false_positive, false_negative, true_positive = cm.ravel().tolist()\n",
    "\n",
    "    print(f'Accuracy on test data: {accuracy}\\n AUC on test data: {auc}')\n",
    "    print(f'\\nTrue Negatives: {true_negative}\\n False Negatives: {false_negative}\\n True Positives: {true_positive}\\n False Positives: {false_positive}')\n",
    "    print(classification_report(Y_test, y_pred))"
   ]
  },
  {
   "cell_type": "code",
   "execution_count": 73,
   "metadata": {},
   "outputs": [
    {
     "name": "stdout",
     "output_type": "stream",
     "text": [
      "Validation Accuracy:  0.715\n",
      "Validation AUC:  0.7774660531926831\n",
      "Accuracy on test data: 0.775\n",
      " AUC on test data: 0.8032374941561478\n",
      "\n",
      "True Negatives: 31\n",
      " False Negatives: 14\n",
      " True Positives: 124\n",
      " False Positives: 31\n",
      "              precision    recall  f1-score   support\n",
      "\n",
      "           0       0.69      0.50      0.58        62\n",
      "           1       0.80      0.90      0.85       138\n",
      "\n",
      "    accuracy                           0.78       200\n",
      "   macro avg       0.74      0.70      0.71       200\n",
      "weighted avg       0.77      0.78      0.76       200\n",
      "\n"
     ]
    }
   ],
   "source": [
    "random_forestPipe(X=x_train, Y=y_train, X_test=x_test, Y_test=y_test)"
   ]
  },
  {
   "cell_type": "markdown",
   "metadata": {},
   "source": [
    "## Observations\n",
    "\n",
    "| Model | AUC | Accuracy | Runtime |\n",
    "| --- | --- | --- | --- | \n",
    "| LogReg | 0.81 | 0.77 | < 1m | \n",
    "| RandomForest | 0.80 | 0.77 | 4.5m |\n",
    "\n",
    "The Logistic Regression model is marginally better than the Random Forest model if we consider time to train, and go solely on the AUC score. Both models have similar accuracies on the data. Interestingly, the confusion matrix is somewhat similar - with the only difference being that the Random Forest model may be more biased towards approving high risk applicants for loans due to its slightly higher False Positives when compared to the Logistic Regression model. "
   ]
  }
 ],
 "metadata": {
  "colab": {
   "collapsed_sections": [
    "355LmyCRd_sZ",
    "JI0slRqXFyXZ",
    "06n4G0ShMTWY"
   ],
   "name": "lab_1",
   "provenance": []
  },
  "kernelspec": {
   "display_name": "MDL2",
   "language": "python",
   "name": "python3"
  },
  "language_info": {
   "codemirror_mode": {
    "name": "ipython",
    "version": 3
   },
   "file_extension": ".py",
   "mimetype": "text/x-python",
   "name": "python",
   "nbconvert_exporter": "python",
   "pygments_lexer": "ipython3",
   "version": "3.11.8"
  }
 },
 "nbformat": 4,
 "nbformat_minor": 1
}
