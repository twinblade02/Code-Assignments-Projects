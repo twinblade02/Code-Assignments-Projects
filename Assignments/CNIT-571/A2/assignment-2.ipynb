{
 "cells": [
  {
   "cell_type": "markdown",
   "metadata": {
    "id": "355LmyCRd_sZ"
   },
   "source": [
    "# Assignment 2: Signals on model fairness from data and model\n",
    "\n",
    "This assignment is broken down in two parts. In the first part of the assignment, we will walk through ProPublica's analysis of the COMPAS tool and observe how the underlying data indicates potential issues of differences in predictions. In the second part of the assignment, we will explore fairness while a model is trained on the data.\n",
    "\n",
    "## Part 1: ProPublica's analysis of the COMPAS tool\n",
    "\n",
    "We discussed the COMPAS case in class following ProPublica's published [article](https://www.propublica.org/article/machine-bias-risk-assessments-in-criminal-sentencing). COMPAS is a proprietary tool which generates a so-called risk assessment for defendants in a criminal trial. ProPublica's analysis focused on the \"recidivism score,\" which purports to provide the likelihood of recidivism (i.e. committing a misdemeanor of felony) within two years of assessment.\n",
    "\n",
    "In this assignment, we will go through parts of ProPublica's analysis of COMPAS, focusing on how the recidivism risk scale varies by race and sex.\n",
    "\n",
    "This notebook has four stages in which we will:\n",
    "1. Import the data, implement a few pre-processing steps, and inspect the data\n",
    "2. Run a short exploratory analysis of the COMPAS recidivism score, our primary variable of interest\n",
    "3. Reproduce the logistic regression model in ProPublica's analysis and interpret the estimates\n",
    "4. Compute the predictive accuracy of the risk score labels"
   ]
  },
  {
   "cell_type": "markdown",
   "metadata": {
    "id": "pdeHvX_6woJg"
   },
   "source": [
    "### Packages and Modules"
   ]
  },
  {
   "cell_type": "markdown",
   "metadata": {
    "id": "lI_-xUcTnhv3"
   },
   "source": [
    "You may need to install the following packages:\n",
    "\n",
    "\n"
   ]
  },
  {
   "cell_type": "code",
   "execution_count": null,
   "metadata": {},
   "outputs": [],
   "source": [
    "# %pip install pandas numpy statsmodels matplotlib seaborn"
   ]
  },
  {
   "cell_type": "markdown",
   "metadata": {
    "id": "UmvEsKCOTIV-"
   },
   "source": [
    "Import the packages and modules:\n"
   ]
  },
  {
   "cell_type": "code",
   "execution_count": 1,
   "metadata": {},
   "outputs": [],
   "source": [
    "import math\n",
    "import random\n",
    "random.seed(6)\n",
    "\n",
    "import pandas as pd\n",
    "import numpy as np\n",
    "import statsmodels.api as sm\n",
    "import matplotlib\n",
    "import matplotlib.pyplot as plt\n",
    "%matplotlib inline\n",
    "import seaborn as sns\n",
    "\n",
    "import sys\n",
    "import warnings\n",
    "\n",
    "from sklearn.linear_model import LogisticRegression\n",
    "from sklearn.metrics import accuracy_score, roc_auc_score"
   ]
  },
  {
   "cell_type": "markdown",
   "metadata": {
    "id": "qJDFA9XSwdMi"
   },
   "source": [
    "### 1.1. Load Data\n",
    "\n",
    "Import the data from ProPublica's compas-analysis repository on GitHub and check the first few rows:"
   ]
  },
  {
   "cell_type": "code",
   "execution_count": 2,
   "metadata": {},
   "outputs": [
    {
     "name": "stdout",
     "output_type": "stream",
     "text": [
      "Shape:  (7214, 53)\n"
     ]
    },
    {
     "data": {
      "text/html": [
       "<div>\n",
       "<style scoped>\n",
       "    .dataframe tbody tr th:only-of-type {\n",
       "        vertical-align: middle;\n",
       "    }\n",
       "\n",
       "    .dataframe tbody tr th {\n",
       "        vertical-align: top;\n",
       "    }\n",
       "\n",
       "    .dataframe thead th {\n",
       "        text-align: right;\n",
       "    }\n",
       "</style>\n",
       "<table border=\"1\" class=\"dataframe\">\n",
       "  <thead>\n",
       "    <tr style=\"text-align: right;\">\n",
       "      <th></th>\n",
       "      <th>id</th>\n",
       "      <th>name</th>\n",
       "      <th>first</th>\n",
       "      <th>last</th>\n",
       "      <th>compas_screening_date</th>\n",
       "      <th>sex</th>\n",
       "      <th>dob</th>\n",
       "      <th>age</th>\n",
       "      <th>age_cat</th>\n",
       "      <th>race</th>\n",
       "      <th>...</th>\n",
       "      <th>v_decile_score</th>\n",
       "      <th>v_score_text</th>\n",
       "      <th>v_screening_date</th>\n",
       "      <th>in_custody</th>\n",
       "      <th>out_custody</th>\n",
       "      <th>priors_count.1</th>\n",
       "      <th>start</th>\n",
       "      <th>end</th>\n",
       "      <th>event</th>\n",
       "      <th>two_year_recid</th>\n",
       "    </tr>\n",
       "  </thead>\n",
       "  <tbody>\n",
       "    <tr>\n",
       "      <th>0</th>\n",
       "      <td>1</td>\n",
       "      <td>miguel hernandez</td>\n",
       "      <td>miguel</td>\n",
       "      <td>hernandez</td>\n",
       "      <td>2013-08-14</td>\n",
       "      <td>Male</td>\n",
       "      <td>1947-04-18</td>\n",
       "      <td>69</td>\n",
       "      <td>Greater than 45</td>\n",
       "      <td>Other</td>\n",
       "      <td>...</td>\n",
       "      <td>1</td>\n",
       "      <td>Low</td>\n",
       "      <td>2013-08-14</td>\n",
       "      <td>2014-07-07</td>\n",
       "      <td>2014-07-14</td>\n",
       "      <td>0</td>\n",
       "      <td>0</td>\n",
       "      <td>327</td>\n",
       "      <td>0</td>\n",
       "      <td>0</td>\n",
       "    </tr>\n",
       "    <tr>\n",
       "      <th>1</th>\n",
       "      <td>3</td>\n",
       "      <td>kevon dixon</td>\n",
       "      <td>kevon</td>\n",
       "      <td>dixon</td>\n",
       "      <td>2013-01-27</td>\n",
       "      <td>Male</td>\n",
       "      <td>1982-01-22</td>\n",
       "      <td>34</td>\n",
       "      <td>25 - 45</td>\n",
       "      <td>African-American</td>\n",
       "      <td>...</td>\n",
       "      <td>1</td>\n",
       "      <td>Low</td>\n",
       "      <td>2013-01-27</td>\n",
       "      <td>2013-01-26</td>\n",
       "      <td>2013-02-05</td>\n",
       "      <td>0</td>\n",
       "      <td>9</td>\n",
       "      <td>159</td>\n",
       "      <td>1</td>\n",
       "      <td>1</td>\n",
       "    </tr>\n",
       "    <tr>\n",
       "      <th>2</th>\n",
       "      <td>4</td>\n",
       "      <td>ed philo</td>\n",
       "      <td>ed</td>\n",
       "      <td>philo</td>\n",
       "      <td>2013-04-14</td>\n",
       "      <td>Male</td>\n",
       "      <td>1991-05-14</td>\n",
       "      <td>24</td>\n",
       "      <td>Less than 25</td>\n",
       "      <td>African-American</td>\n",
       "      <td>...</td>\n",
       "      <td>3</td>\n",
       "      <td>Low</td>\n",
       "      <td>2013-04-14</td>\n",
       "      <td>2013-06-16</td>\n",
       "      <td>2013-06-16</td>\n",
       "      <td>4</td>\n",
       "      <td>0</td>\n",
       "      <td>63</td>\n",
       "      <td>0</td>\n",
       "      <td>1</td>\n",
       "    </tr>\n",
       "    <tr>\n",
       "      <th>3</th>\n",
       "      <td>5</td>\n",
       "      <td>marcu brown</td>\n",
       "      <td>marcu</td>\n",
       "      <td>brown</td>\n",
       "      <td>2013-01-13</td>\n",
       "      <td>Male</td>\n",
       "      <td>1993-01-21</td>\n",
       "      <td>23</td>\n",
       "      <td>Less than 25</td>\n",
       "      <td>African-American</td>\n",
       "      <td>...</td>\n",
       "      <td>6</td>\n",
       "      <td>Medium</td>\n",
       "      <td>2013-01-13</td>\n",
       "      <td>NaN</td>\n",
       "      <td>NaN</td>\n",
       "      <td>1</td>\n",
       "      <td>0</td>\n",
       "      <td>1174</td>\n",
       "      <td>0</td>\n",
       "      <td>0</td>\n",
       "    </tr>\n",
       "    <tr>\n",
       "      <th>4</th>\n",
       "      <td>6</td>\n",
       "      <td>bouthy pierrelouis</td>\n",
       "      <td>bouthy</td>\n",
       "      <td>pierrelouis</td>\n",
       "      <td>2013-03-26</td>\n",
       "      <td>Male</td>\n",
       "      <td>1973-01-22</td>\n",
       "      <td>43</td>\n",
       "      <td>25 - 45</td>\n",
       "      <td>Other</td>\n",
       "      <td>...</td>\n",
       "      <td>1</td>\n",
       "      <td>Low</td>\n",
       "      <td>2013-03-26</td>\n",
       "      <td>NaN</td>\n",
       "      <td>NaN</td>\n",
       "      <td>2</td>\n",
       "      <td>0</td>\n",
       "      <td>1102</td>\n",
       "      <td>0</td>\n",
       "      <td>0</td>\n",
       "    </tr>\n",
       "  </tbody>\n",
       "</table>\n",
       "<p>5 rows × 53 columns</p>\n",
       "</div>"
      ],
      "text/plain": [
       "   id                name   first         last compas_screening_date   sex  \\\n",
       "0   1    miguel hernandez  miguel    hernandez            2013-08-14  Male   \n",
       "1   3         kevon dixon   kevon        dixon            2013-01-27  Male   \n",
       "2   4            ed philo      ed        philo            2013-04-14  Male   \n",
       "3   5         marcu brown   marcu        brown            2013-01-13  Male   \n",
       "4   6  bouthy pierrelouis  bouthy  pierrelouis            2013-03-26  Male   \n",
       "\n",
       "          dob  age          age_cat              race  ...  v_decile_score  \\\n",
       "0  1947-04-18   69  Greater than 45             Other  ...               1   \n",
       "1  1982-01-22   34          25 - 45  African-American  ...               1   \n",
       "2  1991-05-14   24     Less than 25  African-American  ...               3   \n",
       "3  1993-01-21   23     Less than 25  African-American  ...               6   \n",
       "4  1973-01-22   43          25 - 45             Other  ...               1   \n",
       "\n",
       "   v_score_text  v_screening_date  in_custody  out_custody  priors_count.1  \\\n",
       "0           Low        2013-08-14  2014-07-07   2014-07-14               0   \n",
       "1           Low        2013-01-27  2013-01-26   2013-02-05               0   \n",
       "2           Low        2013-04-14  2013-06-16   2013-06-16               4   \n",
       "3        Medium        2013-01-13         NaN          NaN               1   \n",
       "4           Low        2013-03-26         NaN          NaN               2   \n",
       "\n",
       "  start   end event two_year_recid  \n",
       "0     0   327     0              0  \n",
       "1     9   159     1              1  \n",
       "2     0    63     0              1  \n",
       "3     0  1174     0              0  \n",
       "4     0  1102     0              0  \n",
       "\n",
       "[5 rows x 53 columns]"
      ]
     },
     "execution_count": 2,
     "metadata": {},
     "output_type": "execute_result"
    }
   ],
   "source": [
    "url = \"https://raw.githubusercontent.com/propublica/compas-analysis/master/compas-scores-two-years.csv\"\n",
    "df_compas = pd.read_csv(url)\n",
    "print(\"Shape: \", df_compas.shape)\n",
    "df_compas.head(5)"
   ]
  },
  {
   "cell_type": "markdown",
   "metadata": {
    "id": "JI0slRqXFyXZ"
   },
   "source": [
    "### Notes on the Data\n",
    "\n",
    "Refer to the description of the [data collection methodology](https://www.propublica.org/article/how-we-analyzed-the-compas-recidivism-algorithm). Salient points are highlighted below; see the full description from ProPublica for additional details.\n",
    "\n",
    "> **Goal:** We looked at more than 10,000 criminal defendants in Broward County, Florida, and compared their predicted recidivism rates with the rate that actually occurred over a two-year period.\n",
    ">\n",
    "> **COMPAS tool input (data subjects):** When most defendants are booked in jail, they respond to a COMPAS questionnaire. Their answers are fed into the COMPAS software to generate several scores including predictions of Risk of Recidivism and Risk of Violent Recidivism.\n",
    ">\n",
    "> **How COMPAS input was acquired by ProPublica:** Through a public records request, ProPublica obtained two years worth of COMPAS scores from the Broward County Sheriff’s Office in Florida. We received data for all 18,610 people who were scored in 2013 and 2014.\n",
    ">\n",
    "> **COMPAS tool output:** Each pretrial defendant received at least three COMPAS scores: \"Risk of Recidivism,\" \"Risk of Violence\" and \"Risk of Failure to Appear. [...] COMPAS scores for each defendant ranged from 1 to 10, with ten being the highest risk. Scores 1 to 4 were labeled by COMPAS as \"Low;\" 5 to 7 were labeled “Medium;\" and 8 to 10 were labeled “High.”\n",
    ">\n",
    "> **Data integration (record linkage):** Starting with the database of COMPAS scores, we built a profile of each person’s criminal history, both before and after they were scored. We collected public criminal records from the Broward County Clerk’s Office website through April 1, 2016. On average, defendants in our dataset were not incarcerated for 622.87 days (sd: 329.19). We matched the criminal records to the COMPAS records using a person’s first and last names and date of birth. This is the same technique used in the Broward County COMPAS validation study conducted by researchers at Florida State University in 2010. We downloaded around 80,000 criminal records from the Broward County Clerk’s Office website.\n",
    ">\n",
    "> **What is recidivism?** Northpointe defined recidivism as “a finger-printable arrest involving a charge and a filing for any uniform crime reporting (UCR) code.” We interpreted that to mean a criminal offense that resulted in a jail booking and took place after the crime for which the person was COMPAS scored. For most of our analysis, we defined recidivism as a new arrest within two years."
   ]
  },
  {
   "cell_type": "markdown",
   "metadata": {
    "id": "G0xgPnT11OtO"
   },
   "source": [
    "### 1.2. Inspect Data\n",
    "\n",
    "For convenience, here is a table of variable definitions:\n",
    "\n",
    "| Variable    | Description |\n",
    "| ----------- | ----------- |\n",
    "| age       |  Age of the defendant   |\n",
    "| age_cat   |  Age category. It can be < 25, 25-45, >45    |\n",
    "| sex   |  Sex of the defendant. It is either \"Male\" or \"Female\"       |\n",
    "| race   |  Race of the defendant. It can be \"African-American\", \"Caucasian\", \"Hispanic\", \"Asian\", or \"Other\"      |\n",
    "| c_charge_degree   |   Charge. Either \"M\" for misdemeanor, \"F\" for felony, or \"O\" (not causing jail time)    |\n",
    "| priors_count   |   Count of prior crimes committed by the defendant      |\n",
    "| days_b_screening_arrest   |  Days between the arrest and COMPAS screening       |\n",
    "| decile_score   |  The COMPAS score estimated by the system. It is between 0-10       |\n",
    "| score_text   |  Decile score. It can be \"Low\" (1-4), \"Medium\" (5-7), or \"High\" (8-10)       |\n",
    "| is_recid   |  Indicates if the defendant recidivated. It can be 0, 1, or -1      |\n",
    "| two_year_recid   |  Indicates if the defendant recidivated within two years of COMPAS assessment      |\n",
    "| c_jail_in   |   Date the defendant was in jail      |\n",
    "| c_jail_out  |   Date when the defendant was released from jail     |\n",
    "\n",
    "\n",
    "~~**TODO:** Plot the distribution of age, race, and sex in the imported data (```df_compas```):~~"
   ]
  },
  {
   "cell_type": "code",
   "execution_count": null,
   "metadata": {
    "id": "C6lQj5HJVuyw"
   },
   "outputs": [
    {
     "data": {
      "image/png": "[encoded data removed]",
      "text/plain": [
       "<Figure size 1500x600 with 3 Axes>"
      ]
     },
     "metadata": {},
     "output_type": "display_data"
    }
   ],
   "source": [
    "# write code to plot the distribution of age, race, and sex\n",
    "# in this code cell\n",
    "\n",
    "fig, axs = plt.subplots(1,3, figsize=(15,6))\n",
    "sns.histplot(data=df_compas, x='age', ax=axs[0])\n",
    "axs[0].set_title('Histogram for Age')\n",
    "\n",
    "sns.histplot(data=df_compas, x='race', hue='race', ax=axs[1]) #using the hue param so I get a legend without relying on the labels on X axis\n",
    "axs[1].set_title('Histogram for Race')\n",
    "\n",
    "sns.histplot(data=df_compas, x='sex', ax=axs[2])\n",
    "axs[2].set_title('Histogram for Sex')\n",
    "plt.show()\n"
   ]
  },
  {
   "cell_type": "markdown",
   "metadata": {
    "id": "q36OxXLfoJxt"
   },
   "source": [
    "### 1.3. Preprocess Data"
   ]
  },
  {
   "cell_type": "markdown",
   "metadata": {
    "id": "HYL5nnxko0bG"
   },
   "source": [
    "ProPublica implemented a few pre-processing steps. First, they generated a subset of the data with a few variables of interest. Here, we select even fewer variables, keeping only those that we will use in this notebook."
   ]
  },
  {
   "cell_type": "code",
   "execution_count": 9,
   "metadata": {
    "id": "T1qppbDjoRGJ"
   },
   "outputs": [
    {
     "name": "stdout",
     "output_type": "stream",
     "text": [
      "Shape:  (7214, 12)\n"
     ]
    },
    {
     "data": {
      "text/html": [
       "<div>\n",
       "<style scoped>\n",
       "    .dataframe tbody tr th:only-of-type {\n",
       "        vertical-align: middle;\n",
       "    }\n",
       "\n",
       "    .dataframe tbody tr th {\n",
       "        vertical-align: top;\n",
       "    }\n",
       "\n",
       "    .dataframe thead th {\n",
       "        text-align: right;\n",
       "    }\n",
       "</style>\n",
       "<table border=\"1\" class=\"dataframe\">\n",
       "  <thead>\n",
       "    <tr style=\"text-align: right;\">\n",
       "      <th></th>\n",
       "      <th>id</th>\n",
       "      <th>age</th>\n",
       "      <th>c_charge_degree</th>\n",
       "      <th>race</th>\n",
       "      <th>age_cat</th>\n",
       "      <th>score_text</th>\n",
       "      <th>sex</th>\n",
       "      <th>priors_count</th>\n",
       "      <th>days_b_screening_arrest</th>\n",
       "      <th>decile_score</th>\n",
       "      <th>is_recid</th>\n",
       "      <th>two_year_recid</th>\n",
       "    </tr>\n",
       "  </thead>\n",
       "  <tbody>\n",
       "    <tr>\n",
       "      <th>0</th>\n",
       "      <td>1</td>\n",
       "      <td>69</td>\n",
       "      <td>F</td>\n",
       "      <td>Other</td>\n",
       "      <td>Greater than 45</td>\n",
       "      <td>Low</td>\n",
       "      <td>Male</td>\n",
       "      <td>0</td>\n",
       "      <td>-1.0</td>\n",
       "      <td>1</td>\n",
       "      <td>0</td>\n",
       "      <td>0</td>\n",
       "    </tr>\n",
       "    <tr>\n",
       "      <th>1</th>\n",
       "      <td>3</td>\n",
       "      <td>34</td>\n",
       "      <td>F</td>\n",
       "      <td>African-American</td>\n",
       "      <td>25 - 45</td>\n",
       "      <td>Low</td>\n",
       "      <td>Male</td>\n",
       "      <td>0</td>\n",
       "      <td>-1.0</td>\n",
       "      <td>3</td>\n",
       "      <td>1</td>\n",
       "      <td>1</td>\n",
       "    </tr>\n",
       "    <tr>\n",
       "      <th>2</th>\n",
       "      <td>4</td>\n",
       "      <td>24</td>\n",
       "      <td>F</td>\n",
       "      <td>African-American</td>\n",
       "      <td>Less than 25</td>\n",
       "      <td>Low</td>\n",
       "      <td>Male</td>\n",
       "      <td>4</td>\n",
       "      <td>-1.0</td>\n",
       "      <td>4</td>\n",
       "      <td>1</td>\n",
       "      <td>1</td>\n",
       "    </tr>\n",
       "    <tr>\n",
       "      <th>3</th>\n",
       "      <td>5</td>\n",
       "      <td>23</td>\n",
       "      <td>F</td>\n",
       "      <td>African-American</td>\n",
       "      <td>Less than 25</td>\n",
       "      <td>High</td>\n",
       "      <td>Male</td>\n",
       "      <td>1</td>\n",
       "      <td>NaN</td>\n",
       "      <td>8</td>\n",
       "      <td>0</td>\n",
       "      <td>0</td>\n",
       "    </tr>\n",
       "    <tr>\n",
       "      <th>4</th>\n",
       "      <td>6</td>\n",
       "      <td>43</td>\n",
       "      <td>F</td>\n",
       "      <td>Other</td>\n",
       "      <td>25 - 45</td>\n",
       "      <td>Low</td>\n",
       "      <td>Male</td>\n",
       "      <td>2</td>\n",
       "      <td>NaN</td>\n",
       "      <td>1</td>\n",
       "      <td>0</td>\n",
       "      <td>0</td>\n",
       "    </tr>\n",
       "  </tbody>\n",
       "</table>\n",
       "</div>"
      ],
      "text/plain": [
       "   id  age c_charge_degree              race          age_cat score_text  \\\n",
       "0   1   69               F             Other  Greater than 45        Low   \n",
       "1   3   34               F  African-American          25 - 45        Low   \n",
       "2   4   24               F  African-American     Less than 25        Low   \n",
       "3   5   23               F  African-American     Less than 25       High   \n",
       "4   6   43               F             Other          25 - 45        Low   \n",
       "\n",
       "    sex  priors_count  days_b_screening_arrest  decile_score  is_recid  \\\n",
       "0  Male             0                     -1.0             1         0   \n",
       "1  Male             0                     -1.0             3         1   \n",
       "2  Male             4                     -1.0             4         1   \n",
       "3  Male             1                      NaN             8         0   \n",
       "4  Male             2                      NaN             1         0   \n",
       "\n",
       "   two_year_recid  \n",
       "0               0  \n",
       "1               1  \n",
       "2               1  \n",
       "3               0  \n",
       "4               0  "
      ]
     },
     "execution_count": 9,
     "metadata": {},
     "output_type": "execute_result"
    }
   ],
   "source": [
    "cols_to_keep = [\"id\", \"age\", \"c_charge_degree\", \"race\", \"age_cat\", \"score_text\",\n",
    "                \"sex\", \"priors_count\", \"days_b_screening_arrest\",\n",
    "                \"decile_score\", \"is_recid\", \"two_year_recid\"]\n",
    "\n",
    "df_selected = df_compas[cols_to_keep].copy()\n",
    "\n",
    "print(\"Shape: \", df_selected.shape)\n",
    "df_selected.head()"
   ]
  },
  {
   "cell_type": "markdown",
   "metadata": {
    "id": "ghZE7FZUpBsQ"
   },
   "source": [
    "ProPublica filtered the above data by removing rows where:\n",
    "1. The COMPAS score is missing.\n",
    "1. The charge date of the defendant's COMPAS-scored crime was not within 30 days from the date of arrest. ProPublica assumed that the offense may not be correct in these cases.\n",
    "2. The recividist flag is \"-1\". In such cases, ProPublica could not find a COMPAS record at all.\n",
    "3. The charge is \"O\". These are ordinary traffic offenses and do not result in jail time.\n",
    "\n",
    "We implement these conditions here:"
   ]
  },
  {
   "cell_type": "code",
   "execution_count": 10,
   "metadata": {
    "id": "3muereQrap8u"
   },
   "outputs": [],
   "source": [
    "df_analysis = df_selected[\n",
    "    (df_selected.score_text != \"N/A\") &\n",
    "    (df_selected.days_b_screening_arrest <= 30) &\n",
    "    (df_selected.days_b_screening_arrest >= -30) &\n",
    "    (df_selected.is_recid != -1) &\n",
    "    (df_selected.c_charge_degree != \"O\")\n",
    "    ].copy()"
   ]
  },
  {
   "cell_type": "markdown",
   "metadata": {
    "id": "wCNlGWB_sBda"
   },
   "source": [
    "Note that ProPublica only included people who had recidivated within two years or had at least two years outside a correctional facility. This pre-processing step is \"baked in\" to the data that we imported from GitHub in this notebook.\n",
    "\n",
    "~~**TODO:** Check the dimensions (i.e. the number of variables and observations) of the imported (```df_compas```) and preprocessed (```df_analysis```) data:~~"
   ]
  },
  {
   "cell_type": "code",
   "execution_count": 14,
   "metadata": {
    "id": "JJ_MkWKxt1YJ"
   },
   "outputs": [
    {
     "name": "stdout",
     "output_type": "stream",
     "text": [
      "df_compas contains 7214 observations and 53 variables\n",
      "df_analysis contains 6172 observations and 12 variables\n"
     ]
    }
   ],
   "source": [
    "# write code to check the number of variables and observations in df_compas\n",
    "# and df_analysis here\n",
    "\n",
    "print(f\"df_compas contains {df_compas.shape[0]} observations and {df_compas.shape[1]} variables\")\n",
    "print(f\"df_analysis contains {df_analysis.shape[0]} observations and {df_analysis.shape[1]} variables\")\n"
   ]
  },
  {
   "cell_type": "markdown",
   "metadata": {
    "id": "0juptQDv7pDG"
   },
   "source": [
    "Take the additional step of making sure that the decile score (discussed below) is numeric:\n"
   ]
  },
  {
   "cell_type": "code",
   "execution_count": 17,
   "metadata": {
    "id": "xjg2B1s47tJr"
   },
   "outputs": [],
   "source": [
    "df_analysis[\"decile_score\"] = pd.to_numeric(df_analysis[\"decile_score\"])"
   ]
  },
  {
   "cell_type": "markdown",
   "metadata": {
    "id": "TS1ZlkXTwTrU"
   },
   "source": [
    "### 1.4. Inspect Data Again"
   ]
  },
  {
   "cell_type": "markdown",
   "metadata": {
    "id": "5bgG7Odrk1Wf"
   },
   "source": [
    "Re-inspect salient variables in the data after the preprocessing steps. Plot the distribution of age, race, and sex in the preprocessed data (```df_analysis```) and compare these distributions to the imported data (```df_compas```):"
   ]
  },
  {
   "cell_type": "code",
   "execution_count": null,
   "metadata": {
    "id": "rf4Jdy6QwRAS"
   },
   "outputs": [
    {
     "data": {
      "image/png": "[encoded data removed]",
      "text/plain": [
       "<Figure size 1500x600 with 3 Axes>"
      ]
     },
     "metadata": {},
     "output_type": "display_data"
    }
   ],
   "source": [
    "# write code to plot the distribution of age, race, and sex in \n",
    "# the df_analysis data\n",
    "# NOTE: This is the same code I used above\n",
    "\n",
    "fig, axs = plt.subplots(1,3, figsize=(15,6))\n",
    "sns.histplot(data=df_analysis, x='age', ax=axs[0])\n",
    "axs[0].set_title('Histogram for Age')\n",
    "\n",
    "sns.histplot(data=df_analysis, x='race', hue='race', ax=axs[1])\n",
    "axs[1].set_title('Histogram for Race')\n",
    "\n",
    "sns.histplot(data=df_analysis, x='sex', ax=axs[2])\n",
    "axs[2].set_title('Histogram for Sex')\n",
    "plt.show()"
   ]
  },
  {
   "cell_type": "markdown",
   "metadata": {},
   "source": [
    "~~**TODO:** Report changes from Step 1.2 above.~~\n",
    "\n",
    "Not much has changed regarding the shape and the distribution of the data. They are almost identical between the two, save for the lesser number of datapoints which can be noted from the change in the numbers on the Y-Axis for each bar on each plot. In the `race` plot - the bars for \"Asian\" and \"Native American\" have been switched around, but on further inspection, they appear to be the same as the previous result. "
   ]
  },
  {
   "cell_type": "markdown",
   "metadata": {
    "id": "RnlEcgYrwIkw"
   },
   "source": [
    "Observe that we are iterating through the data analysis: import, inspect & profile, preprocess, and profile again. Generate a crosstab summarizing the number of observations by race and sex:"
   ]
  },
  {
   "cell_type": "code",
   "execution_count": 19,
   "metadata": {
    "id": "sQnZbZDF162n"
   },
   "outputs": [
    {
     "name": "stdout",
     "output_type": "stream",
     "text": [
      "sex               Female  Male  Total\n",
      "race                                 \n",
      "African-American     549  2626   3175\n",
      "Asian                  2    29     31\n",
      "Caucasian            482  1621   2103\n",
      "Hispanic              82   427    509\n",
      "Native American        2     9     11\n",
      "Other                 58   285    343\n",
      "Total               1175  4997   6172\n"
     ]
    }
   ],
   "source": [
    "# write code to generate a crosstab summarizing the number of observations by\n",
    "# race and sex (i.e. a pivot table) in this code cell\n",
    "\n",
    "ct = pd.crosstab(df_analysis['race'], df_analysis['sex'], margins=True, margins_name='Total')\n",
    "print(ct)"
   ]
  },
  {
   "cell_type": "markdown",
   "metadata": {},
   "source": [
    "~~**TODO:** Report your observations here.~~\n",
    "\n",
    "A large chunk of the datapoints in this set of data consists of African-Americans, followed by Caucasians. Of this set, it appears that there are more males than females within these groups. In fact, in general - there are more male than female datapoints in this dataset (~19% female of 6172). "
   ]
  },
  {
   "cell_type": "markdown",
   "metadata": {
    "id": "gxkyKFMP3Oxa"
   },
   "source": [
    "### 1.5. Exploratory Analysis"
   ]
  },
  {
   "cell_type": "markdown",
   "metadata": {
    "id": "h9a0-JeX3Wmd"
   },
   "source": [
    "Let's turn our focus to the primary variable of interest: the COMPAS recidivism score. In this exploratory analysis, we are interested in the variable named \"decile_score\", which is the output of the COMPAS tool.\n",
    "\n",
    "The ProPublica analysis notes: \"Judges are often presented with two sets of scores from the COMPAS system: one that classifies people into high, medium or low risk, and a corresponding decile score.\"\n",
    "\n",
    "Let's plot the distribution of decile score for males and for females. "
   ]
  },
  {
   "cell_type": "code",
   "execution_count": null,
   "metadata": {
    "id": "5ntoFh0w-1F3"
   },
   "outputs": [],
   "source": [
    "# plot score decile by sex\n",
    "df_female = df_analysis[(df_analysis.sex == \"Female\")].copy()\n",
    "df_male   = df_analysis[(df_analysis.sex == \"Male\")].copy()\n",
    "\n",
    "fig = plt.figure(figsize = (12, 6))\n",
    "fig.add_subplot(121)\n",
    "\n",
    "plt.hist(df_female[\"decile_score\"], ec = \"white\",\n",
    "         weights = np.ones(len(df_female[\"decile_score\"])) /\n",
    "         len(df_female[\"decile_score\"]))\n",
    "plt.xlabel(\"Decile Score (0-10)\")\n",
    "plt.ylabel(\"Percent of Cases\")\n",
    "plt.title(\"Female Defendant's Decile Scores\")\n",
    "plt.ylim([0, 0.25])\n",
    "\n",
    "fig.add_subplot(122)\n",
    "plt.hist(df_male[\"decile_score\"], ec = \"white\",\n",
    "         weights = np.ones(len(df_male[\"decile_score\"])) /\n",
    "         len(df_male[\"decile_score\"]))\n",
    "plt.xlabel(\"Decile Score (0-10)\")\n",
    "plt.ylabel(\"Percent of Cases\")\n",
    "plt.title(\"Male Defendant's Decile Scores\")\n",
    "plt.ylim([0, 0.25])\n",
    "\n",
    "plt.show()"
   ]
  },
  {
   "cell_type": "markdown",
   "metadata": {},
   "source": [
    "**TODO:** To what extent do these distributions differ?"
   ]
  },
  {
   "cell_type": "markdown",
   "metadata": {
    "id": "RDtwnIWk4O_P"
   },
   "source": [
    "**TODO:** What about race? Repeat the above plots for Black defendants and White defendants:"
   ]
  },
  {
   "cell_type": "code",
   "execution_count": null,
   "metadata": {
    "id": "2QRK2jsM3Vvn"
   },
   "outputs": [],
   "source": [
    "# write code to plot \"decile_score\" for White and Black defendants\n",
    "# in this code cell"
   ]
  },
  {
   "cell_type": "markdown",
   "metadata": {
    "id": "2v4KvrqCNaqi"
   },
   "source": [
    "**TODO:** Summarize the difference between the distribution of decile scores for Black defendants and White defendants in this text cell:"
   ]
  },
  {
   "cell_type": "markdown",
   "metadata": {
    "id": "V1o9A7VlDWuo"
   },
   "source": [
    "**TODO:** Plot the distribution of COMPAS-assigned \"risk labels\" (the variable is named \"score_text\") for Black defendants and White defendants:"
   ]
  },
  {
   "cell_type": "code",
   "execution_count": null,
   "metadata": {
    "id": "P3tnCwrbDvIe"
   },
   "outputs": [],
   "source": [
    "# plot the distribution of \"score_text\" for White defendants and \n",
    "# Black defendants in this code cell"
   ]
  },
  {
   "cell_type": "markdown",
   "metadata": {
    "id": "zfFXAqvNFFXi"
   },
   "source": [
    "### 1.5. Bias in COMPAS scores"
   ]
  },
  {
   "cell_type": "markdown",
   "metadata": {
    "id": "7lcvC8rNFbYc"
   },
   "source": [
    "ProPublica focused on racial bias in the COMPAS algorithm. In general terms, ProPublica analyzed (i) how the *risk scores* vary by race and (ii) the extent to which the *risk labels* assigned to defendants matches up with their observed recidivism and how this varies by race. We will (approximately) reproduce this analysis below."
   ]
  },
  {
   "cell_type": "markdown",
   "metadata": {
    "id": "eOCIMREOQ7I0"
   },
   "source": [
    "#### 1.5.1. Preprocess Data for Logistic Regression Model\n",
    "\n",
    "ProPublica used a logistic regression model to analyze variation in the risk scores by race. We will prepare the data by one-hot encoding the categorical variables."
   ]
  },
  {
   "cell_type": "code",
   "execution_count": null,
   "metadata": {
    "id": "VqJLl5RfFIXR"
   },
   "outputs": [],
   "source": [
    "# print(df_analysis.dtypes)"
   ]
  },
  {
   "cell_type": "code",
   "execution_count": null,
   "metadata": {
    "id": "1VywniiqFugA"
   },
   "outputs": [],
   "source": [
    "for i, col_type in enumerate(df_analysis.dtypes):\n",
    "    if col_type == \"object\":\n",
    "        print(\"\\nVariable {} takes the values: {}\".format(\n",
    "            df_analysis.columns[i],\n",
    "            df_analysis[df_analysis.columns[i]].unique()))"
   ]
  },
  {
   "cell_type": "code",
   "execution_count": null,
   "metadata": {
    "id": "bbPi5iRYHZ64"
   },
   "outputs": [],
   "source": [
    "df_logistic = df_analysis.copy()\n",
    "\n",
    "# one-hot encoding\n",
    "df_logistic = pd.get_dummies(df_logistic,\n",
    "                             columns = [\"c_charge_degree\", \"race\",\n",
    "                                        \"age_cat\", \"sex\"])\n",
    "\n",
    "# mutate score_text to binary variable where low = {low}\n",
    "# and high = {medium, high}\n",
    "df_logistic[\"score_binary\"] = np.where(df_logistic[\"score_text\"] != \"Low\",\n",
    "                                       \"High\", \"Low\")\n",
    "df_logistic[\"score_binary\"] = df_logistic[\"score_binary\"].astype('category')\n",
    "\n",
    "# rename the columns to be more instructive and consistent with statsmodel\n",
    "# requirements for variable names\n",
    "df_logistic.columns = df_logistic.columns.str.replace(' ', '_')\n",
    "df_logistic.columns = df_logistic.columns.str.replace('-', '_')\n",
    "\n",
    "renamed_cols = {'age_cat_25___45':'age_cat_25_to_45',\n",
    "                'c_charge_degree_F':'Felony',\n",
    "                'c_charge_degree_M':'Misdemeanor'}\n",
    "\n",
    "df_logistic = df_logistic.rename(columns = renamed_cols)"
   ]
  },
  {
   "cell_type": "markdown",
   "metadata": {
    "id": "3BaOl-bMfU3q"
   },
   "source": [
    "Check that recoding resulted in the desired data structure:"
   ]
  },
  {
   "cell_type": "code",
   "execution_count": null,
   "metadata": {
    "id": "7rAihNgrP3f7"
   },
   "outputs": [],
   "source": [
    "# df_logistic.head()"
   ]
  },
  {
   "cell_type": "markdown",
   "metadata": {
    "id": "-NKIjUEgRHX6"
   },
   "source": [
    "#### 1.5.2. Estimate Logistic Regression Model\n",
    "\n",
    "Following ProPublica, we specify the following logistic regression model:"
   ]
  },
  {
   "cell_type": "code",
   "execution_count": null,
   "metadata": {
    "id": "Fd07D4i_MUjN"
   },
   "outputs": [],
   "source": [
    "# Right-hand side\n",
    "explanatory = \"priors_count + two_year_recid + Misdemeanor + \\\n",
    "age_cat_Greater_than_45 + age_cat_Less_than_25 + \\\n",
    "race_African_American + race_Asian + race_Hispanic + race_Native_American + \\\n",
    "race_Other + sex_Female\"\n",
    "\n",
    "# Left-hand side\n",
    "response = \"score_binary\"\n",
    "\n",
    "# Formula\n",
    "formula = response + \" ~ \" + explanatory\n",
    "print(formula)"
   ]
  },
  {
   "cell_type": "markdown",
   "metadata": {
    "id": "h6Gk-XzAfz0d"
   },
   "source": [
    "Let's fit the model:"
   ]
  },
  {
   "cell_type": "code",
   "execution_count": null,
   "metadata": {
    "id": "SXGOejPiNk3E"
   },
   "outputs": [],
   "source": [
    "# Note: using family = sm.families.Binomial() specifies a logistic regression\n",
    "model = sm.formula.glm(formula = formula, \n",
    "                       family = sm.families.Binomial(),\n",
    "                       data = df_logistic).fit()\n",
    "\n",
    "# print(model.summary())"
   ]
  },
  {
   "cell_type": "code",
   "execution_count": null,
   "metadata": {},
   "outputs": [],
   "source": [
    "# Let's see when the dependent variable has been converted from nominal into two dummy variables: \n",
    "print(sm.formula.glm(formula = formula, \n",
    "                       family = sm.families.Binomial(),\n",
    "                       data = df_logistic).endog_names)\n",
    "\n",
    "# Predict the probability of the score being High (from the way the nominal values are listed above)\n",
    "y_pred = model.predict(df_logistic)"
   ]
  },
  {
   "cell_type": "markdown",
   "metadata": {
    "id": "yJ7CaxsERKus"
   },
   "source": [
    "#### 1.5.3. Interpret Estimates"
   ]
  },
  {
   "cell_type": "markdown",
   "metadata": {
    "id": "TOE5Yi5dR6rG"
   },
   "source": [
    "Take a moment to read through the model summary. \n",
    "\n",
    "One way to interpret the estimates is by calculating odds ratios. To calculate odds ratios, we take the exponential of the coefficients. For example, taking the exponential of the coefficient for sex_Female ($\\beta_{female}$ = 0.2213) will return the odds of score_text taking the value \"high\" for a female relative to a male. Calculate this odds ratio here:\n",
    "\n"
   ]
  },
  {
   "cell_type": "code",
   "execution_count": null,
   "metadata": {
    "id": "m-kJeX2TSu29"
   },
   "outputs": [],
   "source": [
    "# write code to calculate the odds for female defendants here"
   ]
  },
  {
   "cell_type": "markdown",
   "metadata": {
    "id": "Zt01yUzKTzG_"
   },
   "source": [
    "In words, the odds that COMPAS labeled a defendant as \"high risk\" of recidivism is 1.25 times greater for a female than a male.\n",
    "\n",
    "Next, calculate the odds ratio for all of the coefficients in the model:"
   ]
  },
  {
   "cell_type": "code",
   "execution_count": null,
   "metadata": {
    "id": "8nPb8HKJROFd"
   },
   "outputs": [],
   "source": [
    "# write code to calculate the odds ratio for all variables in the \n",
    "# logistic regression model here"
   ]
  },
  {
   "cell_type": "markdown",
   "metadata": {
    "id": "YRy_qGPaYj-r"
   },
   "source": [
    "Take a moment to read through these coefficients. What is the reference category for each variable? (e.g. For females, the reference category is male.) Think in terms of comparisons, for example:\n",
    "\n",
    "> A person with a value of [ &nbsp; &nbsp; ] on variable [ &nbsp; &nbsp; ] is [ &nbsp; &nbsp; ] times more likely to be labeled high risk compared to a person with a value of [ &nbsp; &nbsp; ] on variable [ &nbsp; &nbsp; ]\n",
    "\n",
    "In the female example above, this could be stated:\n",
    "\n",
    "> \"A person with a value of female on variable sex is 1.25 times more likely to be labeled high risk compared to a person with a value of male on variable sex\"\n",
    "\n",
    "Of course, we should be more straightforward when writing up results. \"A person with a value of male on variable sex\" is rather verbose; \"males\" will suffice. Interpreting model estimates in straightforward terms is an underrated skill.\n"
   ]
  },
  {
   "cell_type": "markdown",
   "metadata": {
    "id": "5dQBzQ5jSjPy"
   },
   "source": [
    "**TODO:** Summarize the odds associated with the \"age_cat\" variable in this text cell (two sentences maximum):\n"
   ]
  },
  {
   "cell_type": "markdown",
   "metadata": {
    "id": "jrTWMqP7Sytr"
   },
   "source": [
    "**TODO:** Before moving on, think about how the above estimates relate to the concepts of fairness introduced in the lectures. Write down your answer as to what extent do these findings about the assignment of risk labels in COMPAS relate to pre-existing bias, technical bias, and emergent bias."
   ]
  },
  {
   "cell_type": "markdown",
   "metadata": {
    "id": "CvGGSeCqY-eN"
   },
   "source": [
    "#### 1.5.4. Predictive Accuracy\n",
    "\n",
    "\n",
    "ProPublica reported the false positive rate and false negative rate for black defendants and white defendants, separately (using a somewhat different dataset). We will use the ```df_logistic``` data we preprocessed above. (Note therefore that the numbers we calculate below will not match those reported by ProPublica). \n",
    "\n",
    "For ease, we will generate a crosstab of the variable denoting recidivism within two years (```is_recid```) and the binary score variable (```score_binary```): (note that we can similarly generate a crosstab of ```y_pred``` and ```score_binary``` to evaluate the trained model)"
   ]
  },
  {
   "cell_type": "code",
   "execution_count": null,
   "metadata": {
    "id": "JpluSwppZFUe"
   },
   "outputs": [],
   "source": [
    "print(\"All defendants\")\n",
    "pd.crosstab(df_logistic[\"score_binary\"], df_logistic[\"is_recid\"])"
   ]
  },
  {
   "cell_type": "markdown",
   "metadata": {
    "id": "kojOZPLybCSv"
   },
   "source": [
    "**TODO:** Based on this crosstab, calculate the false positive rate and false negative rate for all defendants."
   ]
  },
  {
   "cell_type": "code",
   "execution_count": null,
   "metadata": {
    "id": "VrkCFBzAZa2R"
   },
   "outputs": [],
   "source": [
    "# write code to calculate the false positive rate and false negative rate for all defendants\n",
    "# in this code cell"
   ]
  },
  {
   "cell_type": "markdown",
   "metadata": {
    "id": "G1LBhe-f-TTn"
   },
   "source": [
    "**TODO:** How do the false positive and false negative rates vary by sex? Let's generate a crosstab of \"score_binary\" and \"is_recid\" for female defendants:"
   ]
  },
  {
   "cell_type": "code",
   "execution_count": null,
   "metadata": {
    "id": "LI3i9zzt-kMG"
   },
   "outputs": [],
   "source": [
    "# write code to generate a similar crosstab for female defendants\n",
    "# in this code cell"
   ]
  },
  {
   "cell_type": "markdown",
   "metadata": {
    "id": "TFmpimkjZbVJ"
   },
   "source": [
    "**TODO:** Based on this crosstab, calculate the false positive and false negative rates for females:"
   ]
  },
  {
   "cell_type": "code",
   "execution_count": null,
   "metadata": {
    "id": "8tzBrFZKb4UI"
   },
   "outputs": [],
   "source": [
    "# write code to calculate the false positive rate and false negative rate for\n",
    "# female defendants in this code cell"
   ]
  },
  {
   "cell_type": "markdown",
   "metadata": {
    "id": "MYowpvPWcooI"
   },
   "source": [
    "**TODO:** Now repeat the process and calculate the false positive rate and false negative rate for male defendants:"
   ]
  },
  {
   "cell_type": "code",
   "execution_count": null,
   "metadata": {
    "id": "Yexu8ZUIb78V"
   },
   "outputs": [],
   "source": [
    "# write code to generate a crosstab for male defendants \n",
    "# and calculate the false positive rate and false negative rate for\n",
    "# male defendants in this code cell"
   ]
  },
  {
   "cell_type": "markdown",
   "metadata": {
    "id": "0Y3odoqE-g0y"
   },
   "source": [
    "**TODO:** How do the false positive and false negative rates vary by race? Calculate the false positive rate and false negative rate for White defendants:"
   ]
  },
  {
   "cell_type": "code",
   "execution_count": null,
   "metadata": {
    "id": "_0-offlbBQTy"
   },
   "outputs": [],
   "source": [
    "# write code to generate a crosstab for White defendants \n",
    "# and calculate the false positive rate and false negative rate for\n",
    "# White defendants in this code cell"
   ]
  },
  {
   "cell_type": "markdown",
   "metadata": {
    "id": "GU0ft0TSe_1m"
   },
   "source": [
    "**TODO:** Lastly, calculate the false positive rate and false negative rate for Black defendants:"
   ]
  },
  {
   "cell_type": "code",
   "execution_count": null,
   "metadata": {
    "id": "kasSRZjkcYET"
   },
   "outputs": [],
   "source": [
    "# write code to generate a crosstab for Black defendants \n",
    "# and calculate the false positive rate and false negative rate for\n",
    "# Black defendants in this code cell"
   ]
  },
  {
   "cell_type": "markdown",
   "metadata": {
    "id": "w6jHN6nWcP3X"
   },
   "source": [
    "**TODO:** Review and compare the false positive rates and false negative rates above. Consider how these rates relate to the concepts of fairness you have encountered in the lectures. "
   ]
  },
  {
   "cell_type": "markdown",
   "metadata": {},
   "source": [
    "## Part 2: Exploring fairness during model training\n",
    "\n",
    "We discussed a number of fairness metrics in the context of binary classification. In this part of the assignment, we will explore aspects of fairness in model predictions while training our model.\n",
    "\n",
    "This notebook has four stages in which we will: \n",
    "1. Compute the base rates on the original data\n",
    "2. Measure bias of the model trained earlier using fairness metrics (including statistical parity and equalized odds). \n",
    "4. Train a classifier to predict recidivism using the data without sensitive features, and measure bias of the updated classifier using several fairness metrics. \n",
    "5. (Extra credit) Use IBM's AIF360 toolkit to compute the fairness metrics."
   ]
  },
  {
   "cell_type": "markdown",
   "metadata": {},
   "source": [
    "### Sensitive attributes\n",
    "\n",
    "In the class, we learnt about sensitive attributes for computing model fairness. In this assignment, we will compute different fairness metrics in the following three scenarios:\n",
    "\n",
    "<ol>\n",
    "    <li> considering only \"age\" as the sensitive attribute </li>\n",
    "    <li> considering only \"sex\" as the sensitive attribute </li>\n",
    "    <li> considering only \"race\" as the sensitive attribute </li>\n",
    "</ol>"
   ]
  },
  {
   "cell_type": "markdown",
   "metadata": {},
   "source": [
    "### 2.2. Compute base rates on original data\n",
    "Before we consider model fairness, let us first compare the base rates for the privileged and unprivileged groups with that of the entire data. Base rate indicates the fraction of data (or a subset of the data) that has positive outcomes. Base rates indicate class imbalance in the dataset.\n",
    "\n",
    "In the following code block, compute the base rates for the entire dataset, and for the privileged and unprivileged groups. In our dataset, we need to consider the `is_recid` attribute for computing base rate. "
   ]
  },
  {
   "cell_type": "code",
   "execution_count": null,
   "metadata": {},
   "outputs": [],
   "source": [
    "# Write code to compute base rates with respect to \"age\" as the sensitive attribute\n",
    "# Note that you may have to discretize age into two categories -- old and young -- choose a threshold\n",
    "# based on our discussion in class or from your observation on different thresholds"
   ]
  },
  {
   "cell_type": "code",
   "execution_count": null,
   "metadata": {},
   "outputs": [],
   "source": [
    "# Write code to compute base rates with respect to \"sex\" as the sensitive attribute"
   ]
  },
  {
   "cell_type": "code",
   "execution_count": null,
   "metadata": {},
   "outputs": [],
   "source": [
    "# Write code to compute base rates with respect to \"race\" as the sensitive attribute"
   ]
  },
  {
   "cell_type": "markdown",
   "metadata": {},
   "source": [
    "### 2.3. Evaluate model fairness \n",
    "In this part of the assignment, you will write functions to compute statistical parity and equalized odds. Recall that both of these metrics use the model predictions $\\hat{Y}$ (computed as $y\\_pred$ above).\n",
    "\n",
    "Let $S=0$ indicate the unprivileged group and $S=1$ indicate the privileged group. FPR and FNR represent the false positive rate and false negative rate respectively. Then, we can compute:\n",
    "\n",
    "**Statistical parity** = $P(\\hat{Y} = 1 | S = 0) - P(\\hat{Y} = 1 | S = 1)$ \n",
    "\n",
    "**Equalized odds** $\\dfrac{(FPR_{S=0} - FPR_{S=1}) + (FNR_{S=0} - FNR_{S=1})}{2}$\n",
    "\n",
    "where $FPR = P(\\hat{Y}=1 | Y=0)$ and $FNR = P(\\hat{Y}=0 | Y=1)$\n"
   ]
  },
  {
   "cell_type": "code",
   "execution_count": null,
   "metadata": {},
   "outputs": [],
   "source": [
    "# Write function to compute statistical parity over model predictions with a given sensitive attribute\n",
    "\n",
    "# Write function to compute equalized odds with a given sensitive attribute"
   ]
  },
  {
   "cell_type": "code",
   "execution_count": null,
   "metadata": {},
   "outputs": [],
   "source": [
    "# Report statistical parity and equalized odds using \"race\" as the sensitive attribute\n",
    "\n",
    "# Report statistical parity and equalized odds using \"sex\" as the sensitive attribute\n",
    "\n",
    "# Report statistical parity and equalized odds using \"age\" as the sensitive attribute"
   ]
  },
  {
   "cell_type": "markdown",
   "metadata": {},
   "source": [
    "**TODO:** What can you say about the model being more or less biased than the data (with respect to base rates on the data)?"
   ]
  },
  {
   "cell_type": "markdown",
   "metadata": {},
   "source": [
    "### 2.4. Model training without using the sensitive feature\n",
    "\n",
    "We discussed in the class how removing a sensitive attribute is not enough to generate models that result in fair predictions. In this step, we will see if that is indeed true in action.\n",
    "\n",
    "#### 2.4.1. In the following, we will build models trained without the sensitive attribute (once each for the \"sex\", \"age\" and \"race\" attributes). "
   ]
  },
  {
   "cell_type": "code",
   "execution_count": null,
   "metadata": {},
   "outputs": [],
   "source": [
    "# Right-hand side (does not include sex)\n",
    "explanatory = \"priors_count + two_year_recid + Misdemeanor + \\\n",
    "age_cat_Greater_than_45 + age_cat_Less_than_25 + \\\n",
    "race_African_American + race_Asian + race_Hispanic + race_Native_American + \\\n",
    "race_Other\"\n",
    "\n",
    "# Left-hand side\n",
    "response = \"score_binary\"\n",
    "\n",
    "# Formula\n",
    "formula = response + \" ~ \" + explanatory\n",
    "print(formula)\n",
    "\n",
    "model_no_sex = sm.formula.glm(formula = formula, \n",
    "                       family = sm.families.Binomial(),\n",
    "                       data = df_logistic).fit()\n",
    "\n",
    "# Calculate the prediction probabilities on the updated model\n",
    "y_pred_no_sex = model_no_sex.predict()\n",
    "\n",
    "# Similarly, retrieve predictions for the models learnt without age and race"
   ]
  },
  {
   "cell_type": "markdown",
   "metadata": {},
   "source": [
    "#### 2.4.2. Evaluating updated model\n",
    "\n",
    "Now, let's evaluate the predictions obtained from the updated model using the functions that your wrote in Step 2.1. Although the sensitive attribute has not been used in training the model, the group memberships will be used to compute the fairness metrics."
   ]
  },
  {
   "cell_type": "code",
   "execution_count": null,
   "metadata": {},
   "outputs": [],
   "source": [
    "# Report statistical parity and equalized odds using \"race\" as the sensitive attribute\n",
    "\n",
    "# Report statistical parity and equalized odds using \"sex\" as the sensitive attribute\n",
    "\n",
    "# Report statistical parity and equalized odds using \"age\" as the sensitive attribute"
   ]
  },
  {
   "cell_type": "markdown",
   "metadata": {},
   "source": [
    "**TODO:** Compare the metrics obtained here with those obtained in Step 2.1. What can you say about whether or not using the sensitive attribute has an effect on bias in model predictions for this example?"
   ]
  },
  {
   "cell_type": "markdown",
   "metadata": {},
   "source": [
    "### 2.5. (**Extra Credit**) Step 5: Using AIF360 to compute fairness metrics\n",
    "\n",
    "In this step, we will use the \"aif360\" package to detect bias in the dataset (AIF360 is IBM's AI Fairness toolkit) to evaluate fairness of the learned model. This package requires the data to be in a certain format, which will be clear as we walk through the following."
   ]
  },
  {
   "cell_type": "code",
   "execution_count": null,
   "metadata": {},
   "outputs": [],
   "source": [
    "# You should need to run this package installation only once. After the first time, you can comment it out\n",
    "# !pip install aif360==0.2.2"
   ]
  },
  {
   "cell_type": "code",
   "execution_count": null,
   "metadata": {},
   "outputs": [],
   "source": [
    "from aif360.datasets import StandardDataset, CompasDataset\n",
    "from aif360.metrics import BinaryLabelDatasetMetric, ClassificationMetric\n",
    "# from aif360.algorithms.postprocessing import EqOddsPostprocessing\n",
    "\n",
    "from aif360.explainers import MetricTextExplainer, MetricJSONExplainer"
   ]
  },
  {
   "cell_type": "markdown",
   "metadata": {},
   "source": [
    "Let us use \"sex\" as the sensitive attribute and defined privileged and unprivileged values. We use the CompasDataset in aif360 to do our analysis."
   ]
  },
  {
   "cell_type": "code",
   "execution_count": null,
   "metadata": {},
   "outputs": [],
   "source": [
    "from aif360.algorithms.preprocessing.optim_preproc_helpers.data_preproc_functions\\\n",
    "        import load_preproc_data_adult, load_preproc_data_german, load_preproc_data_compas"
   ]
  },
  {
   "cell_type": "code",
   "execution_count": null,
   "metadata": {},
   "outputs": [],
   "source": [
    "privileged_groups = [{'sex': 1}]\n",
    "unprivileged_groups = [{'sex': 0}]\n",
    "dataset_orig = load_preproc_data_compas(['sex'])"
   ]
  },
  {
   "cell_type": "markdown",
   "metadata": {},
   "source": [
    "We will convert the dataset to a Pandas dataframe, extract the input features (X) and target variable (y)."
   ]
  },
  {
   "cell_type": "code",
   "execution_count": null,
   "metadata": {},
   "outputs": [],
   "source": [
    "dataset_orig_df = dataset_orig.convert_to_dataframe()[0]\n",
    "x_train = dataset_orig_df.drop(\"two_year_recid\", axis=1)\n",
    "y_train = dataset_orig_df.two_year_recid"
   ]
  },
  {
   "cell_type": "markdown",
   "metadata": {},
   "source": [
    "First, we will use our model to calculate predicted values for the data and attach them as a new column in the data frame. "
   ]
  },
  {
   "cell_type": "code",
   "execution_count": null,
   "metadata": {},
   "outputs": [],
   "source": [
    "# Copy the dataset\n",
    "preds_df = dataset_orig_df.copy()\n",
    "\n",
    "model = LogisticRegression(C=0.5, penalty=\"l1\", solver='liblinear')\n",
    "model.fit(x_train, y_train)\n",
    "\n",
    "# Calculate predicted values\n",
    "preds_df['two_year_recid'] = model.predict(x_train)"
   ]
  },
  {
   "cell_type": "markdown",
   "metadata": {},
   "source": [
    "Then we will create an object of the aif360 StandardDataset class. You can read more about this in the documentation:\n",
    "https://aif360.readthedocs.io/en/latest/modules/standard_datasets.html#aif360.datasets.StandardDataset"
   ]
  },
  {
   "cell_type": "code",
   "execution_count": null,
   "metadata": {},
   "outputs": [],
   "source": [
    "orig_aif360 = StandardDataset(dataset_orig_df, label_name='two_year_recid', protected_attribute_names=['sex'], \n",
    "                privileged_classes=[[1]], favorable_classes=[1])\n",
    "\n",
    "preds_aif360 = StandardDataset(preds_df, label_name='two_year_recid', protected_attribute_names=['sex'], \n",
    "                privileged_classes=[[1]], favorable_classes=[1])"
   ]
  },
  {
   "cell_type": "markdown",
   "metadata": {},
   "source": [
    "Let us calculate some fairness metrics on the training data using the `ClassificationMetric` function in aif360. "
   ]
  },
  {
   "cell_type": "code",
   "execution_count": null,
   "metadata": {},
   "outputs": [],
   "source": [
    "orig_vs_preds_metrics = ClassificationMetric(orig_aif360, preds_aif360,\n",
    "                                                   unprivileged_groups=unprivileged_groups,\n",
    "                                                   privileged_groups=privileged_groups)"
   ]
  },
  {
   "cell_type": "code",
   "execution_count": null,
   "metadata": {},
   "outputs": [],
   "source": [
    "# For example, we can compute statistical parity difference as below:\n",
    "print(\"Statistical parity difference: \", orig_vs_preds_metrics.statistical_parity_difference())"
   ]
  },
  {
   "cell_type": "markdown",
   "metadata": {},
   "source": [
    "**TODO:** Compare the value obtained above with those obtained in steps 2.3 and 2.4.2 above. You might observe a difference in the performance due to the way the dataset has been created within aif360 and due to the difference in the way the models have been implemented."
   ]
  },
  {
   "cell_type": "markdown",
   "metadata": {},
   "source": [
    "Feel free to explore some of the other fairness metrics that we discussed in class. You can find a list of fairness metrics currently supported by aif360 here: https://aif360.readthedocs.io/en/latest/modules/generated/aif360.metrics.ClassificationMetric.html."
   ]
  },
  {
   "cell_type": "markdown",
   "metadata": {
    "id": "06n4G0ShMTWY"
   },
   "source": [
    "# Submitting this Assignment Notebook\n",
    "\n",
    "Once complete, please submit your assignment notebook as an attachment under \"Assignments > Assignment 2\" on Brightspace. You can download a copy of your notebook using ```File > Download .ipynb```. Please ensure you submit the `.ipynb` file (and not a `.py` file)."
   ]
  }
 ],
 "metadata": {
  "colab": {
   "collapsed_sections": [
    "355LmyCRd_sZ",
    "JI0slRqXFyXZ",
    "06n4G0ShMTWY"
   ],
   "name": "lab_1",
   "provenance": []
  },
  "kernelspec": {
   "display_name": "base",
   "language": "python",
   "name": "python3"
  },
  "language_info": {
   "codemirror_mode": {
    "name": "ipython",
    "version": 3
   },
   "file_extension": ".py",
   "mimetype": "text/x-python",
   "name": "python",
   "nbconvert_exporter": "python",
   "pygments_lexer": "ipython3",
   "version": "3.12.7"
  }
 },
 "nbformat": 4,
 "nbformat_minor": 1
}
