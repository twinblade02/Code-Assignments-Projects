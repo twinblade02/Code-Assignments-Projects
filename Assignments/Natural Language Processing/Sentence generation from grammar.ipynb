{
 "cells": [
  {
   "cell_type": "markdown",
   "metadata": {},
   "source": [
    "### Problem:\n",
    "Create a grammar with at least 30 productions and write a program that generates sentences from that grammar using the NLTK generate module. Display how many sentences can be generated with a depth of 4, 5, 6 7 and 8. Allows a user to select three words from the grammar and a sentence and then displays a maximum of 10 sentences containing those words."
   ]
  },
  {
   "cell_type": "code",
   "execution_count": 3,
   "metadata": {},
   "outputs": [
    {
     "name": "stdout",
     "output_type": "stream",
     "text": [
      "Grammar with 36 productions (start state = S)\n",
      "    S -> NP VP\n",
      "    NP -> Det N\n",
      "    NP -> Det Nom\n",
      "    NP -> PropN\n",
      "    Nom -> Adj Nom\n",
      "    Nom -> N\n",
      "    PP -> P NP\n",
      "    VP -> 'slept'\n",
      "    VP -> 'saw'\n",
      "    VP -> NP\n",
      "    VP -> 'walked'\n",
      "    VP -> PP\n",
      "    VP -> V Adj\n",
      "    VP -> V NP\n",
      "    VP -> V S\n",
      "    VP -> V NP PP\n",
      "    PropN -> 'Buster'\n",
      "    PropN -> 'Nancy'\n",
      "    PropN -> 'John'\n",
      "    Det -> 'the'\n",
      "    Det -> 'a'\n",
      "    N -> 'man'\n",
      "    N -> 'park'\n",
      "    N -> 'dog'\n",
      "    N -> 'bear'\n",
      "    Adj -> 'angry'\n",
      "    Adj -> 'short'\n",
      "    Adj -> 'tall'\n",
      "    Adj -> 'scared'\n",
      "    V -> 'chased'\n",
      "    V -> 'saw'\n",
      "    V -> 'said'\n",
      "    V -> 'was'\n",
      "    V -> 'thought'\n",
      "    P -> 'in'\n",
      "    P -> 'on'\n"
     ]
    }
   ],
   "source": [
    "import nltk\n",
    "from nltk.parse.generate import generate\n",
    "from nltk import CFG\n",
    "grammar = CFG.fromstring(\"\"\"\n",
    "S -> NP VP\n",
    "NP -> Det N\n",
    "NP -> Det Nom | PropN\n",
    "Nom -> Adj Nom | N\n",
    "PP -> P NP\n",
    "VP -> 'slept'\n",
    "VP -> 'saw' | NP\n",
    "VP -> 'walked' | PP\n",
    "VP -> V Adj | V NP | V S | V NP PP\n",
    "PropN -> 'Buster' | 'Nancy' | 'John'\n",
    "Det -> 'the' | 'a'\n",
    "N -> 'man' | 'park' | 'dog' | 'bear'\n",
    "Adj -> 'angry' | 'short' | 'tall' | 'scared'\n",
    "V -> 'chased' | 'saw' | 'said' | 'was' | 'thought'\n",
    "P -> 'in' | 'on'\n",
    "\"\"\")\n",
    "print(grammar)"
   ]
  },
  {
   "cell_type": "markdown",
   "metadata": {},
   "source": [
    "## Grading\n",
    "`VP -> V Adj` is not valid.  Adjectives modify nouns.  ` VP -> NP` makes no sense.  A verb phrase could not generate a noun phrase."
   ]
  },
  {
   "cell_type": "code",
   "execution_count": 2,
   "metadata": {},
   "outputs": [
    {
     "name": "stdout",
     "output_type": "stream",
     "text": [
      "the man slept\n",
      "the man saw\n",
      "the man walked\n",
      "the man chased angry\n",
      "the man chased short\n",
      "the man chased tall\n",
      "the man chased scared\n",
      "the man saw angry\n",
      "the man saw short\n",
      "the man saw tall\n"
     ]
    },
    {
     "data": {
      "text/plain": [
       "253"
      ]
     },
     "execution_count": 2,
     "metadata": {},
     "output_type": "execute_result"
    }
   ],
   "source": [
    "# depth = 4\n",
    "for sentence in generate(grammar,depth=4, n=10):\n",
    "    print(' '.join(sentence))\n",
    "len(list(generate(grammar, depth=4)))"
   ]
  },
  {
   "cell_type": "code",
   "execution_count": 3,
   "metadata": {},
   "outputs": [
    {
     "data": {
      "text/plain": [
       "1691"
      ]
     },
     "execution_count": 3,
     "metadata": {},
     "output_type": "execute_result"
    }
   ],
   "source": [
    "# depth = 5\n",
    "len(list(generate(grammar, depth=5)))"
   ]
  },
  {
   "cell_type": "code",
   "execution_count": 4,
   "metadata": {},
   "outputs": [
    {
     "data": {
      "text/plain": [
       "179214"
      ]
     },
     "execution_count": 4,
     "metadata": {},
     "output_type": "execute_result"
    }
   ],
   "source": [
    "# depth = 6\n",
    "len(list(generate(grammar, depth=6)))"
   ]
  },
  {
   "cell_type": "code",
   "execution_count": 5,
   "metadata": {},
   "outputs": [
    {
     "data": {
      "text/plain": [
       "3313648"
      ]
     },
     "execution_count": 5,
     "metadata": {},
     "output_type": "execute_result"
    }
   ],
   "source": [
    "# depth = 7\n",
    "len(list(generate(grammar, depth=7)))"
   ]
  },
  {
   "cell_type": "code",
   "execution_count": null,
   "metadata": {},
   "outputs": [],
   "source": [
    "# depth = 8\n",
    "#len(list(generate(grammar, depth=8)))\n",
    "# This will throw a memory error - depth setting is too high and I don't want my PC to blow up"
   ]
  },
  {
   "cell_type": "code",
   "execution_count": 15,
   "metadata": {},
   "outputs": [],
   "source": [
    "def get_sent(word1, word2, word3):\n",
    "    result = []\n",
    "    count = 0\n",
    "    for sent in list(generate(grammar, depth = 6)):\n",
    "        if word1 in sent and word2 in sent and word3 in sent:\n",
    "            result.append(' '.join(sent))\n",
    "            count += 1\n",
    "            if count == 10:\n",
    "                break\n",
    "    return result"
   ]
  },
  {
   "cell_type": "code",
   "execution_count": 17,
   "metadata": {},
   "outputs": [
    {
     "data": {
      "text/plain": [
       "['the man chased Buster slept',\n",
       " 'the man saw Buster slept',\n",
       " 'the man said Buster slept',\n",
       " 'the man was Buster slept',\n",
       " 'the man thought Buster slept',\n",
       " 'the park chased Buster slept',\n",
       " 'the park saw Buster slept',\n",
       " 'the park said Buster slept',\n",
       " 'the park was Buster slept',\n",
       " 'the park thought Buster slept']"
      ]
     },
     "execution_count": 17,
     "metadata": {},
     "output_type": "execute_result"
    }
   ],
   "source": [
    "get_sent('slept','Buster','the') "
   ]
  },
  {
   "cell_type": "code",
   "execution_count": null,
   "metadata": {},
   "outputs": [],
   "source": []
  }
 ],
 "metadata": {
  "kernelspec": {
   "display_name": "Python 3",
   "language": "python",
   "name": "python3"
  },
  "language_info": {
   "codemirror_mode": {
    "name": "ipython",
    "version": 3
   },
   "file_extension": ".py",
   "mimetype": "text/x-python",
   "name": "python",
   "nbconvert_exporter": "python",
   "pygments_lexer": "ipython3",
   "version": "3.7.6"
  }
 },
 "nbformat": 4,
 "nbformat_minor": 4
}
