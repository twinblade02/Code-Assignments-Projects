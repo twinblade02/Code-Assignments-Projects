{
 "cells": [
  {
   "cell_type": "markdown",
   "metadata": {},
   "source": [
    "#### Names of works of art (books, movies, video games, etc.) are quite different from the kinds of named entities we’ve discussed in the lecture. Collect a list of names of works of art from a particular category from a Web-based source (e.g., gutenberg.org, amazon.com, imdb.com, etc.). Analyze your list and give examples of ways that the names in it are likely to be problematic for the techniques described in this week's material.\n",
    "List source: IGN, Steam Library"
   ]
  },
  {
   "cell_type": "markdown",
   "metadata": {},
   "source": [
    "Games:\n",
    "* DOOM Eternal\n",
    "* DOOM 2016\n",
    "* Ace Combat 7: Skies Unknown\n",
    "* Ace Combat 6: Fires of Liberation\n",
    "* Ace Combat 5: The Unsung War\n",
    "* Ace Combat 4: Shattered Skies\n",
    "* Ace Combat X: Skies of Deception\n",
    "* Ace Combat Zero: The Belkan War\n",
    "* Battlefield 3\n",
    "* Battlefield 4\n",
    "* Wargame: Red Dragon\n",
    "* Command and Conquer: Red Alert 3\n",
    "* Command and Conquer: Red Alert 2\n",
    "* Assetto Corsa\n",
    "* Gran Turismo\n",
    "* DCS World\n",
    "* Devil May Cry 5\n",
    "* Devil May Cry 4\n",
    "* Devil May Cry 3\n",
    "* Devil May Cry \n",
    "* Civilization 6\n",
    "* DOOM 64\n",
    "* Borderlands 3\n",
    "* Borderlands 2\n",
    "* Borderlands: The Pre-Sequel\n",
    "* Counter Strike: Global Offensive\n",
    "* Counter Strike: Condition Zero\n",
    "* Dota 2\n",
    "* World of Warcraft \n",
    "* Street Fighter IV\n",
    "* Ultimate Marvel vs. Capcom 3\n",
    "* Mortal Kombat X\n",
    "* The Witcher 3: Wild Hunt \n",
    "* The Witcher 2\n",
    "* The Witcher\n",
    "* Skyrim \n",
    "* Batman: Arkham Knight\n",
    "* Batman: Arkham City\n",
    "* Batman: Arkham Origins\n",
    "* Batman: Arkham Asylum\n",
    "* Metal Gear Solid V: The Phantom Pain\n",
    "* Wolfenstein 3D\n",
    "* Wolfenstein: The New Order\n",
    "* Wolfenstein II: The New Colossus\n",
    "* Wolfenstein: The Old Blood\n",
    "* Warframe\n",
    "* IL-2 Sturmovik: Battle of Stalingrad\n",
    "* Mass Effect\n",
    "* Mass Effect 2\n",
    "* Mass Effect 3 \n",
    "* Mass Effect: Andromeda"
   ]
  },
  {
   "cell_type": "markdown",
   "metadata": {},
   "source": [
    "The first thing I see here that may be a problem with the names of the titles mentioned in the list. Some of the words, like \"Witcher\", \"Dota\" and \"Kombat\" either do not mean anything in the English language or are spelt incorrectly on purpose. The second is the use of roman numerals in the names of the titles, which also may be an issue when attempting to establish a classifer. Though, with most titles being related to each other, by name - that is; making a relationship set could be done. \n",
    "For named entities, we may have a problem with the tags since they are definite noun phrases and our list contains titles that mostly do not have these present. What complicates things further is also the ambiguous nature of the characters present in the list, such as the use of X in the titles \"Ace Combat X\" and \"Mortal Kombat X\" - where the former is used as an alphabetical character, and the latter is actually a Roman numeral. The presence of titles in a foreign langauge (Assetto Corsa and Gran Turismo) also causes further complications for all IE related tasks. "
   ]
  },
  {
   "cell_type": "markdown",
   "metadata": {},
   "source": [
    "#### A useful functionality in email and calendar applications is the ability to associate temporal expressions connected with events in email (doctor’s appointments, meeting planning, party invitations, etc.) with specific calendar entries. Review your email account for messages containing temporal expressions related to event planning. Now review news articles on the web. Provide examples of both types and discuss how the expressions in your email compare to the kinds of expressions commonly found in news text?"
   ]
  },
  {
   "cell_type": "markdown",
   "metadata": {},
   "source": [
    "Temporal expressions have very different expressions based on region. My emails conatin temporal expressions like dates and time stamps - usually in the DMY formatm MDY format or even as alphanumeric strings (August 7th 1993). Time is depicted in 24 hour format for automated emails and 12 hour format for those that are handwritten. News articles on the web are different based on where they originate from - just like those found in emails. If the article originates outside of the US, it would use temporal formats like DMY and YDM (for Japan). Time formats usually are consistent."
   ]
  },
  {
   "cell_type": "code",
   "execution_count": null,
   "metadata": {},
   "outputs": [],
   "source": []
  }
 ],
 "metadata": {
  "kernelspec": {
   "display_name": "Python 3",
   "language": "python",
   "name": "python3"
  },
  "language_info": {
   "codemirror_mode": {
    "name": "ipython",
    "version": 3
   },
   "file_extension": ".py",
   "mimetype": "text/x-python",
   "name": "python",
   "nbconvert_exporter": "python",
   "pygments_lexer": "ipython3",
   "version": "3.7.6"
  }
 },
 "nbformat": 4,
 "nbformat_minor": 4
}
