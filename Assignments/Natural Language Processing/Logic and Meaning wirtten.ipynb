{
 "cells": [
  {
   "cell_type": "markdown",
   "metadata": {},
   "source": [
    "#### Exercise 1\n",
    "Translate the following sentences into propositional logic and verify that they can be processed with Expression.fromstring(). Provide a key which shows how the propositional variables in your translation correspond to expressions of English.\n",
    "\n",
    "* Beyonce sings and dances.\n",
    "* You will pass this class if your project is good.\n",
    "* Rover didn't run or bark.\n",
    "* It isn't sunny."
   ]
  },
  {
   "cell_type": "code",
   "execution_count": 6,
   "metadata": {},
   "outputs": [
    {
     "name": "stdout",
     "output_type": "stream",
     "text": [
      "showing info https://raw.githubusercontent.com/nltk/nltk_data/gh-pages/index.xml\n",
      "negation       \t-\n",
      "conjunction    \t&\n",
      "disjunction    \t|\n",
      "implication    \t->\n",
      "equivalence    \t<->\n"
     ]
    }
   ],
   "source": [
    "import nltk\n",
    "nltk.download()\n",
    "read_expr = nltk.sem.Expression.fromstring\n",
    "nltk.boolean_ops()"
   ]
  },
  {
   "cell_type": "markdown",
   "metadata": {},
   "source": [
    "* For the sentence 'Beyonce can sing and dance' - the propositional logic would be indicated as: P = 'Beyonce can sing' and Q = 'Beyonce can dance'; so P & Q\n",
    "* 'You will pass this class if your project is good': P = 'if your project is good', Q = 'you will; pass this class'; so P -> Q\n",
    "* 'Rover didn't run or bark': P = 'Rover didn't run', Q = 'Rover didn't bark'; so P|Q\n",
    "* 'It isn't sunny': P = 'It is sunny', Q = 'It is not sunny'; so -P -> Q\n"
   ]
  },
  {
   "cell_type": "markdown",
   "metadata": {},
   "source": [
    "#### Exercise 2\n",
    "Translate the following sentences into predicate-argument formula of first order logic.\n",
    "\n",
    "* Emily likes vegetables and Sophie hates vegetables.\n",
    "* Summer is warmer than winter.\n",
    "* Spring is a rainy season.\n",
    "* Emily slept but Sophie didn't"
   ]
  },
  {
   "cell_type": "markdown",
   "metadata": {},
   "source": [
    "* 'Emily likes vegetables and Sophie hates vegetables': likesvegetables(emily) & hatesvegetables(sophie)\n",
    "* 'Summer is warmer than winter': - warmer(winter) -> warmer(summer)\n",
    "* 'Spring is a rainy season': season(spring) <-> season(rainy)\n",
    "* 'Emily slept but Sophie didn't': slept(emily) -> -slept(sophie)"
   ]
  },
  {
   "cell_type": "markdown",
   "metadata": {},
   "source": [
    "#### Exercise 3\n",
    "Translate the following sentences into quantified formulas of first order logic.\n",
    "\n",
    "* A dog barked.\n",
    "* Everybody studied.\n",
    "* Nobody failed the course.\n",
    "* Mary was tired, so she slept."
   ]
  },
  {
   "cell_type": "markdown",
   "metadata": {},
   "source": [
    "* 'a dog barked': ∃x(dog(x) -> barked(x))\n",
    "* 'everybody studied': ∀x(studied(x))\n",
    "* 'nobody failed the course': -(∃x (person(x) -> failed(x)))\n",
    "* 'mary was tired so she slept': ∃x(tired(x) -> slept(x))"
   ]
  },
  {
   "cell_type": "code",
   "execution_count": null,
   "metadata": {},
   "outputs": [],
   "source": [
    "# Note: still unclear about syntax and validation, since code in the book doesn't seem to run "
   ]
  }
 ],
 "metadata": {
  "kernelspec": {
   "display_name": "Python 3",
   "language": "python",
   "name": "python3"
  },
  "language_info": {
   "codemirror_mode": {
    "name": "ipython",
    "version": 3
   },
   "file_extension": ".py",
   "mimetype": "text/x-python",
   "name": "python",
   "nbconvert_exporter": "python",
   "pygments_lexer": "ipython3",
   "version": "3.7.7"
  }
 },
 "nbformat": 4,
 "nbformat_minor": 4
}
