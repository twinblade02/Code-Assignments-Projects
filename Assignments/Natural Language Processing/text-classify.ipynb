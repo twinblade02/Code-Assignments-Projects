{
 "cells": [
  {
   "cell_type": "markdown",
   "metadata": {},
   "source": [
    "# Chapter 6 Learning to Classify Text"
   ]
  },
  {
   "cell_type": "markdown",
   "metadata": {},
   "source": [
    "Read through the chapter following along with the examples.  Then complete the programming problems below.  Add additional cells as necessary."
   ]
  },
  {
   "cell_type": "markdown",
   "metadata": {},
   "source": [
    "## Problem 1\n",
    "\n",
    "Using any of the three classifiers described in this chapter, and any features you can think of, build the best name gender classifier you can. Begin by splitting the Names Corpus into three subsets: 500 words for the test set, 500 words for the dev-test set, and the remaining 6900 words for the training set. Then, starting with the example name gender classifier, make incremental improvements. Use the dev-test set to check your progress. Once you are satisfied with your classifier, check its final performance on the test set. How does the performance on the test set compare to the performance on the dev-test set? Is this what you'd expect? (5 pts.)\n",
    "\n"
   ]
  },
  {
   "cell_type": "code",
   "execution_count": 1,
   "metadata": {},
   "outputs": [],
   "source": [
    "from IPython.core.interactiveshell import InteractiveShell\n",
    "InteractiveShell.ast_node_interactivity = \"all\""
   ]
  },
  {
   "cell_type": "code",
   "execution_count": 2,
   "metadata": {},
   "outputs": [
    {
     "name": "stdout",
     "output_type": "stream",
     "text": [
      "0.83\n"
     ]
    }
   ],
   "source": [
    "import nltk\n",
    "from nltk.corpus import names\n",
    "import random\n",
    "names = ([(name, 'male') for name in names.words('male.txt')] + [(name, 'female') for name in names.words('female.txt')])\n",
    "random.shuffle(names)\n",
    "test, devtest, training = names[:500], names[500:1000], names[1000:]\n",
    "\n",
    "def gender_features1(name):\n",
    "    features = {}\n",
    "    features[\"first_letter\"] = name[0].lower()\n",
    "    features[\"last_letter\"] = name[-1].lower()\n",
    "    features[\"suffix2\"] = name[-2:].lower()\n",
    "    features[\"suffix3\"] = name[-3:].lower()\n",
    "    features[\"suffix1\"] = name[-1:].lower()\n",
    "    features[\"prefix\"] = name[:3].lower()\n",
    "    features[\"vowels\"] = len([letter for letter in name if letter in 'aeiou'])\n",
    "    #for letter in 'abcdefghijklmnopqrstuvwxyz':\n",
    "        #features[\"count({})\".format(letter)] = name.lower().count(letter)\n",
    "        #features[\"has({})\".format(letter)] = (letter in name.lower())\n",
    "    return features\n",
    "\n",
    "train_set = [(gender_features1(n), g) for (n,g) in training]\n",
    "devtest_set = [(gender_features1(n), g) for (n,g) in devtest]\n",
    "classifier = nltk.NaiveBayesClassifier.train(train_set)\n",
    "print(nltk.classify.accuracy(classifier, devtest_set))"
   ]
  },
  {
   "cell_type": "code",
   "execution_count": 3,
   "metadata": {},
   "outputs": [
    {
     "name": "stdout",
     "output_type": "stream",
     "text": [
      "no. of errors:  85\n",
      "correct=female   roll=male     name=Ajay                          \n",
      "correct=female   roll=male     name=Anne-Mar                      \n",
      "correct=female   roll=male     name=Barb                          \n",
      "correct=female   roll=male     name=Bren                          \n",
      "correct=female   roll=male     name=Brigid                        \n",
      "correct=female   roll=male     name=Buffy                         \n",
      "correct=female   roll=male     name=Cal                           \n",
      "correct=female   roll=male     name=Carolan                       \n",
      "correct=female   roll=male     name=Cody                          \n",
      "correct=female   roll=male     name=Dagmar                        \n",
      "correct=female   roll=male     name=Dion                          \n",
      "correct=female   roll=male     name=Doloritas                     \n",
      "correct=female   roll=male     name=Drew                          \n",
      "correct=female   roll=male     name=Fey                           \n",
      "correct=female   roll=male     name=Gael                          \n",
      "correct=female   roll=male     name=Gladis                        \n",
      "correct=female   roll=male     name=Hedy                          \n",
      "correct=female   roll=male     name=Hildagard                     \n",
      "correct=female   roll=male     name=Holley                        \n",
      "correct=female   roll=male     name=Ike                           \n",
      "correct=female   roll=male     name=Inez                          \n",
      "correct=female   roll=male     name=Ingaberg                      \n",
      "correct=female   roll=male     name=Ingrid                        \n",
      "correct=female   roll=male     name=Lian                          \n",
      "correct=female   roll=male     name=Lorrin                        \n",
      "correct=female   roll=male     name=Lucky                         \n",
      "correct=female   roll=male     name=Lulu                          \n",
      "correct=female   roll=male     name=Lynnett                       \n",
      "correct=female   roll=male     name=Maegan                        \n",
      "correct=female   roll=male     name=Margery                       \n",
      "correct=female   roll=male     name=Meg                           \n",
      "correct=female   roll=male     name=Muffin                        \n",
      "correct=female   roll=male     name=Nike                          \n",
      "correct=female   roll=male     name=Norry                         \n",
      "correct=female   roll=male     name=Perl                          \n",
      "correct=female   roll=male     name=Pet                           \n",
      "correct=female   roll=male     name=Philly                        \n",
      "correct=female   roll=male     name=Pru                           \n",
      "correct=female   roll=male     name=Rahel                         \n",
      "correct=female   roll=male     name=Row                           \n",
      "correct=female   roll=male     name=Roz                           \n",
      "correct=female   roll=male     name=Ryann                         \n",
      "correct=female   roll=male     name=Sharl                         \n",
      "correct=female   roll=male     name=Sharyl                        \n",
      "correct=female   roll=male     name=Shay                          \n",
      "correct=female   roll=male     name=Stacey                        \n",
      "correct=female   roll=male     name=Storm                         \n",
      "correct=female   roll=male     name=Sydney                        \n",
      "correct=female   roll=male     name=Teddy                         \n",
      "correct=female   roll=male     name=Tierney                       \n",
      "correct=female   roll=male     name=Vin                           \n",
      "correct=female   roll=male     name=Whitney                       \n",
      "correct=male     roll=female   name=Addie                         \n",
      "correct=male     roll=female   name=Alaa                          \n",
      "correct=male     roll=female   name=Aube                          \n",
      "correct=male     roll=female   name=Benji                         \n",
      "correct=male     roll=female   name=Bryn                          \n",
      "correct=male     roll=female   name=Carmine                       \n",
      "correct=male     roll=female   name=Chane                         \n",
      "correct=male     roll=female   name=Cole                          \n",
      "correct=male     roll=female   name=Corby                         \n",
      "correct=male     roll=female   name=Dante                         \n",
      "correct=male     roll=female   name=Davie                         \n",
      "correct=male     roll=female   name=Duane                         \n",
      "correct=male     roll=female   name=Dwaine                        \n",
      "correct=male     roll=female   name=Evelyn                        \n",
      "correct=male     roll=female   name=Fidel                         \n",
      "correct=male     roll=female   name=Fonsie                        \n",
      "correct=male     roll=female   name=Jean-Christophe               \n",
      "correct=male     roll=female   name=Joey                          \n",
      "correct=male     roll=female   name=Johnnie                       \n",
      "correct=male     roll=female   name=Kory                          \n",
      "correct=male     roll=female   name=Laurance                      \n",
      "correct=male     roll=female   name=Luigi                         \n",
      "correct=male     roll=female   name=Martyn                        \n",
      "correct=male     roll=female   name=Natale                        \n",
      "correct=male     roll=female   name=Nathanael                     \n",
      "correct=male     roll=female   name=Obie                          \n",
      "correct=male     roll=female   name=Ossie                         \n",
      "correct=male     roll=female   name=Ozzie                         \n",
      "correct=male     roll=female   name=Roscoe                        \n",
      "correct=male     roll=female   name=Shea                          \n",
      "correct=male     roll=female   name=Stearne                       \n",
      "correct=male     roll=female   name=Tabbie                        \n",
      "correct=male     roll=female   name=Timothee                      \n"
     ]
    }
   ],
   "source": [
    "def error_analysis(gender_features):\n",
    "    errors = []\n",
    "    for (name, tag) in devtest:\n",
    "        roll = classifier.classify(gender_features(name))\n",
    "        if roll != tag:\n",
    "            errors.append((tag, roll, name))\n",
    "    print('no. of errors: ', len(errors))       \n",
    "        \n",
    "    for (tag, roll, name) in sorted(errors):\n",
    "        print('correct={:8} roll={:<8s} name={:30}'.format(tag, roll, name))        \n",
    "        \n",
    "error_analysis(gender_features1)"
   ]
  },
  {
   "cell_type": "code",
   "execution_count": 4,
   "metadata": {},
   "outputs": [
    {
     "name": "stdout",
     "output_type": "stream",
     "text": [
      "0.828\n"
     ]
    }
   ],
   "source": [
    "# Performance on test set\n",
    "test_set = [(gender_features1(n), g) for (n,g) in test]\n",
    "print(nltk.classify.accuracy(classifier, test_set))"
   ]
  },
  {
   "cell_type": "markdown",
   "metadata": {},
   "source": [
    "#### Analysis: \n",
    "Performance on the test set seems to more or less mirror the results of the devtest set. The accuracy and errors appear to vary in the order of which the features are placed. As an additional observation - the more the features function is run, the higher the accuracy becomes - this is likely because our classifier is actually learning. Classifier ran slightly worse on the test set than on the devtest set. \n",
    "Note: Commented code causes overfitting."
   ]
  },
  {
   "cell_type": "markdown",
   "metadata": {},
   "source": [
    "## Problem 2\n",
    "\n",
    "Using the movie review document classifier discussed in this chapter, generate a list of the 30 features that the classifier finds to be most informative. Can you explain why these particular features are informative? Do you find any of them surprising? (5 pts.)"
   ]
  },
  {
   "cell_type": "code",
   "execution_count": 8,
   "metadata": {},
   "outputs": [
    {
     "name": "stdout",
     "output_type": "stream",
     "text": [
      "0.84\n",
      "Most Informative Features\n",
      " contains(unimaginative) = True              neg : pos    =      7.5 : 1.0\n",
      "    contains(schumacher) = True              neg : pos    =      7.2 : 1.0\n",
      "        contains(suvari) = True              neg : pos    =      6.9 : 1.0\n",
      "          contains(mena) = True              neg : pos    =      6.9 : 1.0\n",
      "        contains(shoddy) = True              neg : pos    =      6.9 : 1.0\n",
      "        contains(sexist) = True              neg : pos    =      6.9 : 1.0\n",
      "     contains(atrocious) = True              neg : pos    =      6.5 : 1.0\n",
      "        contains(turkey) = True              neg : pos    =      6.4 : 1.0\n",
      "       contains(unravel) = True              pos : neg    =      5.8 : 1.0\n",
      "       contains(singers) = True              pos : neg    =      5.8 : 1.0\n",
      "        contains(poorly) = True              neg : pos    =      5.7 : 1.0\n",
      "           contains(ugh) = True              neg : pos    =      5.7 : 1.0\n",
      "        contains(justin) = True              neg : pos    =      5.7 : 1.0\n",
      "  contains(surveillance) = True              neg : pos    =      5.5 : 1.0\n",
      "        contains(canyon) = True              neg : pos    =      5.5 : 1.0\n",
      "        contains(wasted) = True              neg : pos    =      5.2 : 1.0\n",
      "         contains(awful) = True              neg : pos    =      5.2 : 1.0\n",
      "          contains(oops) = True              neg : pos    =      4.9 : 1.0\n",
      "        contains(welles) = True              neg : pos    =      4.9 : 1.0\n",
      "    contains(ridiculous) = True              neg : pos    =      4.9 : 1.0\n",
      "         contains(waste) = True              neg : pos    =      4.8 : 1.0\n",
      "       contains(miscast) = True              neg : pos    =      4.7 : 1.0\n",
      "       contains(seymour) = True              pos : neg    =      4.4 : 1.0\n",
      "      contains(explores) = True              pos : neg    =      4.4 : 1.0\n",
      "         contains(bland) = True              neg : pos    =      4.4 : 1.0\n",
      "     contains(stretched) = True              neg : pos    =      4.3 : 1.0\n",
      "       contains(bronson) = True              neg : pos    =      4.2 : 1.0\n",
      "     contains(entendres) = True              neg : pos    =      4.2 : 1.0\n",
      "  contains(unimpressive) = True              neg : pos    =      4.2 : 1.0\n",
      "       contains(savages) = True              neg : pos    =      4.2 : 1.0\n"
     ]
    }
   ],
   "source": [
    "from nltk.corpus import movie_reviews\n",
    "documents = [(list(movie_reviews.words(fileid)), category) for category in movie_reviews.categories()\n",
    "            for fileid in movie_reviews.fileids(category)]\n",
    "random.shuffle(documents)\n",
    "\n",
    "all_words = nltk.FreqDist(w.lower() for w in movie_reviews.words())\n",
    "word_features = list(all_words)[:2000]\n",
    "def document_features(document):\n",
    "    document_words = set(document)\n",
    "    features = {}\n",
    "    for word in word_features:\n",
    "        features['contains({})'.format(word)] = (word in document_words)\n",
    "    return features\n",
    "\n",
    "featuresets = [(document_features(d), c) for (d,c) in documents]\n",
    "train_set, test_set = featuresets[100:], featuresets[:100]\n",
    "classifier = nltk.NaiveBayesClassifier.train(train_set)\n",
    "print(nltk.classify.accuracy(classifier, test_set))\n",
    "classifier.show_most_informative_features(30)"
   ]
  },
  {
   "cell_type": "markdown",
   "metadata": {},
   "source": [
    "#### Analysis:\n",
    "Most feature rules appear to have some logic to them, since \"unimaginative\" would be intuitively assigned as a negative word - the same would go for \"ugh\", \"sexist\", \"shoddy\", \"groan\", \"waste\", and \"uninspired\". What is suprising is how many names are associated negatively: \"schumacher\", \"justin\" and \"bronson\". \"Toll\" is positive but it the sense of the review is ambiguous. \n",
    "Users tend to use more pronounced vocabulary when positive emotions are evoked, such as \"explores\" and \"kudos\". \"Surveillance\" is associated negatively, given its applied use in the real world, so that would also make sense. "
   ]
  },
  {
   "cell_type": "markdown",
   "metadata": {},
   "source": [
    "## Problem 3\n",
    "\n",
    "Word features can be very useful for performing document classification, since the words that appear in a document give a strong indication about what its semantic content is. However, many words occur very infrequently, and some of the most informative words in a document may never have occurred in our training data. One solution is to make use of a lexicon, which describes how different words relate to one another. Using the WordNet lexicon, augment the movie review document classifier presented in this chapter to use features that generalize the words that appear in a document, making it more likely that they will match words found in the training data. (7 pts.)"
   ]
  },
  {
   "cell_type": "code",
   "execution_count": 1,
   "metadata": {},
   "outputs": [],
   "source": [
    "import nltk\n",
    "import random\n",
    "from nltk.corpus import movie_reviews\n",
    "from nltk.corpus import wordnet as wn\n",
    "from nltk.classify import apply_features\n",
    "documents = [(list(movie_reviews.words(fileid)), category) for category in movie_reviews.categories()\n",
    "            for fileid in movie_reviews.fileids(category)]\n",
    "random.shuffle(documents)"
   ]
  },
  {
   "cell_type": "code",
   "execution_count": 2,
   "metadata": {},
   "outputs": [],
   "source": [
    "def synsets(words):\n",
    "    syns = set()\n",
    "    for w in words:\n",
    "        syns.update(str(s) for s in wn.synsets(w))\n",
    "    return syns"
   ]
  },
  {
   "cell_type": "code",
   "execution_count": 3,
   "metadata": {},
   "outputs": [],
   "source": [
    "all_words = nltk.FreqDist(w.lower() for w in movie_reviews.words())\n",
    "word_features = list(all_words)[:2000]\n",
    "synset_features = synsets(word_features)\n",
    "\n",
    "def document_features2(document):\n",
    "    document_words = set(document)\n",
    "    document_synsets = synsets(document_words)\n",
    "    for word in document_words:\n",
    "        document_synsets.update(str(s) for s in wn.synsets(word))\n",
    "    features = {}\n",
    "    for synset in synset_features:\n",
    "        features[synset] = (synset in document_synsets)\n",
    "    return features"
   ]
  },
  {
   "cell_type": "code",
   "execution_count": 5,
   "metadata": {},
   "outputs": [
    {
     "name": "stdout",
     "output_type": "stream",
     "text": [
      "0.72\n",
      "Most Informative Features\n",
      " Synset('plodding.n.02') = True              neg : pos    =     13.8 : 1.0\n",
      "Synset('unimaginative.s.02') = True              neg : pos    =      7.7 : 1.0\n",
      "Synset('jerry-built.s.01') = True              neg : pos    =      7.1 : 1.0\n",
      "    Synset('vomit.n.01') = True              neg : pos    =      7.1 : 1.0\n",
      "   Synset('shoddy.n.01') = True              neg : pos    =      6.4 : 1.0\n",
      "Synset('disorderly.s.02') = True              neg : pos    =      6.4 : 1.0\n",
      "Synset('squandered.s.01') = True              neg : pos    =      5.8 : 1.0\n",
      "Synset('surveillance.n.01') = True              neg : pos    =      5.7 : 1.0\n",
      "Synset('underbrush.n.01') = True              neg : pos    =      5.7 : 1.0\n",
      "   Synset('turkey.n.02') = True              neg : pos    =      5.4 : 1.0\n",
      "   Synset('turkey.n.01') = True              neg : pos    =      5.4 : 1.0\n",
      "   Synset('turkey.n.04') = True              neg : pos    =      5.4 : 1.0\n",
      " Synset('farcical.s.01') = True              neg : pos    =      5.3 : 1.0\n",
      "Synset('atrophied.a.01') = True              neg : pos    =      5.3 : 1.0\n",
      "     Synset('awed.s.01') = True              neg : pos    =      5.2 : 1.0\n",
      "    Synset('waste.v.03') = True              neg : pos    =      5.1 : 1.0\n",
      "    Synset('waste.v.02') = True              neg : pos    =      5.1 : 1.0\n",
      "    Synset('waste.v.08') = True              neg : pos    =      5.1 : 1.0\n",
      "    Synset('waste.v.04') = True              neg : pos    =      5.1 : 1.0\n",
      "   Synset('welles.n.01') = True              neg : pos    =      5.0 : 1.0\n",
      " Synset('drudgery.n.01') = True              neg : pos    =      5.0 : 1.0\n",
      "Synset('fluctuate.v.02') = True              neg : pos    =      5.0 : 1.0\n",
      "    Synset('waste.v.10') = True              neg : pos    =      5.0 : 1.0\n",
      "  Synset('unravel.v.01') = True              pos : neg    =      5.0 : 1.0\n",
      "    Synset('ravel.v.01') = True              pos : neg    =      5.0 : 1.0\n",
      "    Synset('waste.n.02') = True              neg : pos    =      5.0 : 1.0\n",
      "    Synset('waste.n.05') = True              neg : pos    =      5.0 : 1.0\n",
      "    Synset('waste.n.01') = True              neg : pos    =      5.0 : 1.0\n",
      "Synset('thriftlessness.n.01') = True              neg : pos    =      5.0 : 1.0\n",
      "Synset('pine_away.v.01') = True              neg : pos    =      4.9 : 1.0\n"
     ]
    }
   ],
   "source": [
    "train_set, test_set = apply_features(document_features2, documents[100:]), apply_features(document_features2, documents[:100])\n",
    "classifier = nltk.NaiveBayesClassifier.train(train_set)\n",
    "print(nltk.classify.accuracy(classifier, test_set))\n",
    "classifier.show_most_informative_features(30)"
   ]
  },
  {
   "cell_type": "code",
   "execution_count": null,
   "metadata": {},
   "outputs": [],
   "source": []
  }
 ],
 "metadata": {
  "kernelspec": {
   "display_name": "Python 3",
   "language": "python",
   "name": "python3"
  },
  "language_info": {
   "codemirror_mode": {
    "name": "ipython",
    "version": 3
   },
   "file_extension": ".py",
   "mimetype": "text/x-python",
   "name": "python",
   "nbconvert_exporter": "python",
   "pygments_lexer": "ipython3",
   "version": "3.7.6"
  }
 },
 "nbformat": 4,
 "nbformat_minor": 2
}
